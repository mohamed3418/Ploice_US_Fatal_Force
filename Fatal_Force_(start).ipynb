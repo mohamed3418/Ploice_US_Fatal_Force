{
 "cells": [
  {
   "cell_type": "markdown",
   "metadata": {
    "id": "0KrR-Qd_wXf-"
   },
   "source": [
    "# Fatal_Force"
   ]
  },
  {
   "cell_type": "markdown",
   "metadata": {
    "id": "I6e2m4XsuRoL"
   },
   "source": [
    "Since Jan. 1, 2015, [The Washington Post](https://www.washingtonpost.com/) has been compiling a database of every fatal shooting in the US by a police officer in the line of duty. \n",
    "\n",
    "<center><img src=https://i.imgur.com/sX3K62b.png></center>\n",
    "\n",
    "While there are many challenges regarding data collection and reporting, The Washington Post has been tracking more than a dozen details about each killing. This includes the race, age and gender of the deceased, whether the person was armed, and whether the victim was experiencing a mental-health crisis. The Washington Post has gathered this supplemental information from law enforcement websites, local new reports, social media, and by monitoring independent databases such as \"Killed by police\" and \"Fatal Encounters\". The Post has also conducted additional reporting in many cases.\n",
    "\n",
    "There are 4 additional datasets: US census data on poverty rate, high school graduation rate, median household income, and racial demographics. [Source of census data](https://factfinder.census.gov/faces/nav/jsf/pages/community_facts.xhtml)."
   ]
  },
  {
   "cell_type": "markdown",
   "metadata": {
    "id": "JwGJl3mnw2Af"
   },
   "source": [
    "### Upgrade Plotly\n",
    "\n",
    "Run the cell below if you are working with Google Colab"
   ]
  },
  {
   "cell_type": "code",
   "execution_count": 260,
   "metadata": {
    "colab": {
     "base_uri": "https://localhost:8080/"
    },
    "id": "KvA9PBoRwvQG",
    "outputId": "ca6ee2a1-8da5-4f2d-f2b2-ea019cd92cae"
   },
   "outputs": [],
   "source": [
    "# %pip install --upgrade plotly"
   ]
  },
  {
   "cell_type": "markdown",
   "metadata": {
    "id": "jqXsMLNJxELp"
   },
   "source": [
    "## Import Statements"
   ]
  },
  {
   "cell_type": "code",
   "execution_count": 261,
   "metadata": {
    "id": "TPhEXC2FxGSr"
   },
   "outputs": [],
   "source": [
    "import numpy as np\n",
    "import pandas as pd\n",
    "import plotly.express as px\n",
    "import matplotlib.pyplot as plt\n",
    "import seaborn as sns\n",
    "import plotly.graph_objects as go\n",
    "# This might be helpful:\n",
    "from collections import Counter"
   ]
  },
  {
   "cell_type": "markdown",
   "metadata": {
    "id": "SwKGmmaLxS2s"
   },
   "source": [
    "## Notebook Presentation"
   ]
  },
  {
   "cell_type": "code",
   "execution_count": 262,
   "metadata": {
    "id": "ayQQqhKtxBxj"
   },
   "outputs": [],
   "source": [
    "pd.options.display.float_format = '{:,.2f}'.format"
   ]
  },
  {
   "cell_type": "markdown",
   "metadata": {
    "id": "nKxJMOiMyAUF"
   },
   "source": [
    "## Load the Data"
   ]
  },
  {
   "cell_type": "code",
   "execution_count": 263,
   "metadata": {
    "_cell_guid": "abb0685f-f844-43f8-84c0-4cd54361c7bf",
    "_uuid": "9c06ed7c41db79ae9d940f2d52aeff23621b3037",
    "id": "8KmGeg6ouRoP"
   },
   "outputs": [],
   "source": [
    "df_hh_income = pd.read_csv('Median_Household_Income_2015.csv', encoding=\"windows-1252\")\n",
    "df_pct_poverty = pd.read_csv('Pct_People_Below_Poverty_Level.csv', encoding=\"windows-1252\")\n",
    "df_pct_completed_hs = pd.read_csv('Pct_Over_25_Completed_High_School.csv', encoding=\"windows-1252\")\n",
    "df_share_race_city = pd.read_csv('Share_of_Race_By_City.csv', encoding=\"windows-1252\")\n",
    "df_fatalities = pd.read_csv('Deaths_by_Police_US.csv', encoding=\"windows-1252\")"
   ]
  },
  {
   "cell_type": "markdown",
   "metadata": {
    "id": "6RuA5SvUyEaB"
   },
   "source": [
    "# Preliminary Data Exploration\n",
    "\n",
    "* What is the shape of the DataFrames? \n",
    "* How many rows and columns do they have?\n",
    "* What are the column names?\n",
    "* Are there any NaN values or duplicates?"
   ]
  },
  {
   "cell_type": "code",
   "execution_count": 264,
   "metadata": {
    "id": "3U9RcS1WyrRJ"
   },
   "outputs": [
    {
     "name": "stdout",
     "output_type": "stream",
     "text": [
      "\n",
      "      fatalities        (2535, 14),\n",
      "      hh_income         (29322, 3),\n",
      "      pct_completed_hs  (29329, 3),\n",
      "      pct_poverty       (29329, 3),\n",
      "      share_race_city   (29268, 7)\n"
     ]
    }
   ],
   "source": [
    "#df shapes\n",
    "print(f'''\n",
    "      fatalities        {df_fatalities.shape},\n",
    "      hh_income         {df_hh_income.shape},\n",
    "      pct_completed_hs  {df_pct_completed_hs.shape},\n",
    "      pct_poverty       {df_pct_poverty.shape},\n",
    "      share_race_city   {df_share_race_city.shape}''')"
   ]
  },
  {
   "cell_type": "code",
   "execution_count": 265,
   "metadata": {
    "id": "DmIARadGyrgs"
   },
   "outputs": [
    {
     "name": "stdout",
     "output_type": "stream",
     "text": [
      "Index(['id', 'name', 'date', 'manner_of_death', 'armed', 'age', 'gender',\n",
      "       'race', 'city', 'state', 'signs_of_mental_illness', 'threat_level',\n",
      "       'flee', 'body_camera'],\n",
      "      dtype='object')\n",
      "Index(['Geographic Area', 'City', 'Median Income'], dtype='object')\n",
      "Index(['Geographic Area', 'City', 'percent_completed_hs'], dtype='object')\n",
      "Index(['Geographic Area', 'City', 'poverty_rate'], dtype='object')\n",
      "Index(['Geographic area', 'City', 'share_white', 'share_black',\n",
      "       'share_native_american', 'share_asian', 'share_hispanic'],\n",
      "      dtype='object')\n"
     ]
    }
   ],
   "source": [
    "print(df_fatalities.columns)\n",
    "print(df_hh_income.columns)\n",
    "print(df_pct_completed_hs.columns)\n",
    "print(df_pct_poverty.columns)\n",
    "print(df_share_race_city.columns)"
   ]
  },
  {
   "cell_type": "code",
   "execution_count": 266,
   "metadata": {
    "id": "OSgTJoX7yrcS"
   },
   "outputs": [
    {
     "name": "stdout",
     "output_type": "stream",
     "text": [
      "id                           0\n",
      "name                         0\n",
      "date                         0\n",
      "manner_of_death              0\n",
      "armed                        9\n",
      "age                         77\n",
      "gender                       0\n",
      "race                       195\n",
      "city                         0\n",
      "state                        0\n",
      "signs_of_mental_illness      0\n",
      "threat_level                 0\n",
      "flee                        65\n",
      "body_camera                  0\n",
      "dtype: int64\n",
      "----------------------------------------\n",
      "Geographic Area     0\n",
      "City                0\n",
      "Median Income      51\n",
      "dtype: int64\n",
      "----------------------------------------\n",
      "Geographic Area         0\n",
      "City                    0\n",
      "percent_completed_hs    0\n",
      "dtype: int64\n",
      "----------------------------------------\n",
      "Geographic Area    0\n",
      "City               0\n",
      "poverty_rate       0\n",
      "dtype: int64\n",
      "----------------------------------------\n",
      "Geographic area          0\n",
      "City                     0\n",
      "share_white              0\n",
      "share_black              0\n",
      "share_native_american    0\n",
      "share_asian              0\n",
      "share_hispanic           0\n",
      "dtype: int64\n"
     ]
    }
   ],
   "source": [
    "print(df_fatalities.isnull().sum())\n",
    "print('----------------------------------------')\n",
    "print(df_hh_income.isnull().sum())\n",
    "print('----------------------------------------')\n",
    "print(df_pct_completed_hs.isnull().sum())\n",
    "print('----------------------------------------')\n",
    "print(df_pct_poverty.isnull().sum())\n",
    "print('----------------------------------------')\n",
    "print(df_share_race_city.isnull().sum())"
   ]
  },
  {
   "cell_type": "code",
   "execution_count": 267,
   "metadata": {},
   "outputs": [],
   "source": [
    "def add_label(y):\n",
    "    for i, v in enumerate(y):\n",
    "        plt.text(i, v + 2, str(v), ha='center')"
   ]
  },
  {
   "cell_type": "markdown",
   "metadata": {
    "id": "p72TfMvayr2C"
   },
   "source": [
    "## Data Cleaning - Check for Missing Values and Duplicates\n",
    "\n",
    "Consider how to deal with the NaN values. Perhaps substituting 0 is appropriate. "
   ]
  },
  {
   "cell_type": "code",
   "execution_count": 268,
   "metadata": {
    "id": "WEZuPaXvyxxp"
   },
   "outputs": [],
   "source": [
    "# df_fatalities=df_fatalities.fillna(df_fatalities.mean)"
   ]
  },
  {
   "cell_type": "code",
   "execution_count": 269,
   "metadata": {
    "id": "550aSczryx01"
   },
   "outputs": [],
   "source": [
    "# df_hh_income=df_hh_income.fillna(df_hh_income.mean)"
   ]
  },
  {
   "cell_type": "markdown",
   "metadata": {
    "_uuid": "52b308c936f5835c5cd186497fe3f96e96372483",
    "id": "n3DrcXVQuRoZ"
   },
   "source": [
    "# Chart the Poverty Rate in each US State\n",
    "\n",
    "Create a bar chart that ranks the poverty rate from highest to lowest by US state. Which state has the highest poverty rate? Which state has the lowest poverty rate?  Bar Plot"
   ]
  },
  {
   "cell_type": "code",
   "execution_count": 270,
   "metadata": {},
   "outputs": [],
   "source": [
    "df_pct_poverty['poverty_rate'] =df_pct_poverty['poverty_rate'].replace('-','')\n"
   ]
  },
  {
   "cell_type": "code",
   "execution_count": 271,
   "metadata": {},
   "outputs": [],
   "source": [
    "#change data type\n",
    "df_pct_poverty['poverty_rate'] = pd.to_numeric(df_pct_poverty['poverty_rate'] ,downcast='float' )"
   ]
  },
  {
   "cell_type": "code",
   "execution_count": 272,
   "metadata": {},
   "outputs": [],
   "source": [
    "df_pct_poverty2=df_pct_poverty.groupby(['Geographic Area'],as_index=False).agg({'poverty_rate':pd.Series.mean})\n",
    "df_pct_poverty2.sort_values(by='poverty_rate',ascending=False,inplace=True)"
   ]
  },
  {
   "cell_type": "code",
   "execution_count": 273,
   "metadata": {
    "id": "mGxEzMDqzqmn"
   },
   "outputs": [],
   "source": [
    "df_pct_poverty['poverty_rate'] = pd.to_numeric(df_pct_poverty['poverty_rate'],downcast='float' )\n"
   ]
  },
  {
   "cell_type": "code",
   "execution_count": 274,
   "metadata": {
    "id": "B3AM6oJQ1D_P"
   },
   "outputs": [
    {
     "data": {
      "application/vnd.plotly.v1+json": {
       "config": {
        "plotlyServerURL": "https://plot.ly"
       },
       "data": [
        {
         "alignmentgroup": "True",
         "hovertemplate": "Geographic Area=%{x}<br>poverty_rate=%{marker.color}<extra></extra>",
         "legendgroup": "",
         "marker": {
          "color": [
           26.884258270263672,
           25.66645050048828,
           23.777406692504883,
           23.08078956604004,
           22.963211059570312,
           22.338897705078125,
           22.161514282226562,
           21.134403228759766,
           20.657081604003906,
           20.6470890045166,
           20.105865478515625,
           20.080007553100586,
           19.9180850982666,
           19.887210845947266,
           19.852994918823242,
           19.74727439880371,
           18.236888885498047,
           18,
           17.900712966918945,
           17.566017150878906,
           17.12464714050293,
           16.893848419189453,
           16.523468017578125,
           16.513778686523438,
           16.03229522705078,
           15.499852180480957,
           15.017595291137695,
           14.851110458374023,
           14.762998580932617,
           14.585835456848145,
           13.879790306091309,
           13.785950660705566,
           13.745733261108398,
           13.400666236877441,
           13.362833023071289,
           12.984570503234863,
           12.858681678771973,
           12.65979290008545,
           12.555842399597168,
           12.515586853027344,
           12.46615219116211,
           12.292520523071289,
           12.162250518798828,
           11.982707977294922,
           11.66822624206543,
           10.369444847106934,
           10.312204360961914,
           9.887702941894531,
           9.58530330657959,
           9.137497901916504,
           8.190974235534668
          ],
          "coloraxis": "coloraxis",
          "pattern": {
           "shape": ""
          }
         },
         "name": "",
         "offsetgroup": "",
         "orientation": "v",
         "showlegend": false,
         "textposition": "auto",
         "type": "bar",
         "x": [
          "MS",
          "AZ",
          "GA",
          "NM",
          "AR",
          "LA",
          "SC",
          "WV",
          "OK",
          "AL",
          "MO",
          "KY",
          "TX",
          "TN",
          "AK",
          "NC",
          "ID",
          "DC",
          "MI",
          "FL",
          "CA",
          "ME",
          "OR",
          "MT",
          "SD",
          "IN",
          "WA",
          "OH",
          "KS",
          "VA",
          "IL",
          "VT",
          "MN",
          "HI",
          "CO",
          "NE",
          "WI",
          "NH",
          "DE",
          "PA",
          "NV",
          "IA",
          "ND",
          "UT",
          "NY",
          "RI",
          "MD",
          "WY",
          "MA",
          "CT",
          "NJ"
         ],
         "xaxis": "x",
         "y": [
          26.884258270263672,
          25.66645050048828,
          23.777406692504883,
          23.08078956604004,
          22.963211059570312,
          22.338897705078125,
          22.161514282226562,
          21.134403228759766,
          20.657081604003906,
          20.6470890045166,
          20.105865478515625,
          20.080007553100586,
          19.9180850982666,
          19.887210845947266,
          19.852994918823242,
          19.74727439880371,
          18.236888885498047,
          18,
          17.900712966918945,
          17.566017150878906,
          17.12464714050293,
          16.893848419189453,
          16.523468017578125,
          16.513778686523438,
          16.03229522705078,
          15.499852180480957,
          15.017595291137695,
          14.851110458374023,
          14.762998580932617,
          14.585835456848145,
          13.879790306091309,
          13.785950660705566,
          13.745733261108398,
          13.400666236877441,
          13.362833023071289,
          12.984570503234863,
          12.858681678771973,
          12.65979290008545,
          12.555842399597168,
          12.515586853027344,
          12.46615219116211,
          12.292520523071289,
          12.162250518798828,
          11.982707977294922,
          11.66822624206543,
          10.369444847106934,
          10.312204360961914,
          9.887702941894531,
          9.58530330657959,
          9.137497901916504,
          8.190974235534668
         ],
         "yaxis": "y"
        }
       ],
       "layout": {
        "barmode": "relative",
        "coloraxis": {
         "colorbar": {
          "title": {
           "text": "poverty_rate"
          }
         },
         "colorscale": [
          [
           0,
           "rgb(36, 86, 104)"
          ],
          [
           0.16666666666666666,
           "rgb(15, 114, 121)"
          ],
          [
           0.3333333333333333,
           "rgb(13, 143, 129)"
          ],
          [
           0.5,
           "rgb(57, 171, 126)"
          ],
          [
           0.6666666666666666,
           "rgb(110, 197, 116)"
          ],
          [
           0.8333333333333334,
           "rgb(169, 220, 103)"
          ],
          [
           1,
           "rgb(237, 239, 93)"
          ]
         ]
        },
        "legend": {
         "tracegroupgap": 0
        },
        "template": {
         "data": {
          "bar": [
           {
            "error_x": {
             "color": "#2a3f5f"
            },
            "error_y": {
             "color": "#2a3f5f"
            },
            "marker": {
             "line": {
              "color": "#E5ECF6",
              "width": 0.5
             },
             "pattern": {
              "fillmode": "overlay",
              "size": 10,
              "solidity": 0.2
             }
            },
            "type": "bar"
           }
          ],
          "barpolar": [
           {
            "marker": {
             "line": {
              "color": "#E5ECF6",
              "width": 0.5
             },
             "pattern": {
              "fillmode": "overlay",
              "size": 10,
              "solidity": 0.2
             }
            },
            "type": "barpolar"
           }
          ],
          "carpet": [
           {
            "aaxis": {
             "endlinecolor": "#2a3f5f",
             "gridcolor": "white",
             "linecolor": "white",
             "minorgridcolor": "white",
             "startlinecolor": "#2a3f5f"
            },
            "baxis": {
             "endlinecolor": "#2a3f5f",
             "gridcolor": "white",
             "linecolor": "white",
             "minorgridcolor": "white",
             "startlinecolor": "#2a3f5f"
            },
            "type": "carpet"
           }
          ],
          "choropleth": [
           {
            "colorbar": {
             "outlinewidth": 0,
             "ticks": ""
            },
            "type": "choropleth"
           }
          ],
          "contour": [
           {
            "colorbar": {
             "outlinewidth": 0,
             "ticks": ""
            },
            "colorscale": [
             [
              0,
              "#0d0887"
             ],
             [
              0.1111111111111111,
              "#46039f"
             ],
             [
              0.2222222222222222,
              "#7201a8"
             ],
             [
              0.3333333333333333,
              "#9c179e"
             ],
             [
              0.4444444444444444,
              "#bd3786"
             ],
             [
              0.5555555555555556,
              "#d8576b"
             ],
             [
              0.6666666666666666,
              "#ed7953"
             ],
             [
              0.7777777777777778,
              "#fb9f3a"
             ],
             [
              0.8888888888888888,
              "#fdca26"
             ],
             [
              1,
              "#f0f921"
             ]
            ],
            "type": "contour"
           }
          ],
          "contourcarpet": [
           {
            "colorbar": {
             "outlinewidth": 0,
             "ticks": ""
            },
            "type": "contourcarpet"
           }
          ],
          "heatmap": [
           {
            "colorbar": {
             "outlinewidth": 0,
             "ticks": ""
            },
            "colorscale": [
             [
              0,
              "#0d0887"
             ],
             [
              0.1111111111111111,
              "#46039f"
             ],
             [
              0.2222222222222222,
              "#7201a8"
             ],
             [
              0.3333333333333333,
              "#9c179e"
             ],
             [
              0.4444444444444444,
              "#bd3786"
             ],
             [
              0.5555555555555556,
              "#d8576b"
             ],
             [
              0.6666666666666666,
              "#ed7953"
             ],
             [
              0.7777777777777778,
              "#fb9f3a"
             ],
             [
              0.8888888888888888,
              "#fdca26"
             ],
             [
              1,
              "#f0f921"
             ]
            ],
            "type": "heatmap"
           }
          ],
          "heatmapgl": [
           {
            "colorbar": {
             "outlinewidth": 0,
             "ticks": ""
            },
            "colorscale": [
             [
              0,
              "#0d0887"
             ],
             [
              0.1111111111111111,
              "#46039f"
             ],
             [
              0.2222222222222222,
              "#7201a8"
             ],
             [
              0.3333333333333333,
              "#9c179e"
             ],
             [
              0.4444444444444444,
              "#bd3786"
             ],
             [
              0.5555555555555556,
              "#d8576b"
             ],
             [
              0.6666666666666666,
              "#ed7953"
             ],
             [
              0.7777777777777778,
              "#fb9f3a"
             ],
             [
              0.8888888888888888,
              "#fdca26"
             ],
             [
              1,
              "#f0f921"
             ]
            ],
            "type": "heatmapgl"
           }
          ],
          "histogram": [
           {
            "marker": {
             "pattern": {
              "fillmode": "overlay",
              "size": 10,
              "solidity": 0.2
             }
            },
            "type": "histogram"
           }
          ],
          "histogram2d": [
           {
            "colorbar": {
             "outlinewidth": 0,
             "ticks": ""
            },
            "colorscale": [
             [
              0,
              "#0d0887"
             ],
             [
              0.1111111111111111,
              "#46039f"
             ],
             [
              0.2222222222222222,
              "#7201a8"
             ],
             [
              0.3333333333333333,
              "#9c179e"
             ],
             [
              0.4444444444444444,
              "#bd3786"
             ],
             [
              0.5555555555555556,
              "#d8576b"
             ],
             [
              0.6666666666666666,
              "#ed7953"
             ],
             [
              0.7777777777777778,
              "#fb9f3a"
             ],
             [
              0.8888888888888888,
              "#fdca26"
             ],
             [
              1,
              "#f0f921"
             ]
            ],
            "type": "histogram2d"
           }
          ],
          "histogram2dcontour": [
           {
            "colorbar": {
             "outlinewidth": 0,
             "ticks": ""
            },
            "colorscale": [
             [
              0,
              "#0d0887"
             ],
             [
              0.1111111111111111,
              "#46039f"
             ],
             [
              0.2222222222222222,
              "#7201a8"
             ],
             [
              0.3333333333333333,
              "#9c179e"
             ],
             [
              0.4444444444444444,
              "#bd3786"
             ],
             [
              0.5555555555555556,
              "#d8576b"
             ],
             [
              0.6666666666666666,
              "#ed7953"
             ],
             [
              0.7777777777777778,
              "#fb9f3a"
             ],
             [
              0.8888888888888888,
              "#fdca26"
             ],
             [
              1,
              "#f0f921"
             ]
            ],
            "type": "histogram2dcontour"
           }
          ],
          "mesh3d": [
           {
            "colorbar": {
             "outlinewidth": 0,
             "ticks": ""
            },
            "type": "mesh3d"
           }
          ],
          "parcoords": [
           {
            "line": {
             "colorbar": {
              "outlinewidth": 0,
              "ticks": ""
             }
            },
            "type": "parcoords"
           }
          ],
          "pie": [
           {
            "automargin": true,
            "type": "pie"
           }
          ],
          "scatter": [
           {
            "fillpattern": {
             "fillmode": "overlay",
             "size": 10,
             "solidity": 0.2
            },
            "type": "scatter"
           }
          ],
          "scatter3d": [
           {
            "line": {
             "colorbar": {
              "outlinewidth": 0,
              "ticks": ""
             }
            },
            "marker": {
             "colorbar": {
              "outlinewidth": 0,
              "ticks": ""
             }
            },
            "type": "scatter3d"
           }
          ],
          "scattercarpet": [
           {
            "marker": {
             "colorbar": {
              "outlinewidth": 0,
              "ticks": ""
             }
            },
            "type": "scattercarpet"
           }
          ],
          "scattergeo": [
           {
            "marker": {
             "colorbar": {
              "outlinewidth": 0,
              "ticks": ""
             }
            },
            "type": "scattergeo"
           }
          ],
          "scattergl": [
           {
            "marker": {
             "colorbar": {
              "outlinewidth": 0,
              "ticks": ""
             }
            },
            "type": "scattergl"
           }
          ],
          "scattermapbox": [
           {
            "marker": {
             "colorbar": {
              "outlinewidth": 0,
              "ticks": ""
             }
            },
            "type": "scattermapbox"
           }
          ],
          "scatterpolar": [
           {
            "marker": {
             "colorbar": {
              "outlinewidth": 0,
              "ticks": ""
             }
            },
            "type": "scatterpolar"
           }
          ],
          "scatterpolargl": [
           {
            "marker": {
             "colorbar": {
              "outlinewidth": 0,
              "ticks": ""
             }
            },
            "type": "scatterpolargl"
           }
          ],
          "scatterternary": [
           {
            "marker": {
             "colorbar": {
              "outlinewidth": 0,
              "ticks": ""
             }
            },
            "type": "scatterternary"
           }
          ],
          "surface": [
           {
            "colorbar": {
             "outlinewidth": 0,
             "ticks": ""
            },
            "colorscale": [
             [
              0,
              "#0d0887"
             ],
             [
              0.1111111111111111,
              "#46039f"
             ],
             [
              0.2222222222222222,
              "#7201a8"
             ],
             [
              0.3333333333333333,
              "#9c179e"
             ],
             [
              0.4444444444444444,
              "#bd3786"
             ],
             [
              0.5555555555555556,
              "#d8576b"
             ],
             [
              0.6666666666666666,
              "#ed7953"
             ],
             [
              0.7777777777777778,
              "#fb9f3a"
             ],
             [
              0.8888888888888888,
              "#fdca26"
             ],
             [
              1,
              "#f0f921"
             ]
            ],
            "type": "surface"
           }
          ],
          "table": [
           {
            "cells": {
             "fill": {
              "color": "#EBF0F8"
             },
             "line": {
              "color": "white"
             }
            },
            "header": {
             "fill": {
              "color": "#C8D4E3"
             },
             "line": {
              "color": "white"
             }
            },
            "type": "table"
           }
          ]
         },
         "layout": {
          "annotationdefaults": {
           "arrowcolor": "#2a3f5f",
           "arrowhead": 0,
           "arrowwidth": 1
          },
          "autotypenumbers": "strict",
          "coloraxis": {
           "colorbar": {
            "outlinewidth": 0,
            "ticks": ""
           }
          },
          "colorscale": {
           "diverging": [
            [
             0,
             "#8e0152"
            ],
            [
             0.1,
             "#c51b7d"
            ],
            [
             0.2,
             "#de77ae"
            ],
            [
             0.3,
             "#f1b6da"
            ],
            [
             0.4,
             "#fde0ef"
            ],
            [
             0.5,
             "#f7f7f7"
            ],
            [
             0.6,
             "#e6f5d0"
            ],
            [
             0.7,
             "#b8e186"
            ],
            [
             0.8,
             "#7fbc41"
            ],
            [
             0.9,
             "#4d9221"
            ],
            [
             1,
             "#276419"
            ]
           ],
           "sequential": [
            [
             0,
             "#0d0887"
            ],
            [
             0.1111111111111111,
             "#46039f"
            ],
            [
             0.2222222222222222,
             "#7201a8"
            ],
            [
             0.3333333333333333,
             "#9c179e"
            ],
            [
             0.4444444444444444,
             "#bd3786"
            ],
            [
             0.5555555555555556,
             "#d8576b"
            ],
            [
             0.6666666666666666,
             "#ed7953"
            ],
            [
             0.7777777777777778,
             "#fb9f3a"
            ],
            [
             0.8888888888888888,
             "#fdca26"
            ],
            [
             1,
             "#f0f921"
            ]
           ],
           "sequentialminus": [
            [
             0,
             "#0d0887"
            ],
            [
             0.1111111111111111,
             "#46039f"
            ],
            [
             0.2222222222222222,
             "#7201a8"
            ],
            [
             0.3333333333333333,
             "#9c179e"
            ],
            [
             0.4444444444444444,
             "#bd3786"
            ],
            [
             0.5555555555555556,
             "#d8576b"
            ],
            [
             0.6666666666666666,
             "#ed7953"
            ],
            [
             0.7777777777777778,
             "#fb9f3a"
            ],
            [
             0.8888888888888888,
             "#fdca26"
            ],
            [
             1,
             "#f0f921"
            ]
           ]
          },
          "colorway": [
           "#636efa",
           "#EF553B",
           "#00cc96",
           "#ab63fa",
           "#FFA15A",
           "#19d3f3",
           "#FF6692",
           "#B6E880",
           "#FF97FF",
           "#FECB52"
          ],
          "font": {
           "color": "#2a3f5f"
          },
          "geo": {
           "bgcolor": "white",
           "lakecolor": "white",
           "landcolor": "#E5ECF6",
           "showlakes": true,
           "showland": true,
           "subunitcolor": "white"
          },
          "hoverlabel": {
           "align": "left"
          },
          "hovermode": "closest",
          "mapbox": {
           "style": "light"
          },
          "paper_bgcolor": "white",
          "plot_bgcolor": "#E5ECF6",
          "polar": {
           "angularaxis": {
            "gridcolor": "white",
            "linecolor": "white",
            "ticks": ""
           },
           "bgcolor": "#E5ECF6",
           "radialaxis": {
            "gridcolor": "white",
            "linecolor": "white",
            "ticks": ""
           }
          },
          "scene": {
           "xaxis": {
            "backgroundcolor": "#E5ECF6",
            "gridcolor": "white",
            "gridwidth": 2,
            "linecolor": "white",
            "showbackground": true,
            "ticks": "",
            "zerolinecolor": "white"
           },
           "yaxis": {
            "backgroundcolor": "#E5ECF6",
            "gridcolor": "white",
            "gridwidth": 2,
            "linecolor": "white",
            "showbackground": true,
            "ticks": "",
            "zerolinecolor": "white"
           },
           "zaxis": {
            "backgroundcolor": "#E5ECF6",
            "gridcolor": "white",
            "gridwidth": 2,
            "linecolor": "white",
            "showbackground": true,
            "ticks": "",
            "zerolinecolor": "white"
           }
          },
          "shapedefaults": {
           "line": {
            "color": "#2a3f5f"
           }
          },
          "ternary": {
           "aaxis": {
            "gridcolor": "white",
            "linecolor": "white",
            "ticks": ""
           },
           "baxis": {
            "gridcolor": "white",
            "linecolor": "white",
            "ticks": ""
           },
           "bgcolor": "#E5ECF6",
           "caxis": {
            "gridcolor": "white",
            "linecolor": "white",
            "ticks": ""
           }
          },
          "title": {
           "x": 0.05
          },
          "xaxis": {
           "automargin": true,
           "gridcolor": "white",
           "linecolor": "white",
           "ticks": "",
           "title": {
            "standoff": 15
           },
           "zerolinecolor": "white",
           "zerolinewidth": 2
          },
          "yaxis": {
           "automargin": true,
           "gridcolor": "white",
           "linecolor": "white",
           "ticks": "",
           "title": {
            "standoff": 15
           },
           "zerolinecolor": "white",
           "zerolinewidth": 2
          }
         }
        },
        "title": {
         "text": "Poverty Rate by US State"
        },
        "xaxis": {
         "anchor": "y",
         "domain": [
          0,
          1
         ],
         "title": {
          "text": "Geographic Area"
         }
        },
        "yaxis": {
         "anchor": "x",
         "domain": [
          0,
          1
         ],
         "title": {
          "text": "poverty_rate"
         }
        }
       }
      },
      "text/html": [
       "<div>                            <div id=\"d5693861-3718-4094-b145-2b19c5d1137c\" class=\"plotly-graph-div\" style=\"height:525px; width:100%;\"></div>            <script type=\"text/javascript\">                require([\"plotly\"], function(Plotly) {                    window.PLOTLYENV=window.PLOTLYENV || {};                                    if (document.getElementById(\"d5693861-3718-4094-b145-2b19c5d1137c\")) {                    Plotly.newPlot(                        \"d5693861-3718-4094-b145-2b19c5d1137c\",                        [{\"alignmentgroup\":\"True\",\"hovertemplate\":\"Geographic Area=%{x}\\u003cbr\\u003epoverty_rate=%{marker.color}\\u003cextra\\u003e\\u003c\\u002fextra\\u003e\",\"legendgroup\":\"\",\"marker\":{\"color\":[26.884258270263672,25.66645050048828,23.777406692504883,23.08078956604004,22.963211059570312,22.338897705078125,22.161514282226562,21.134403228759766,20.657081604003906,20.6470890045166,20.105865478515625,20.080007553100586,19.9180850982666,19.887210845947266,19.852994918823242,19.74727439880371,18.236888885498047,18.0,17.900712966918945,17.566017150878906,17.12464714050293,16.893848419189453,16.523468017578125,16.513778686523438,16.03229522705078,15.499852180480957,15.017595291137695,14.851110458374023,14.762998580932617,14.585835456848145,13.879790306091309,13.785950660705566,13.745733261108398,13.400666236877441,13.362833023071289,12.984570503234863,12.858681678771973,12.65979290008545,12.555842399597168,12.515586853027344,12.46615219116211,12.292520523071289,12.162250518798828,11.982707977294922,11.66822624206543,10.369444847106934,10.312204360961914,9.887702941894531,9.58530330657959,9.137497901916504,8.190974235534668],\"coloraxis\":\"coloraxis\",\"pattern\":{\"shape\":\"\"}},\"name\":\"\",\"offsetgroup\":\"\",\"orientation\":\"v\",\"showlegend\":false,\"textposition\":\"auto\",\"x\":[\"MS\",\"AZ\",\"GA\",\"NM\",\"AR\",\"LA\",\"SC\",\"WV\",\"OK\",\"AL\",\"MO\",\"KY\",\"TX\",\"TN\",\"AK\",\"NC\",\"ID\",\"DC\",\"MI\",\"FL\",\"CA\",\"ME\",\"OR\",\"MT\",\"SD\",\"IN\",\"WA\",\"OH\",\"KS\",\"VA\",\"IL\",\"VT\",\"MN\",\"HI\",\"CO\",\"NE\",\"WI\",\"NH\",\"DE\",\"PA\",\"NV\",\"IA\",\"ND\",\"UT\",\"NY\",\"RI\",\"MD\",\"WY\",\"MA\",\"CT\",\"NJ\"],\"xaxis\":\"x\",\"y\":[26.884258270263672,25.66645050048828,23.777406692504883,23.08078956604004,22.963211059570312,22.338897705078125,22.161514282226562,21.134403228759766,20.657081604003906,20.6470890045166,20.105865478515625,20.080007553100586,19.9180850982666,19.887210845947266,19.852994918823242,19.74727439880371,18.236888885498047,18.0,17.900712966918945,17.566017150878906,17.12464714050293,16.893848419189453,16.523468017578125,16.513778686523438,16.03229522705078,15.499852180480957,15.017595291137695,14.851110458374023,14.762998580932617,14.585835456848145,13.879790306091309,13.785950660705566,13.745733261108398,13.400666236877441,13.362833023071289,12.984570503234863,12.858681678771973,12.65979290008545,12.555842399597168,12.515586853027344,12.46615219116211,12.292520523071289,12.162250518798828,11.982707977294922,11.66822624206543,10.369444847106934,10.312204360961914,9.887702941894531,9.58530330657959,9.137497901916504,8.190974235534668],\"yaxis\":\"y\",\"type\":\"bar\"}],                        {\"template\":{\"data\":{\"histogram2dcontour\":[{\"type\":\"histogram2dcontour\",\"colorbar\":{\"outlinewidth\":0,\"ticks\":\"\"},\"colorscale\":[[0.0,\"#0d0887\"],[0.1111111111111111,\"#46039f\"],[0.2222222222222222,\"#7201a8\"],[0.3333333333333333,\"#9c179e\"],[0.4444444444444444,\"#bd3786\"],[0.5555555555555556,\"#d8576b\"],[0.6666666666666666,\"#ed7953\"],[0.7777777777777778,\"#fb9f3a\"],[0.8888888888888888,\"#fdca26\"],[1.0,\"#f0f921\"]]}],\"choropleth\":[{\"type\":\"choropleth\",\"colorbar\":{\"outlinewidth\":0,\"ticks\":\"\"}}],\"histogram2d\":[{\"type\":\"histogram2d\",\"colorbar\":{\"outlinewidth\":0,\"ticks\":\"\"},\"colorscale\":[[0.0,\"#0d0887\"],[0.1111111111111111,\"#46039f\"],[0.2222222222222222,\"#7201a8\"],[0.3333333333333333,\"#9c179e\"],[0.4444444444444444,\"#bd3786\"],[0.5555555555555556,\"#d8576b\"],[0.6666666666666666,\"#ed7953\"],[0.7777777777777778,\"#fb9f3a\"],[0.8888888888888888,\"#fdca26\"],[1.0,\"#f0f921\"]]}],\"heatmap\":[{\"type\":\"heatmap\",\"colorbar\":{\"outlinewidth\":0,\"ticks\":\"\"},\"colorscale\":[[0.0,\"#0d0887\"],[0.1111111111111111,\"#46039f\"],[0.2222222222222222,\"#7201a8\"],[0.3333333333333333,\"#9c179e\"],[0.4444444444444444,\"#bd3786\"],[0.5555555555555556,\"#d8576b\"],[0.6666666666666666,\"#ed7953\"],[0.7777777777777778,\"#fb9f3a\"],[0.8888888888888888,\"#fdca26\"],[1.0,\"#f0f921\"]]}],\"heatmapgl\":[{\"type\":\"heatmapgl\",\"colorbar\":{\"outlinewidth\":0,\"ticks\":\"\"},\"colorscale\":[[0.0,\"#0d0887\"],[0.1111111111111111,\"#46039f\"],[0.2222222222222222,\"#7201a8\"],[0.3333333333333333,\"#9c179e\"],[0.4444444444444444,\"#bd3786\"],[0.5555555555555556,\"#d8576b\"],[0.6666666666666666,\"#ed7953\"],[0.7777777777777778,\"#fb9f3a\"],[0.8888888888888888,\"#fdca26\"],[1.0,\"#f0f921\"]]}],\"contourcarpet\":[{\"type\":\"contourcarpet\",\"colorbar\":{\"outlinewidth\":0,\"ticks\":\"\"}}],\"contour\":[{\"type\":\"contour\",\"colorbar\":{\"outlinewidth\":0,\"ticks\":\"\"},\"colorscale\":[[0.0,\"#0d0887\"],[0.1111111111111111,\"#46039f\"],[0.2222222222222222,\"#7201a8\"],[0.3333333333333333,\"#9c179e\"],[0.4444444444444444,\"#bd3786\"],[0.5555555555555556,\"#d8576b\"],[0.6666666666666666,\"#ed7953\"],[0.7777777777777778,\"#fb9f3a\"],[0.8888888888888888,\"#fdca26\"],[1.0,\"#f0f921\"]]}],\"surface\":[{\"type\":\"surface\",\"colorbar\":{\"outlinewidth\":0,\"ticks\":\"\"},\"colorscale\":[[0.0,\"#0d0887\"],[0.1111111111111111,\"#46039f\"],[0.2222222222222222,\"#7201a8\"],[0.3333333333333333,\"#9c179e\"],[0.4444444444444444,\"#bd3786\"],[0.5555555555555556,\"#d8576b\"],[0.6666666666666666,\"#ed7953\"],[0.7777777777777778,\"#fb9f3a\"],[0.8888888888888888,\"#fdca26\"],[1.0,\"#f0f921\"]]}],\"mesh3d\":[{\"type\":\"mesh3d\",\"colorbar\":{\"outlinewidth\":0,\"ticks\":\"\"}}],\"scatter\":[{\"fillpattern\":{\"fillmode\":\"overlay\",\"size\":10,\"solidity\":0.2},\"type\":\"scatter\"}],\"parcoords\":[{\"type\":\"parcoords\",\"line\":{\"colorbar\":{\"outlinewidth\":0,\"ticks\":\"\"}}}],\"scatterpolargl\":[{\"type\":\"scatterpolargl\",\"marker\":{\"colorbar\":{\"outlinewidth\":0,\"ticks\":\"\"}}}],\"bar\":[{\"error_x\":{\"color\":\"#2a3f5f\"},\"error_y\":{\"color\":\"#2a3f5f\"},\"marker\":{\"line\":{\"color\":\"#E5ECF6\",\"width\":0.5},\"pattern\":{\"fillmode\":\"overlay\",\"size\":10,\"solidity\":0.2}},\"type\":\"bar\"}],\"scattergeo\":[{\"type\":\"scattergeo\",\"marker\":{\"colorbar\":{\"outlinewidth\":0,\"ticks\":\"\"}}}],\"scatterpolar\":[{\"type\":\"scatterpolar\",\"marker\":{\"colorbar\":{\"outlinewidth\":0,\"ticks\":\"\"}}}],\"histogram\":[{\"marker\":{\"pattern\":{\"fillmode\":\"overlay\",\"size\":10,\"solidity\":0.2}},\"type\":\"histogram\"}],\"scattergl\":[{\"type\":\"scattergl\",\"marker\":{\"colorbar\":{\"outlinewidth\":0,\"ticks\":\"\"}}}],\"scatter3d\":[{\"type\":\"scatter3d\",\"line\":{\"colorbar\":{\"outlinewidth\":0,\"ticks\":\"\"}},\"marker\":{\"colorbar\":{\"outlinewidth\":0,\"ticks\":\"\"}}}],\"scattermapbox\":[{\"type\":\"scattermapbox\",\"marker\":{\"colorbar\":{\"outlinewidth\":0,\"ticks\":\"\"}}}],\"scatterternary\":[{\"type\":\"scatterternary\",\"marker\":{\"colorbar\":{\"outlinewidth\":0,\"ticks\":\"\"}}}],\"scattercarpet\":[{\"type\":\"scattercarpet\",\"marker\":{\"colorbar\":{\"outlinewidth\":0,\"ticks\":\"\"}}}],\"carpet\":[{\"aaxis\":{\"endlinecolor\":\"#2a3f5f\",\"gridcolor\":\"white\",\"linecolor\":\"white\",\"minorgridcolor\":\"white\",\"startlinecolor\":\"#2a3f5f\"},\"baxis\":{\"endlinecolor\":\"#2a3f5f\",\"gridcolor\":\"white\",\"linecolor\":\"white\",\"minorgridcolor\":\"white\",\"startlinecolor\":\"#2a3f5f\"},\"type\":\"carpet\"}],\"table\":[{\"cells\":{\"fill\":{\"color\":\"#EBF0F8\"},\"line\":{\"color\":\"white\"}},\"header\":{\"fill\":{\"color\":\"#C8D4E3\"},\"line\":{\"color\":\"white\"}},\"type\":\"table\"}],\"barpolar\":[{\"marker\":{\"line\":{\"color\":\"#E5ECF6\",\"width\":0.5},\"pattern\":{\"fillmode\":\"overlay\",\"size\":10,\"solidity\":0.2}},\"type\":\"barpolar\"}],\"pie\":[{\"automargin\":true,\"type\":\"pie\"}]},\"layout\":{\"autotypenumbers\":\"strict\",\"colorway\":[\"#636efa\",\"#EF553B\",\"#00cc96\",\"#ab63fa\",\"#FFA15A\",\"#19d3f3\",\"#FF6692\",\"#B6E880\",\"#FF97FF\",\"#FECB52\"],\"font\":{\"color\":\"#2a3f5f\"},\"hovermode\":\"closest\",\"hoverlabel\":{\"align\":\"left\"},\"paper_bgcolor\":\"white\",\"plot_bgcolor\":\"#E5ECF6\",\"polar\":{\"bgcolor\":\"#E5ECF6\",\"angularaxis\":{\"gridcolor\":\"white\",\"linecolor\":\"white\",\"ticks\":\"\"},\"radialaxis\":{\"gridcolor\":\"white\",\"linecolor\":\"white\",\"ticks\":\"\"}},\"ternary\":{\"bgcolor\":\"#E5ECF6\",\"aaxis\":{\"gridcolor\":\"white\",\"linecolor\":\"white\",\"ticks\":\"\"},\"baxis\":{\"gridcolor\":\"white\",\"linecolor\":\"white\",\"ticks\":\"\"},\"caxis\":{\"gridcolor\":\"white\",\"linecolor\":\"white\",\"ticks\":\"\"}},\"coloraxis\":{\"colorbar\":{\"outlinewidth\":0,\"ticks\":\"\"}},\"colorscale\":{\"sequential\":[[0.0,\"#0d0887\"],[0.1111111111111111,\"#46039f\"],[0.2222222222222222,\"#7201a8\"],[0.3333333333333333,\"#9c179e\"],[0.4444444444444444,\"#bd3786\"],[0.5555555555555556,\"#d8576b\"],[0.6666666666666666,\"#ed7953\"],[0.7777777777777778,\"#fb9f3a\"],[0.8888888888888888,\"#fdca26\"],[1.0,\"#f0f921\"]],\"sequentialminus\":[[0.0,\"#0d0887\"],[0.1111111111111111,\"#46039f\"],[0.2222222222222222,\"#7201a8\"],[0.3333333333333333,\"#9c179e\"],[0.4444444444444444,\"#bd3786\"],[0.5555555555555556,\"#d8576b\"],[0.6666666666666666,\"#ed7953\"],[0.7777777777777778,\"#fb9f3a\"],[0.8888888888888888,\"#fdca26\"],[1.0,\"#f0f921\"]],\"diverging\":[[0,\"#8e0152\"],[0.1,\"#c51b7d\"],[0.2,\"#de77ae\"],[0.3,\"#f1b6da\"],[0.4,\"#fde0ef\"],[0.5,\"#f7f7f7\"],[0.6,\"#e6f5d0\"],[0.7,\"#b8e186\"],[0.8,\"#7fbc41\"],[0.9,\"#4d9221\"],[1,\"#276419\"]]},\"xaxis\":{\"gridcolor\":\"white\",\"linecolor\":\"white\",\"ticks\":\"\",\"title\":{\"standoff\":15},\"zerolinecolor\":\"white\",\"automargin\":true,\"zerolinewidth\":2},\"yaxis\":{\"gridcolor\":\"white\",\"linecolor\":\"white\",\"ticks\":\"\",\"title\":{\"standoff\":15},\"zerolinecolor\":\"white\",\"automargin\":true,\"zerolinewidth\":2},\"scene\":{\"xaxis\":{\"backgroundcolor\":\"#E5ECF6\",\"gridcolor\":\"white\",\"linecolor\":\"white\",\"showbackground\":true,\"ticks\":\"\",\"zerolinecolor\":\"white\",\"gridwidth\":2},\"yaxis\":{\"backgroundcolor\":\"#E5ECF6\",\"gridcolor\":\"white\",\"linecolor\":\"white\",\"showbackground\":true,\"ticks\":\"\",\"zerolinecolor\":\"white\",\"gridwidth\":2},\"zaxis\":{\"backgroundcolor\":\"#E5ECF6\",\"gridcolor\":\"white\",\"linecolor\":\"white\",\"showbackground\":true,\"ticks\":\"\",\"zerolinecolor\":\"white\",\"gridwidth\":2}},\"shapedefaults\":{\"line\":{\"color\":\"#2a3f5f\"}},\"annotationdefaults\":{\"arrowcolor\":\"#2a3f5f\",\"arrowhead\":0,\"arrowwidth\":1},\"geo\":{\"bgcolor\":\"white\",\"landcolor\":\"#E5ECF6\",\"subunitcolor\":\"white\",\"showland\":true,\"showlakes\":true,\"lakecolor\":\"white\"},\"title\":{\"x\":0.05},\"mapbox\":{\"style\":\"light\"}}},\"xaxis\":{\"anchor\":\"y\",\"domain\":[0.0,1.0],\"title\":{\"text\":\"Geographic Area\"}},\"yaxis\":{\"anchor\":\"x\",\"domain\":[0.0,1.0],\"title\":{\"text\":\"poverty_rate\"}},\"coloraxis\":{\"colorbar\":{\"title\":{\"text\":\"poverty_rate\"}},\"colorscale\":[[0.0,\"rgb(36, 86, 104)\"],[0.16666666666666666,\"rgb(15, 114, 121)\"],[0.3333333333333333,\"rgb(13, 143, 129)\"],[0.5,\"rgb(57, 171, 126)\"],[0.6666666666666666,\"rgb(110, 197, 116)\"],[0.8333333333333334,\"rgb(169, 220, 103)\"],[1.0,\"rgb(237, 239, 93)\"]]},\"legend\":{\"tracegroupgap\":0},\"title\":{\"text\":\"Poverty Rate by US State\"},\"barmode\":\"relative\"},                        {\"responsive\": true}                    ).then(function(){\n",
       "                            \n",
       "var gd = document.getElementById('d5693861-3718-4094-b145-2b19c5d1137c');\n",
       "var x = new MutationObserver(function (mutations, observer) {{\n",
       "        var display = window.getComputedStyle(gd).display;\n",
       "        if (!display || display === 'none') {{\n",
       "            console.log([gd, 'removed!']);\n",
       "            Plotly.purge(gd);\n",
       "            observer.disconnect();\n",
       "        }}\n",
       "}});\n",
       "\n",
       "// Listen for the removal of the full notebook cells\n",
       "var notebookContainer = gd.closest('#notebook-container');\n",
       "if (notebookContainer) {{\n",
       "    x.observe(notebookContainer, {childList: true});\n",
       "}}\n",
       "\n",
       "// Listen for the clearing of the current output cell\n",
       "var outputEl = gd.closest('.output');\n",
       "if (outputEl) {{\n",
       "    x.observe(outputEl, {childList: true});\n",
       "}}\n",
       "\n",
       "                        })                };                });            </script>        </div>"
      ]
     },
     "metadata": {},
     "output_type": "display_data"
    }
   ],
   "source": [
    "fig=px.bar(df_pct_poverty2 ,\n",
    "           y=df_pct_poverty2.poverty_rate,\n",
    "           x=df_pct_poverty2['Geographic Area'],\n",
    "          title='Poverty Rate by US State',\n",
    "          color=df_pct_poverty2.poverty_rate,\n",
    "          color_continuous_scale='Aggrnyl',)\n",
    "fig.show()"
   ]
  },
  {
   "cell_type": "markdown",
   "metadata": {
    "id": "GhUibVz5z4sn"
   },
   "source": [
    "# Chart the High School Graduation Rate by US State\n",
    "\n",
    "Show the High School Graduation Rate in ascending order of US States. Which state has the lowest high school graduation rate? Which state has the highest?"
   ]
  },
  {
   "cell_type": "code",
   "execution_count": 275,
   "metadata": {},
   "outputs": [],
   "source": [
    "#rempve the '-'' from the colmn\n",
    "df_pct_completed_hs['percent_completed_hs'] = df_pct_completed_hs['percent_completed_hs'].replace('-','')"
   ]
  },
  {
   "cell_type": "code",
   "execution_count": 276,
   "metadata": {},
   "outputs": [],
   "source": [
    "#change data type\n",
    "df_pct_completed_hs['percent_completed_hs'] = pd.to_numeric(df_pct_completed_hs['percent_completed_hs'] ,downcast='float' )"
   ]
  },
  {
   "cell_type": "code",
   "execution_count": 277,
   "metadata": {
    "id": "laD6W9eG0JFR"
   },
   "outputs": [],
   "source": [
    "df_pct_completed_hs2=df_pct_completed_hs.groupby(['Geographic Area'],as_index=False).agg({'percent_completed_hs':pd.Series.mean})\n",
    "df_pct_completed_hs2.sort_values(by='percent_completed_hs',ascending=False,inplace=True)"
   ]
  },
  {
   "cell_type": "code",
   "execution_count": 278,
   "metadata": {},
   "outputs": [
    {
     "data": {
      "application/vnd.plotly.v1+json": {
       "config": {
        "plotlyServerURL": "https://plot.ly"
       },
       "data": [
        {
         "alignmentgroup": "True",
         "hovertemplate": "Geographic Area=%{x}<br>percent_completed_hs=%{marker.color}<extra></extra>",
         "legendgroup": "",
         "marker": {
          "color": [
           92.40410614013672,
           92.10052490234375,
           91.66556549072266,
           91.6179428100586,
           91.59162902832031,
           91.43077087402344,
           90.85396575927734,
           90.7113265991211,
           90.61376190185547,
           90.48841857910156,
           90.26397705078125,
           90.11222076416016,
           90.10665130615234,
           89.98787689208984,
           89.97686767578125,
           89.4655990600586,
           89.30000305175781,
           89.20762634277344,
           89.0234603881836,
           88.82499694824219,
           88.51946258544922,
           88.48338317871094,
           88.42249298095703,
           88.3446273803711,
           88.3045425415039,
           88.23045349121094,
           88.19755554199219,
           87.81523132324219,
           87.75390625,
           87.71541595458984,
           86.31927490234375,
           85.7378158569336,
           85.1679916381836,
           84.88026428222656,
           84.62738037109375,
           83.52224731445312,
           83.24943542480469,
           82.90970611572266,
           82.37017822265625,
           82.34504699707031,
           81.95537567138672,
           81.63115692138672,
           80.98262023925781,
           80.84989929199219,
           80.46709442138672,
           80.30071258544922,
           79.94952392578125,
           79.28966522216797,
           79.01251220703125,
           78.4707260131836,
           75.69007873535156
          ],
          "coloraxis": "coloraxis",
          "pattern": {
           "shape": ""
          }
         },
         "name": "",
         "offsetgroup": "",
         "orientation": "v",
         "showlegend": false,
         "textposition": "auto",
         "type": "bar",
         "x": [
          "MA",
          "WY",
          "HI",
          "UT",
          "CT",
          "ME",
          "NJ",
          "NH",
          "NY",
          "MT",
          "WI",
          "IA",
          "CO",
          "NE",
          "VT",
          "MN",
          "DC",
          "MI",
          "PA",
          "RI",
          "DE",
          "IL",
          "MD",
          "OH",
          "OR",
          "KS",
          "WA",
          "ND",
          "SD",
          "NV",
          "IN",
          "FL",
          "ID",
          "VA",
          "AK",
          "MO",
          "NC",
          "OK",
          "KY",
          "WV",
          "CA",
          "TN",
          "NM",
          "SC",
          "AZ",
          "AL",
          "AR",
          "LA",
          "GA",
          "MS",
          "TX"
         ],
         "xaxis": "x",
         "y": [
          92.40410614013672,
          92.10052490234375,
          91.66556549072266,
          91.6179428100586,
          91.59162902832031,
          91.43077087402344,
          90.85396575927734,
          90.7113265991211,
          90.61376190185547,
          90.48841857910156,
          90.26397705078125,
          90.11222076416016,
          90.10665130615234,
          89.98787689208984,
          89.97686767578125,
          89.4655990600586,
          89.30000305175781,
          89.20762634277344,
          89.0234603881836,
          88.82499694824219,
          88.51946258544922,
          88.48338317871094,
          88.42249298095703,
          88.3446273803711,
          88.3045425415039,
          88.23045349121094,
          88.19755554199219,
          87.81523132324219,
          87.75390625,
          87.71541595458984,
          86.31927490234375,
          85.7378158569336,
          85.1679916381836,
          84.88026428222656,
          84.62738037109375,
          83.52224731445312,
          83.24943542480469,
          82.90970611572266,
          82.37017822265625,
          82.34504699707031,
          81.95537567138672,
          81.63115692138672,
          80.98262023925781,
          80.84989929199219,
          80.46709442138672,
          80.30071258544922,
          79.94952392578125,
          79.28966522216797,
          79.01251220703125,
          78.4707260131836,
          75.69007873535156
         ],
         "yaxis": "y"
        }
       ],
       "layout": {
        "barmode": "relative",
        "coloraxis": {
         "colorbar": {
          "title": {
           "text": "percent_completed_hs"
          }
         },
         "colorscale": [
          [
           0,
           "#0d0887"
          ],
          [
           0.1111111111111111,
           "#46039f"
          ],
          [
           0.2222222222222222,
           "#7201a8"
          ],
          [
           0.3333333333333333,
           "#9c179e"
          ],
          [
           0.4444444444444444,
           "#bd3786"
          ],
          [
           0.5555555555555556,
           "#d8576b"
          ],
          [
           0.6666666666666666,
           "#ed7953"
          ],
          [
           0.7777777777777778,
           "#fb9f3a"
          ],
          [
           0.8888888888888888,
           "#fdca26"
          ],
          [
           1,
           "#f0f921"
          ]
         ]
        },
        "legend": {
         "tracegroupgap": 0
        },
        "template": {
         "data": {
          "bar": [
           {
            "error_x": {
             "color": "#2a3f5f"
            },
            "error_y": {
             "color": "#2a3f5f"
            },
            "marker": {
             "line": {
              "color": "#E5ECF6",
              "width": 0.5
             },
             "pattern": {
              "fillmode": "overlay",
              "size": 10,
              "solidity": 0.2
             }
            },
            "type": "bar"
           }
          ],
          "barpolar": [
           {
            "marker": {
             "line": {
              "color": "#E5ECF6",
              "width": 0.5
             },
             "pattern": {
              "fillmode": "overlay",
              "size": 10,
              "solidity": 0.2
             }
            },
            "type": "barpolar"
           }
          ],
          "carpet": [
           {
            "aaxis": {
             "endlinecolor": "#2a3f5f",
             "gridcolor": "white",
             "linecolor": "white",
             "minorgridcolor": "white",
             "startlinecolor": "#2a3f5f"
            },
            "baxis": {
             "endlinecolor": "#2a3f5f",
             "gridcolor": "white",
             "linecolor": "white",
             "minorgridcolor": "white",
             "startlinecolor": "#2a3f5f"
            },
            "type": "carpet"
           }
          ],
          "choropleth": [
           {
            "colorbar": {
             "outlinewidth": 0,
             "ticks": ""
            },
            "type": "choropleth"
           }
          ],
          "contour": [
           {
            "colorbar": {
             "outlinewidth": 0,
             "ticks": ""
            },
            "colorscale": [
             [
              0,
              "#0d0887"
             ],
             [
              0.1111111111111111,
              "#46039f"
             ],
             [
              0.2222222222222222,
              "#7201a8"
             ],
             [
              0.3333333333333333,
              "#9c179e"
             ],
             [
              0.4444444444444444,
              "#bd3786"
             ],
             [
              0.5555555555555556,
              "#d8576b"
             ],
             [
              0.6666666666666666,
              "#ed7953"
             ],
             [
              0.7777777777777778,
              "#fb9f3a"
             ],
             [
              0.8888888888888888,
              "#fdca26"
             ],
             [
              1,
              "#f0f921"
             ]
            ],
            "type": "contour"
           }
          ],
          "contourcarpet": [
           {
            "colorbar": {
             "outlinewidth": 0,
             "ticks": ""
            },
            "type": "contourcarpet"
           }
          ],
          "heatmap": [
           {
            "colorbar": {
             "outlinewidth": 0,
             "ticks": ""
            },
            "colorscale": [
             [
              0,
              "#0d0887"
             ],
             [
              0.1111111111111111,
              "#46039f"
             ],
             [
              0.2222222222222222,
              "#7201a8"
             ],
             [
              0.3333333333333333,
              "#9c179e"
             ],
             [
              0.4444444444444444,
              "#bd3786"
             ],
             [
              0.5555555555555556,
              "#d8576b"
             ],
             [
              0.6666666666666666,
              "#ed7953"
             ],
             [
              0.7777777777777778,
              "#fb9f3a"
             ],
             [
              0.8888888888888888,
              "#fdca26"
             ],
             [
              1,
              "#f0f921"
             ]
            ],
            "type": "heatmap"
           }
          ],
          "heatmapgl": [
           {
            "colorbar": {
             "outlinewidth": 0,
             "ticks": ""
            },
            "colorscale": [
             [
              0,
              "#0d0887"
             ],
             [
              0.1111111111111111,
              "#46039f"
             ],
             [
              0.2222222222222222,
              "#7201a8"
             ],
             [
              0.3333333333333333,
              "#9c179e"
             ],
             [
              0.4444444444444444,
              "#bd3786"
             ],
             [
              0.5555555555555556,
              "#d8576b"
             ],
             [
              0.6666666666666666,
              "#ed7953"
             ],
             [
              0.7777777777777778,
              "#fb9f3a"
             ],
             [
              0.8888888888888888,
              "#fdca26"
             ],
             [
              1,
              "#f0f921"
             ]
            ],
            "type": "heatmapgl"
           }
          ],
          "histogram": [
           {
            "marker": {
             "pattern": {
              "fillmode": "overlay",
              "size": 10,
              "solidity": 0.2
             }
            },
            "type": "histogram"
           }
          ],
          "histogram2d": [
           {
            "colorbar": {
             "outlinewidth": 0,
             "ticks": ""
            },
            "colorscale": [
             [
              0,
              "#0d0887"
             ],
             [
              0.1111111111111111,
              "#46039f"
             ],
             [
              0.2222222222222222,
              "#7201a8"
             ],
             [
              0.3333333333333333,
              "#9c179e"
             ],
             [
              0.4444444444444444,
              "#bd3786"
             ],
             [
              0.5555555555555556,
              "#d8576b"
             ],
             [
              0.6666666666666666,
              "#ed7953"
             ],
             [
              0.7777777777777778,
              "#fb9f3a"
             ],
             [
              0.8888888888888888,
              "#fdca26"
             ],
             [
              1,
              "#f0f921"
             ]
            ],
            "type": "histogram2d"
           }
          ],
          "histogram2dcontour": [
           {
            "colorbar": {
             "outlinewidth": 0,
             "ticks": ""
            },
            "colorscale": [
             [
              0,
              "#0d0887"
             ],
             [
              0.1111111111111111,
              "#46039f"
             ],
             [
              0.2222222222222222,
              "#7201a8"
             ],
             [
              0.3333333333333333,
              "#9c179e"
             ],
             [
              0.4444444444444444,
              "#bd3786"
             ],
             [
              0.5555555555555556,
              "#d8576b"
             ],
             [
              0.6666666666666666,
              "#ed7953"
             ],
             [
              0.7777777777777778,
              "#fb9f3a"
             ],
             [
              0.8888888888888888,
              "#fdca26"
             ],
             [
              1,
              "#f0f921"
             ]
            ],
            "type": "histogram2dcontour"
           }
          ],
          "mesh3d": [
           {
            "colorbar": {
             "outlinewidth": 0,
             "ticks": ""
            },
            "type": "mesh3d"
           }
          ],
          "parcoords": [
           {
            "line": {
             "colorbar": {
              "outlinewidth": 0,
              "ticks": ""
             }
            },
            "type": "parcoords"
           }
          ],
          "pie": [
           {
            "automargin": true,
            "type": "pie"
           }
          ],
          "scatter": [
           {
            "fillpattern": {
             "fillmode": "overlay",
             "size": 10,
             "solidity": 0.2
            },
            "type": "scatter"
           }
          ],
          "scatter3d": [
           {
            "line": {
             "colorbar": {
              "outlinewidth": 0,
              "ticks": ""
             }
            },
            "marker": {
             "colorbar": {
              "outlinewidth": 0,
              "ticks": ""
             }
            },
            "type": "scatter3d"
           }
          ],
          "scattercarpet": [
           {
            "marker": {
             "colorbar": {
              "outlinewidth": 0,
              "ticks": ""
             }
            },
            "type": "scattercarpet"
           }
          ],
          "scattergeo": [
           {
            "marker": {
             "colorbar": {
              "outlinewidth": 0,
              "ticks": ""
             }
            },
            "type": "scattergeo"
           }
          ],
          "scattergl": [
           {
            "marker": {
             "colorbar": {
              "outlinewidth": 0,
              "ticks": ""
             }
            },
            "type": "scattergl"
           }
          ],
          "scattermapbox": [
           {
            "marker": {
             "colorbar": {
              "outlinewidth": 0,
              "ticks": ""
             }
            },
            "type": "scattermapbox"
           }
          ],
          "scatterpolar": [
           {
            "marker": {
             "colorbar": {
              "outlinewidth": 0,
              "ticks": ""
             }
            },
            "type": "scatterpolar"
           }
          ],
          "scatterpolargl": [
           {
            "marker": {
             "colorbar": {
              "outlinewidth": 0,
              "ticks": ""
             }
            },
            "type": "scatterpolargl"
           }
          ],
          "scatterternary": [
           {
            "marker": {
             "colorbar": {
              "outlinewidth": 0,
              "ticks": ""
             }
            },
            "type": "scatterternary"
           }
          ],
          "surface": [
           {
            "colorbar": {
             "outlinewidth": 0,
             "ticks": ""
            },
            "colorscale": [
             [
              0,
              "#0d0887"
             ],
             [
              0.1111111111111111,
              "#46039f"
             ],
             [
              0.2222222222222222,
              "#7201a8"
             ],
             [
              0.3333333333333333,
              "#9c179e"
             ],
             [
              0.4444444444444444,
              "#bd3786"
             ],
             [
              0.5555555555555556,
              "#d8576b"
             ],
             [
              0.6666666666666666,
              "#ed7953"
             ],
             [
              0.7777777777777778,
              "#fb9f3a"
             ],
             [
              0.8888888888888888,
              "#fdca26"
             ],
             [
              1,
              "#f0f921"
             ]
            ],
            "type": "surface"
           }
          ],
          "table": [
           {
            "cells": {
             "fill": {
              "color": "#EBF0F8"
             },
             "line": {
              "color": "white"
             }
            },
            "header": {
             "fill": {
              "color": "#C8D4E3"
             },
             "line": {
              "color": "white"
             }
            },
            "type": "table"
           }
          ]
         },
         "layout": {
          "annotationdefaults": {
           "arrowcolor": "#2a3f5f",
           "arrowhead": 0,
           "arrowwidth": 1
          },
          "autotypenumbers": "strict",
          "coloraxis": {
           "colorbar": {
            "outlinewidth": 0,
            "ticks": ""
           }
          },
          "colorscale": {
           "diverging": [
            [
             0,
             "#8e0152"
            ],
            [
             0.1,
             "#c51b7d"
            ],
            [
             0.2,
             "#de77ae"
            ],
            [
             0.3,
             "#f1b6da"
            ],
            [
             0.4,
             "#fde0ef"
            ],
            [
             0.5,
             "#f7f7f7"
            ],
            [
             0.6,
             "#e6f5d0"
            ],
            [
             0.7,
             "#b8e186"
            ],
            [
             0.8,
             "#7fbc41"
            ],
            [
             0.9,
             "#4d9221"
            ],
            [
             1,
             "#276419"
            ]
           ],
           "sequential": [
            [
             0,
             "#0d0887"
            ],
            [
             0.1111111111111111,
             "#46039f"
            ],
            [
             0.2222222222222222,
             "#7201a8"
            ],
            [
             0.3333333333333333,
             "#9c179e"
            ],
            [
             0.4444444444444444,
             "#bd3786"
            ],
            [
             0.5555555555555556,
             "#d8576b"
            ],
            [
             0.6666666666666666,
             "#ed7953"
            ],
            [
             0.7777777777777778,
             "#fb9f3a"
            ],
            [
             0.8888888888888888,
             "#fdca26"
            ],
            [
             1,
             "#f0f921"
            ]
           ],
           "sequentialminus": [
            [
             0,
             "#0d0887"
            ],
            [
             0.1111111111111111,
             "#46039f"
            ],
            [
             0.2222222222222222,
             "#7201a8"
            ],
            [
             0.3333333333333333,
             "#9c179e"
            ],
            [
             0.4444444444444444,
             "#bd3786"
            ],
            [
             0.5555555555555556,
             "#d8576b"
            ],
            [
             0.6666666666666666,
             "#ed7953"
            ],
            [
             0.7777777777777778,
             "#fb9f3a"
            ],
            [
             0.8888888888888888,
             "#fdca26"
            ],
            [
             1,
             "#f0f921"
            ]
           ]
          },
          "colorway": [
           "#636efa",
           "#EF553B",
           "#00cc96",
           "#ab63fa",
           "#FFA15A",
           "#19d3f3",
           "#FF6692",
           "#B6E880",
           "#FF97FF",
           "#FECB52"
          ],
          "font": {
           "color": "#2a3f5f"
          },
          "geo": {
           "bgcolor": "white",
           "lakecolor": "white",
           "landcolor": "#E5ECF6",
           "showlakes": true,
           "showland": true,
           "subunitcolor": "white"
          },
          "hoverlabel": {
           "align": "left"
          },
          "hovermode": "closest",
          "mapbox": {
           "style": "light"
          },
          "paper_bgcolor": "white",
          "plot_bgcolor": "#E5ECF6",
          "polar": {
           "angularaxis": {
            "gridcolor": "white",
            "linecolor": "white",
            "ticks": ""
           },
           "bgcolor": "#E5ECF6",
           "radialaxis": {
            "gridcolor": "white",
            "linecolor": "white",
            "ticks": ""
           }
          },
          "scene": {
           "xaxis": {
            "backgroundcolor": "#E5ECF6",
            "gridcolor": "white",
            "gridwidth": 2,
            "linecolor": "white",
            "showbackground": true,
            "ticks": "",
            "zerolinecolor": "white"
           },
           "yaxis": {
            "backgroundcolor": "#E5ECF6",
            "gridcolor": "white",
            "gridwidth": 2,
            "linecolor": "white",
            "showbackground": true,
            "ticks": "",
            "zerolinecolor": "white"
           },
           "zaxis": {
            "backgroundcolor": "#E5ECF6",
            "gridcolor": "white",
            "gridwidth": 2,
            "linecolor": "white",
            "showbackground": true,
            "ticks": "",
            "zerolinecolor": "white"
           }
          },
          "shapedefaults": {
           "line": {
            "color": "#2a3f5f"
           }
          },
          "ternary": {
           "aaxis": {
            "gridcolor": "white",
            "linecolor": "white",
            "ticks": ""
           },
           "baxis": {
            "gridcolor": "white",
            "linecolor": "white",
            "ticks": ""
           },
           "bgcolor": "#E5ECF6",
           "caxis": {
            "gridcolor": "white",
            "linecolor": "white",
            "ticks": ""
           }
          },
          "title": {
           "x": 0.05
          },
          "xaxis": {
           "automargin": true,
           "gridcolor": "white",
           "linecolor": "white",
           "ticks": "",
           "title": {
            "standoff": 15
           },
           "zerolinecolor": "white",
           "zerolinewidth": 2
          },
          "yaxis": {
           "automargin": true,
           "gridcolor": "white",
           "linecolor": "white",
           "ticks": "",
           "title": {
            "standoff": 15
           },
           "zerolinecolor": "white",
           "zerolinewidth": 2
          }
         }
        },
        "title": {
         "text": "Graduation Rate by US State"
        },
        "xaxis": {
         "anchor": "y",
         "domain": [
          0,
          1
         ],
         "title": {
          "text": "Geographic Area"
         }
        },
        "yaxis": {
         "anchor": "x",
         "domain": [
          0,
          1
         ],
         "title": {
          "text": "percent_completed_hs"
         }
        }
       }
      },
      "text/html": [
       "<div>                            <div id=\"3411331c-0a03-4ae6-a9ea-3f76997d1032\" class=\"plotly-graph-div\" style=\"height:525px; width:100%;\"></div>            <script type=\"text/javascript\">                require([\"plotly\"], function(Plotly) {                    window.PLOTLYENV=window.PLOTLYENV || {};                                    if (document.getElementById(\"3411331c-0a03-4ae6-a9ea-3f76997d1032\")) {                    Plotly.newPlot(                        \"3411331c-0a03-4ae6-a9ea-3f76997d1032\",                        [{\"alignmentgroup\":\"True\",\"hovertemplate\":\"Geographic Area=%{x}\\u003cbr\\u003epercent_completed_hs=%{marker.color}\\u003cextra\\u003e\\u003c\\u002fextra\\u003e\",\"legendgroup\":\"\",\"marker\":{\"color\":[92.40410614013672,92.10052490234375,91.66556549072266,91.6179428100586,91.59162902832031,91.43077087402344,90.85396575927734,90.7113265991211,90.61376190185547,90.48841857910156,90.26397705078125,90.11222076416016,90.10665130615234,89.98787689208984,89.97686767578125,89.4655990600586,89.30000305175781,89.20762634277344,89.0234603881836,88.82499694824219,88.51946258544922,88.48338317871094,88.42249298095703,88.3446273803711,88.3045425415039,88.23045349121094,88.19755554199219,87.81523132324219,87.75390625,87.71541595458984,86.31927490234375,85.7378158569336,85.1679916381836,84.88026428222656,84.62738037109375,83.52224731445312,83.24943542480469,82.90970611572266,82.37017822265625,82.34504699707031,81.95537567138672,81.63115692138672,80.98262023925781,80.84989929199219,80.46709442138672,80.30071258544922,79.94952392578125,79.28966522216797,79.01251220703125,78.4707260131836,75.69007873535156],\"coloraxis\":\"coloraxis\",\"pattern\":{\"shape\":\"\"}},\"name\":\"\",\"offsetgroup\":\"\",\"orientation\":\"v\",\"showlegend\":false,\"textposition\":\"auto\",\"x\":[\"MA\",\"WY\",\"HI\",\"UT\",\"CT\",\"ME\",\"NJ\",\"NH\",\"NY\",\"MT\",\"WI\",\"IA\",\"CO\",\"NE\",\"VT\",\"MN\",\"DC\",\"MI\",\"PA\",\"RI\",\"DE\",\"IL\",\"MD\",\"OH\",\"OR\",\"KS\",\"WA\",\"ND\",\"SD\",\"NV\",\"IN\",\"FL\",\"ID\",\"VA\",\"AK\",\"MO\",\"NC\",\"OK\",\"KY\",\"WV\",\"CA\",\"TN\",\"NM\",\"SC\",\"AZ\",\"AL\",\"AR\",\"LA\",\"GA\",\"MS\",\"TX\"],\"xaxis\":\"x\",\"y\":[92.40410614013672,92.10052490234375,91.66556549072266,91.6179428100586,91.59162902832031,91.43077087402344,90.85396575927734,90.7113265991211,90.61376190185547,90.48841857910156,90.26397705078125,90.11222076416016,90.10665130615234,89.98787689208984,89.97686767578125,89.4655990600586,89.30000305175781,89.20762634277344,89.0234603881836,88.82499694824219,88.51946258544922,88.48338317871094,88.42249298095703,88.3446273803711,88.3045425415039,88.23045349121094,88.19755554199219,87.81523132324219,87.75390625,87.71541595458984,86.31927490234375,85.7378158569336,85.1679916381836,84.88026428222656,84.62738037109375,83.52224731445312,83.24943542480469,82.90970611572266,82.37017822265625,82.34504699707031,81.95537567138672,81.63115692138672,80.98262023925781,80.84989929199219,80.46709442138672,80.30071258544922,79.94952392578125,79.28966522216797,79.01251220703125,78.4707260131836,75.69007873535156],\"yaxis\":\"y\",\"type\":\"bar\"}],                        {\"template\":{\"data\":{\"histogram2dcontour\":[{\"type\":\"histogram2dcontour\",\"colorbar\":{\"outlinewidth\":0,\"ticks\":\"\"},\"colorscale\":[[0.0,\"#0d0887\"],[0.1111111111111111,\"#46039f\"],[0.2222222222222222,\"#7201a8\"],[0.3333333333333333,\"#9c179e\"],[0.4444444444444444,\"#bd3786\"],[0.5555555555555556,\"#d8576b\"],[0.6666666666666666,\"#ed7953\"],[0.7777777777777778,\"#fb9f3a\"],[0.8888888888888888,\"#fdca26\"],[1.0,\"#f0f921\"]]}],\"choropleth\":[{\"type\":\"choropleth\",\"colorbar\":{\"outlinewidth\":0,\"ticks\":\"\"}}],\"histogram2d\":[{\"type\":\"histogram2d\",\"colorbar\":{\"outlinewidth\":0,\"ticks\":\"\"},\"colorscale\":[[0.0,\"#0d0887\"],[0.1111111111111111,\"#46039f\"],[0.2222222222222222,\"#7201a8\"],[0.3333333333333333,\"#9c179e\"],[0.4444444444444444,\"#bd3786\"],[0.5555555555555556,\"#d8576b\"],[0.6666666666666666,\"#ed7953\"],[0.7777777777777778,\"#fb9f3a\"],[0.8888888888888888,\"#fdca26\"],[1.0,\"#f0f921\"]]}],\"heatmap\":[{\"type\":\"heatmap\",\"colorbar\":{\"outlinewidth\":0,\"ticks\":\"\"},\"colorscale\":[[0.0,\"#0d0887\"],[0.1111111111111111,\"#46039f\"],[0.2222222222222222,\"#7201a8\"],[0.3333333333333333,\"#9c179e\"],[0.4444444444444444,\"#bd3786\"],[0.5555555555555556,\"#d8576b\"],[0.6666666666666666,\"#ed7953\"],[0.7777777777777778,\"#fb9f3a\"],[0.8888888888888888,\"#fdca26\"],[1.0,\"#f0f921\"]]}],\"heatmapgl\":[{\"type\":\"heatmapgl\",\"colorbar\":{\"outlinewidth\":0,\"ticks\":\"\"},\"colorscale\":[[0.0,\"#0d0887\"],[0.1111111111111111,\"#46039f\"],[0.2222222222222222,\"#7201a8\"],[0.3333333333333333,\"#9c179e\"],[0.4444444444444444,\"#bd3786\"],[0.5555555555555556,\"#d8576b\"],[0.6666666666666666,\"#ed7953\"],[0.7777777777777778,\"#fb9f3a\"],[0.8888888888888888,\"#fdca26\"],[1.0,\"#f0f921\"]]}],\"contourcarpet\":[{\"type\":\"contourcarpet\",\"colorbar\":{\"outlinewidth\":0,\"ticks\":\"\"}}],\"contour\":[{\"type\":\"contour\",\"colorbar\":{\"outlinewidth\":0,\"ticks\":\"\"},\"colorscale\":[[0.0,\"#0d0887\"],[0.1111111111111111,\"#46039f\"],[0.2222222222222222,\"#7201a8\"],[0.3333333333333333,\"#9c179e\"],[0.4444444444444444,\"#bd3786\"],[0.5555555555555556,\"#d8576b\"],[0.6666666666666666,\"#ed7953\"],[0.7777777777777778,\"#fb9f3a\"],[0.8888888888888888,\"#fdca26\"],[1.0,\"#f0f921\"]]}],\"surface\":[{\"type\":\"surface\",\"colorbar\":{\"outlinewidth\":0,\"ticks\":\"\"},\"colorscale\":[[0.0,\"#0d0887\"],[0.1111111111111111,\"#46039f\"],[0.2222222222222222,\"#7201a8\"],[0.3333333333333333,\"#9c179e\"],[0.4444444444444444,\"#bd3786\"],[0.5555555555555556,\"#d8576b\"],[0.6666666666666666,\"#ed7953\"],[0.7777777777777778,\"#fb9f3a\"],[0.8888888888888888,\"#fdca26\"],[1.0,\"#f0f921\"]]}],\"mesh3d\":[{\"type\":\"mesh3d\",\"colorbar\":{\"outlinewidth\":0,\"ticks\":\"\"}}],\"scatter\":[{\"fillpattern\":{\"fillmode\":\"overlay\",\"size\":10,\"solidity\":0.2},\"type\":\"scatter\"}],\"parcoords\":[{\"type\":\"parcoords\",\"line\":{\"colorbar\":{\"outlinewidth\":0,\"ticks\":\"\"}}}],\"scatterpolargl\":[{\"type\":\"scatterpolargl\",\"marker\":{\"colorbar\":{\"outlinewidth\":0,\"ticks\":\"\"}}}],\"bar\":[{\"error_x\":{\"color\":\"#2a3f5f\"},\"error_y\":{\"color\":\"#2a3f5f\"},\"marker\":{\"line\":{\"color\":\"#E5ECF6\",\"width\":0.5},\"pattern\":{\"fillmode\":\"overlay\",\"size\":10,\"solidity\":0.2}},\"type\":\"bar\"}],\"scattergeo\":[{\"type\":\"scattergeo\",\"marker\":{\"colorbar\":{\"outlinewidth\":0,\"ticks\":\"\"}}}],\"scatterpolar\":[{\"type\":\"scatterpolar\",\"marker\":{\"colorbar\":{\"outlinewidth\":0,\"ticks\":\"\"}}}],\"histogram\":[{\"marker\":{\"pattern\":{\"fillmode\":\"overlay\",\"size\":10,\"solidity\":0.2}},\"type\":\"histogram\"}],\"scattergl\":[{\"type\":\"scattergl\",\"marker\":{\"colorbar\":{\"outlinewidth\":0,\"ticks\":\"\"}}}],\"scatter3d\":[{\"type\":\"scatter3d\",\"line\":{\"colorbar\":{\"outlinewidth\":0,\"ticks\":\"\"}},\"marker\":{\"colorbar\":{\"outlinewidth\":0,\"ticks\":\"\"}}}],\"scattermapbox\":[{\"type\":\"scattermapbox\",\"marker\":{\"colorbar\":{\"outlinewidth\":0,\"ticks\":\"\"}}}],\"scatterternary\":[{\"type\":\"scatterternary\",\"marker\":{\"colorbar\":{\"outlinewidth\":0,\"ticks\":\"\"}}}],\"scattercarpet\":[{\"type\":\"scattercarpet\",\"marker\":{\"colorbar\":{\"outlinewidth\":0,\"ticks\":\"\"}}}],\"carpet\":[{\"aaxis\":{\"endlinecolor\":\"#2a3f5f\",\"gridcolor\":\"white\",\"linecolor\":\"white\",\"minorgridcolor\":\"white\",\"startlinecolor\":\"#2a3f5f\"},\"baxis\":{\"endlinecolor\":\"#2a3f5f\",\"gridcolor\":\"white\",\"linecolor\":\"white\",\"minorgridcolor\":\"white\",\"startlinecolor\":\"#2a3f5f\"},\"type\":\"carpet\"}],\"table\":[{\"cells\":{\"fill\":{\"color\":\"#EBF0F8\"},\"line\":{\"color\":\"white\"}},\"header\":{\"fill\":{\"color\":\"#C8D4E3\"},\"line\":{\"color\":\"white\"}},\"type\":\"table\"}],\"barpolar\":[{\"marker\":{\"line\":{\"color\":\"#E5ECF6\",\"width\":0.5},\"pattern\":{\"fillmode\":\"overlay\",\"size\":10,\"solidity\":0.2}},\"type\":\"barpolar\"}],\"pie\":[{\"automargin\":true,\"type\":\"pie\"}]},\"layout\":{\"autotypenumbers\":\"strict\",\"colorway\":[\"#636efa\",\"#EF553B\",\"#00cc96\",\"#ab63fa\",\"#FFA15A\",\"#19d3f3\",\"#FF6692\",\"#B6E880\",\"#FF97FF\",\"#FECB52\"],\"font\":{\"color\":\"#2a3f5f\"},\"hovermode\":\"closest\",\"hoverlabel\":{\"align\":\"left\"},\"paper_bgcolor\":\"white\",\"plot_bgcolor\":\"#E5ECF6\",\"polar\":{\"bgcolor\":\"#E5ECF6\",\"angularaxis\":{\"gridcolor\":\"white\",\"linecolor\":\"white\",\"ticks\":\"\"},\"radialaxis\":{\"gridcolor\":\"white\",\"linecolor\":\"white\",\"ticks\":\"\"}},\"ternary\":{\"bgcolor\":\"#E5ECF6\",\"aaxis\":{\"gridcolor\":\"white\",\"linecolor\":\"white\",\"ticks\":\"\"},\"baxis\":{\"gridcolor\":\"white\",\"linecolor\":\"white\",\"ticks\":\"\"},\"caxis\":{\"gridcolor\":\"white\",\"linecolor\":\"white\",\"ticks\":\"\"}},\"coloraxis\":{\"colorbar\":{\"outlinewidth\":0,\"ticks\":\"\"}},\"colorscale\":{\"sequential\":[[0.0,\"#0d0887\"],[0.1111111111111111,\"#46039f\"],[0.2222222222222222,\"#7201a8\"],[0.3333333333333333,\"#9c179e\"],[0.4444444444444444,\"#bd3786\"],[0.5555555555555556,\"#d8576b\"],[0.6666666666666666,\"#ed7953\"],[0.7777777777777778,\"#fb9f3a\"],[0.8888888888888888,\"#fdca26\"],[1.0,\"#f0f921\"]],\"sequentialminus\":[[0.0,\"#0d0887\"],[0.1111111111111111,\"#46039f\"],[0.2222222222222222,\"#7201a8\"],[0.3333333333333333,\"#9c179e\"],[0.4444444444444444,\"#bd3786\"],[0.5555555555555556,\"#d8576b\"],[0.6666666666666666,\"#ed7953\"],[0.7777777777777778,\"#fb9f3a\"],[0.8888888888888888,\"#fdca26\"],[1.0,\"#f0f921\"]],\"diverging\":[[0,\"#8e0152\"],[0.1,\"#c51b7d\"],[0.2,\"#de77ae\"],[0.3,\"#f1b6da\"],[0.4,\"#fde0ef\"],[0.5,\"#f7f7f7\"],[0.6,\"#e6f5d0\"],[0.7,\"#b8e186\"],[0.8,\"#7fbc41\"],[0.9,\"#4d9221\"],[1,\"#276419\"]]},\"xaxis\":{\"gridcolor\":\"white\",\"linecolor\":\"white\",\"ticks\":\"\",\"title\":{\"standoff\":15},\"zerolinecolor\":\"white\",\"automargin\":true,\"zerolinewidth\":2},\"yaxis\":{\"gridcolor\":\"white\",\"linecolor\":\"white\",\"ticks\":\"\",\"title\":{\"standoff\":15},\"zerolinecolor\":\"white\",\"automargin\":true,\"zerolinewidth\":2},\"scene\":{\"xaxis\":{\"backgroundcolor\":\"#E5ECF6\",\"gridcolor\":\"white\",\"linecolor\":\"white\",\"showbackground\":true,\"ticks\":\"\",\"zerolinecolor\":\"white\",\"gridwidth\":2},\"yaxis\":{\"backgroundcolor\":\"#E5ECF6\",\"gridcolor\":\"white\",\"linecolor\":\"white\",\"showbackground\":true,\"ticks\":\"\",\"zerolinecolor\":\"white\",\"gridwidth\":2},\"zaxis\":{\"backgroundcolor\":\"#E5ECF6\",\"gridcolor\":\"white\",\"linecolor\":\"white\",\"showbackground\":true,\"ticks\":\"\",\"zerolinecolor\":\"white\",\"gridwidth\":2}},\"shapedefaults\":{\"line\":{\"color\":\"#2a3f5f\"}},\"annotationdefaults\":{\"arrowcolor\":\"#2a3f5f\",\"arrowhead\":0,\"arrowwidth\":1},\"geo\":{\"bgcolor\":\"white\",\"landcolor\":\"#E5ECF6\",\"subunitcolor\":\"white\",\"showland\":true,\"showlakes\":true,\"lakecolor\":\"white\"},\"title\":{\"x\":0.05},\"mapbox\":{\"style\":\"light\"}}},\"xaxis\":{\"anchor\":\"y\",\"domain\":[0.0,1.0],\"title\":{\"text\":\"Geographic Area\"}},\"yaxis\":{\"anchor\":\"x\",\"domain\":[0.0,1.0],\"title\":{\"text\":\"percent_completed_hs\"}},\"coloraxis\":{\"colorbar\":{\"title\":{\"text\":\"percent_completed_hs\"}},\"colorscale\":[[0.0,\"#0d0887\"],[0.1111111111111111,\"#46039f\"],[0.2222222222222222,\"#7201a8\"],[0.3333333333333333,\"#9c179e\"],[0.4444444444444444,\"#bd3786\"],[0.5555555555555556,\"#d8576b\"],[0.6666666666666666,\"#ed7953\"],[0.7777777777777778,\"#fb9f3a\"],[0.8888888888888888,\"#fdca26\"],[1.0,\"#f0f921\"]]},\"legend\":{\"tracegroupgap\":0},\"title\":{\"text\":\"Graduation Rate by US State\"},\"barmode\":\"relative\"},                        {\"responsive\": true}                    ).then(function(){\n",
       "                            \n",
       "var gd = document.getElementById('3411331c-0a03-4ae6-a9ea-3f76997d1032');\n",
       "var x = new MutationObserver(function (mutations, observer) {{\n",
       "        var display = window.getComputedStyle(gd).display;\n",
       "        if (!display || display === 'none') {{\n",
       "            console.log([gd, 'removed!']);\n",
       "            Plotly.purge(gd);\n",
       "            observer.disconnect();\n",
       "        }}\n",
       "}});\n",
       "\n",
       "// Listen for the removal of the full notebook cells\n",
       "var notebookContainer = gd.closest('#notebook-container');\n",
       "if (notebookContainer) {{\n",
       "    x.observe(notebookContainer, {childList: true});\n",
       "}}\n",
       "\n",
       "// Listen for the clearing of the current output cell\n",
       "var outputEl = gd.closest('.output');\n",
       "if (outputEl) {{\n",
       "    x.observe(outputEl, {childList: true});\n",
       "}}\n",
       "\n",
       "                        })                };                });            </script>        </div>"
      ]
     },
     "metadata": {},
     "output_type": "display_data"
    }
   ],
   "source": [
    "fig=px.bar(df_pct_completed_hs2 ,\n",
    "           y=df_pct_completed_hs2.percent_completed_hs,\n",
    "           x=df_pct_completed_hs2['Geographic Area'],\n",
    "          title='Graduation Rate by US State',\n",
    "          color=df_pct_completed_hs2.percent_completed_hs,\n",
    "          )\n",
    "fig.show()"
   ]
  },
  {
   "cell_type": "markdown",
   "metadata": {
    "id": "ENGTEmPQ0Rvt"
   },
   "source": [
    "# Visualise the Relationship between Poverty Rates and High School Graduation Rates\n",
    "\n",
    "#### Create a line chart with two y-axes to show if the rations of poverty and high school graduation move together.  "
   ]
  },
  {
   "cell_type": "code",
   "execution_count": 279,
   "metadata": {
    "id": "MkNk5U8v0JPB"
   },
   "outputs": [
    {
     "data": {
      "text/html": [
       "<div>\n",
       "<style scoped>\n",
       "    .dataframe tbody tr th:only-of-type {\n",
       "        vertical-align: middle;\n",
       "    }\n",
       "\n",
       "    .dataframe tbody tr th {\n",
       "        vertical-align: top;\n",
       "    }\n",
       "\n",
       "    .dataframe thead th {\n",
       "        text-align: right;\n",
       "    }\n",
       "</style>\n",
       "<table border=\"1\" class=\"dataframe\">\n",
       "  <thead>\n",
       "    <tr style=\"text-align: right;\">\n",
       "      <th></th>\n",
       "      <th>Geographic Area</th>\n",
       "      <th>poverty_rate</th>\n",
       "      <th>percent_completed_hs</th>\n",
       "    </tr>\n",
       "  </thead>\n",
       "  <tbody>\n",
       "    <tr>\n",
       "      <th>0</th>\n",
       "      <td>AK</td>\n",
       "      <td>19.85</td>\n",
       "      <td>84.63</td>\n",
       "    </tr>\n",
       "  </tbody>\n",
       "</table>\n",
       "</div>"
      ],
      "text/plain": [
       "  Geographic Area  poverty_rate  percent_completed_hs\n",
       "0              AK         19.85                 84.63"
      ]
     },
     "execution_count": 279,
     "metadata": {},
     "output_type": "execute_result"
    }
   ],
   "source": [
    "merged_Data=df_pct_poverty.merge(df_pct_completed_hs , on=['Geographic Area','City'])\n",
    "grouped_df = merged_Data.groupby('Geographic Area')[['poverty_rate', 'percent_completed_hs']].mean().reset_index()\n",
    "grouped_df.head(1)"
   ]
  },
  {
   "cell_type": "code",
   "execution_count": 280,
   "metadata": {
    "id": "urRMqQG_0Nmo"
   },
   "outputs": [
    {
     "data": {
      "image/png": "[encoded data removed]",
      "text/plain": [
       "<Figure size 1600x500 with 2 Axes>"
      ]
     },
     "metadata": {},
     "output_type": "display_data"
    }
   ],
   "source": [
    "plt.figure(figsize=(16,5))\n",
    "ax1 = plt.gca()\n",
    "ax2 = ax1.twinx() # create second y-axis\n",
    " \n",
    "ax1.plot(grouped_df['Geographic Area'], \n",
    "        grouped_df.poverty_rate, \n",
    "        c='crimson', \n",
    "        linewidth=3,)\n",
    " \n",
    "# Adding prize share plot on second axis\n",
    "ax2.plot(grouped_df['Geographic Area'], \n",
    "        grouped_df.percent_completed_hs, \n",
    "        c='grey', \n",
    "        linewidth=3,)\n",
    " \n",
    "plt.show()\n"
   ]
  },
  {
   "cell_type": "markdown",
   "metadata": {
    "id": "Zavx_8PL1Jy9"
   },
   "source": [
    "#### Now use a Seaborn .jointplot() with a Kernel Density Estimate (KDE) and/or scatter plot to visualise the same relationship"
   ]
  },
  {
   "cell_type": "code",
   "execution_count": 281,
   "metadata": {
    "id": "u77CHfdX0pjW"
   },
   "outputs": [
    {
     "data": {
      "image/png": "[encoded data removed]",
      "text/plain": [
       "<Figure size 800x800 with 3 Axes>"
      ]
     },
     "metadata": {},
     "output_type": "display_data"
    }
   ],
   "source": [
    "with sns.axes_style('darkgrid'):\n",
    "  sns.jointplot(x=grouped_df['percent_completed_hs'], \n",
    "                y=grouped_df.poverty_rate, \n",
    "                height=8, \n",
    "#                 kde=True,             \n",
    "                color='crimson', \n",
    "                joint_kws={'alpha':0.5})\n",
    "\n",
    "plt.show()"
   ]
  },
  {
   "cell_type": "markdown",
   "metadata": {
    "id": "PXNFQmHl10Fx"
   },
   "source": [
    "#### Seaborn's `.lmplot()` or `.regplot()` to show a linear regression between the poverty ratio and the high school graduation ratio. "
   ]
  },
  {
   "cell_type": "code",
   "execution_count": 282,
   "metadata": {
    "id": "F1xrjFgT1znI"
   },
   "outputs": [
    {
     "data": {
      "text/plain": [
       "<AxesSubplot:xlabel='percent_completed_hs', ylabel='poverty_rate'>"
      ]
     },
     "execution_count": 282,
     "metadata": {},
     "output_type": "execute_result"
    },
    {
     "data": {
      "image/png": "[encoded data removed]",
      "text/plain": [
       "<Figure size 640x480 with 1 Axes>"
      ]
     },
     "metadata": {},
     "output_type": "display_data"
    }
   ],
   "source": [
    "sns.regplot(x=grouped_df['percent_completed_hs'], \n",
    "                y=grouped_df.poverty_rate, )"
   ]
  },
  {
   "cell_type": "markdown",
   "metadata": {
    "id": "QJTbZZKg0p6i"
   },
   "source": [
    "# Create a Bar Chart with Subsections Showing the Racial Makeup of Each US State\n",
    "\n",
    "Visualise the share of the white, black, hispanic, asian and native american population in each US State using a bar chart with sub sections. "
   ]
  },
  {
   "cell_type": "code",
   "execution_count": 283,
   "metadata": {},
   "outputs": [
    {
     "name": "stdout",
     "output_type": "stream",
     "text": [
      "<class 'pandas.core.frame.DataFrame'>\n",
      "RangeIndex: 29268 entries, 0 to 29267\n",
      "Data columns (total 7 columns):\n",
      " #   Column                 Non-Null Count  Dtype \n",
      "---  ------                 --------------  ----- \n",
      " 0   Geographic area        29268 non-null  object\n",
      " 1   City                   29268 non-null  object\n",
      " 2   share_white            29268 non-null  object\n",
      " 3   share_black            29268 non-null  object\n",
      " 4   share_native_american  29268 non-null  object\n",
      " 5   share_asian            29268 non-null  object\n",
      " 6   share_hispanic         29268 non-null  object\n",
      "dtypes: object(7)\n",
      "memory usage: 1.6+ MB\n"
     ]
    }
   ],
   "source": [
    "df_share_race_city.info()"
   ]
  },
  {
   "cell_type": "code",
   "execution_count": 284,
   "metadata": {},
   "outputs": [],
   "source": [
    "# Assuming df_share_race_city is your DataFrame\n",
    "for column in df_share_race_city.columns:\n",
    "    if column != 'City' and column != 'Geographic area':\n",
    "        df_share_race_city[column] = df_share_race_city[column].replace('(X)', '0').astype(float)\n",
    "    "
   ]
  },
  {
   "cell_type": "code",
   "execution_count": 285,
   "metadata": {},
   "outputs": [
    {
     "name": "stdout",
     "output_type": "stream",
     "text": [
      "<class 'pandas.core.frame.DataFrame'>\n",
      "RangeIndex: 29268 entries, 0 to 29267\n",
      "Data columns (total 7 columns):\n",
      " #   Column                 Non-Null Count  Dtype  \n",
      "---  ------                 --------------  -----  \n",
      " 0   Geographic area        29268 non-null  object \n",
      " 1   City                   29268 non-null  object \n",
      " 2   share_white            29268 non-null  float64\n",
      " 3   share_black            29268 non-null  float64\n",
      " 4   share_native_american  29268 non-null  float64\n",
      " 5   share_asian            29268 non-null  float64\n",
      " 6   share_hispanic         29268 non-null  float64\n",
      "dtypes: float64(5), object(2)\n",
      "memory usage: 1.6+ MB\n"
     ]
    }
   ],
   "source": [
    "df_share_race_city.info()"
   ]
  },
  {
   "cell_type": "code",
   "execution_count": 286,
   "metadata": {},
   "outputs": [
    {
     "data": {
      "text/html": [
       "<div>\n",
       "<style scoped>\n",
       "    .dataframe tbody tr th:only-of-type {\n",
       "        vertical-align: middle;\n",
       "    }\n",
       "\n",
       "    .dataframe tbody tr th {\n",
       "        vertical-align: top;\n",
       "    }\n",
       "\n",
       "    .dataframe thead th {\n",
       "        text-align: right;\n",
       "    }\n",
       "</style>\n",
       "<table border=\"1\" class=\"dataframe\">\n",
       "  <thead>\n",
       "    <tr style=\"text-align: right;\">\n",
       "      <th></th>\n",
       "      <th>Geographic area</th>\n",
       "      <th>share_white</th>\n",
       "      <th>share_black</th>\n",
       "      <th>share_native_american</th>\n",
       "      <th>share_asian</th>\n",
       "      <th>share_hispanic</th>\n",
       "    </tr>\n",
       "  </thead>\n",
       "  <tbody>\n",
       "    <tr>\n",
       "      <th>0</th>\n",
       "      <td>AL</td>\n",
       "      <td>67.20</td>\n",
       "      <td>30.20</td>\n",
       "      <td>0.00</td>\n",
       "      <td>0.00</td>\n",
       "      <td>1.60</td>\n",
       "    </tr>\n",
       "    <tr>\n",
       "      <th>1</th>\n",
       "      <td>AL</td>\n",
       "      <td>54.40</td>\n",
       "      <td>41.40</td>\n",
       "      <td>0.10</td>\n",
       "      <td>1.00</td>\n",
       "      <td>3.10</td>\n",
       "    </tr>\n",
       "    <tr>\n",
       "      <th>2</th>\n",
       "      <td>AL</td>\n",
       "      <td>52.30</td>\n",
       "      <td>44.90</td>\n",
       "      <td>0.50</td>\n",
       "      <td>0.30</td>\n",
       "      <td>2.30</td>\n",
       "    </tr>\n",
       "    <tr>\n",
       "      <th>3</th>\n",
       "      <td>AL</td>\n",
       "      <td>99.10</td>\n",
       "      <td>0.10</td>\n",
       "      <td>0.00</td>\n",
       "      <td>0.10</td>\n",
       "      <td>0.40</td>\n",
       "    </tr>\n",
       "    <tr>\n",
       "      <th>4</th>\n",
       "      <td>AL</td>\n",
       "      <td>13.20</td>\n",
       "      <td>86.50</td>\n",
       "      <td>0.00</td>\n",
       "      <td>0.00</td>\n",
       "      <td>0.30</td>\n",
       "    </tr>\n",
       "    <tr>\n",
       "      <th>...</th>\n",
       "      <td>...</td>\n",
       "      <td>...</td>\n",
       "      <td>...</td>\n",
       "      <td>...</td>\n",
       "      <td>...</td>\n",
       "      <td>...</td>\n",
       "    </tr>\n",
       "    <tr>\n",
       "      <th>29263</th>\n",
       "      <td>WY</td>\n",
       "      <td>95.90</td>\n",
       "      <td>0.00</td>\n",
       "      <td>0.00</td>\n",
       "      <td>2.10</td>\n",
       "      <td>0.00</td>\n",
       "    </tr>\n",
       "    <tr>\n",
       "      <th>29264</th>\n",
       "      <td>WY</td>\n",
       "      <td>89.90</td>\n",
       "      <td>0.30</td>\n",
       "      <td>1.30</td>\n",
       "      <td>0.60</td>\n",
       "      <td>16.60</td>\n",
       "    </tr>\n",
       "    <tr>\n",
       "      <th>29265</th>\n",
       "      <td>WY</td>\n",
       "      <td>94.50</td>\n",
       "      <td>0.10</td>\n",
       "      <td>1.40</td>\n",
       "      <td>0.20</td>\n",
       "      <td>6.20</td>\n",
       "    </tr>\n",
       "    <tr>\n",
       "      <th>29266</th>\n",
       "      <td>WY</td>\n",
       "      <td>97.40</td>\n",
       "      <td>0.00</td>\n",
       "      <td>0.00</td>\n",
       "      <td>0.00</td>\n",
       "      <td>4.00</td>\n",
       "    </tr>\n",
       "    <tr>\n",
       "      <th>29267</th>\n",
       "      <td>WY</td>\n",
       "      <td>92.80</td>\n",
       "      <td>1.50</td>\n",
       "      <td>2.60</td>\n",
       "      <td>0.00</td>\n",
       "      <td>11.80</td>\n",
       "    </tr>\n",
       "  </tbody>\n",
       "</table>\n",
       "<p>29268 rows × 6 columns</p>\n",
       "</div>"
      ],
      "text/plain": [
       "      Geographic area  share_white  share_black  share_native_american  \\\n",
       "0                  AL        67.20        30.20                   0.00   \n",
       "1                  AL        54.40        41.40                   0.10   \n",
       "2                  AL        52.30        44.90                   0.50   \n",
       "3                  AL        99.10         0.10                   0.00   \n",
       "4                  AL        13.20        86.50                   0.00   \n",
       "...               ...          ...          ...                    ...   \n",
       "29263              WY        95.90         0.00                   0.00   \n",
       "29264              WY        89.90         0.30                   1.30   \n",
       "29265              WY        94.50         0.10                   1.40   \n",
       "29266              WY        97.40         0.00                   0.00   \n",
       "29267              WY        92.80         1.50                   2.60   \n",
       "\n",
       "       share_asian  share_hispanic  \n",
       "0             0.00            1.60  \n",
       "1             1.00            3.10  \n",
       "2             0.30            2.30  \n",
       "3             0.10            0.40  \n",
       "4             0.00            0.30  \n",
       "...            ...             ...  \n",
       "29263         2.10            0.00  \n",
       "29264         0.60           16.60  \n",
       "29265         0.20            6.20  \n",
       "29266         0.00            4.00  \n",
       "29267         0.00           11.80  \n",
       "\n",
       "[29268 rows x 6 columns]"
      ]
     },
     "execution_count": 286,
     "metadata": {},
     "output_type": "execute_result"
    }
   ],
   "source": [
    "df=df_share_race_city\n",
    "df.drop(columns=['City'],axis=1)"
   ]
  },
  {
   "cell_type": "code",
   "execution_count": 287,
   "metadata": {
    "id": "YQbXb6Ex09D9"
   },
   "outputs": [
    {
     "data": {
      "image/png": "[encoded data removed]",
      "text/plain": [
       "<Figure size 1200x600 with 1 Axes>"
      ]
     },
     "metadata": {},
     "output_type": "display_data"
    }
   ],
   "source": [
    "df=df.groupby(['Geographic area'],as_index=True).agg({\n",
    "    'share_white': 'mean',\n",
    "    'share_black': 'mean',\n",
    "    'share_native_american': 'mean',\n",
    "    'share_asian': 'mean',\n",
    "    'share_hispanic': 'mean'\n",
    "})\n",
    "df=df.sort_values(by='share_white',ascending=False)\n",
    "\n",
    "# Create a stacked bar chart\n",
    "ax = df.plot(kind='bar', stacked=True, figsize=(12, 6))\n",
    "\n",
    "# Add labels and legend\n",
    "ax.set_xlabel('state')\n",
    "ax.set_ylabel('Percentage of Population')\n",
    "ax.set_title('Racial Makeup of Cities')\n",
    "ax.legend(title='Racial Groups')\n",
    "\n",
    "# Rotate x-axis labels for better readability\n",
    "plt.xticks(rotation=0)\n",
    "\n",
    "plt.tight_layout()\n",
    "plt.show()"
   ]
  },
  {
   "cell_type": "markdown",
   "metadata": {
    "_uuid": "77493cfd86a031612be8fb8d60f27713e74e6d80",
    "id": "K7xvQXkjuRo7"
   },
   "source": [
    "# Create Donut Chart by of People Killed by Race\n",
    "\n",
    "Hint: Use `.value_counts()`"
   ]
  },
  {
   "cell_type": "code",
   "execution_count": 288,
   "metadata": {},
   "outputs": [
    {
     "data": {
      "text/html": [
       "<div>\n",
       "<style scoped>\n",
       "    .dataframe tbody tr th:only-of-type {\n",
       "        vertical-align: middle;\n",
       "    }\n",
       "\n",
       "    .dataframe tbody tr th {\n",
       "        vertical-align: top;\n",
       "    }\n",
       "\n",
       "    .dataframe thead th {\n",
       "        text-align: right;\n",
       "    }\n",
       "</style>\n",
       "<table border=\"1\" class=\"dataframe\">\n",
       "  <thead>\n",
       "    <tr style=\"text-align: right;\">\n",
       "      <th></th>\n",
       "      <th>Geographic area</th>\n",
       "      <th>City</th>\n",
       "      <th>share_white</th>\n",
       "      <th>share_black</th>\n",
       "      <th>share_native_american</th>\n",
       "      <th>share_asian</th>\n",
       "      <th>share_hispanic</th>\n",
       "    </tr>\n",
       "  </thead>\n",
       "  <tbody>\n",
       "    <tr>\n",
       "      <th>0</th>\n",
       "      <td>AL</td>\n",
       "      <td>Abanda CDP</td>\n",
       "      <td>67.20</td>\n",
       "      <td>30.20</td>\n",
       "      <td>0.00</td>\n",
       "      <td>0.00</td>\n",
       "      <td>1.60</td>\n",
       "    </tr>\n",
       "    <tr>\n",
       "      <th>1</th>\n",
       "      <td>AL</td>\n",
       "      <td>Abbeville city</td>\n",
       "      <td>54.40</td>\n",
       "      <td>41.40</td>\n",
       "      <td>0.10</td>\n",
       "      <td>1.00</td>\n",
       "      <td>3.10</td>\n",
       "    </tr>\n",
       "    <tr>\n",
       "      <th>2</th>\n",
       "      <td>AL</td>\n",
       "      <td>Adamsville city</td>\n",
       "      <td>52.30</td>\n",
       "      <td>44.90</td>\n",
       "      <td>0.50</td>\n",
       "      <td>0.30</td>\n",
       "      <td>2.30</td>\n",
       "    </tr>\n",
       "    <tr>\n",
       "      <th>3</th>\n",
       "      <td>AL</td>\n",
       "      <td>Addison town</td>\n",
       "      <td>99.10</td>\n",
       "      <td>0.10</td>\n",
       "      <td>0.00</td>\n",
       "      <td>0.10</td>\n",
       "      <td>0.40</td>\n",
       "    </tr>\n",
       "    <tr>\n",
       "      <th>4</th>\n",
       "      <td>AL</td>\n",
       "      <td>Akron town</td>\n",
       "      <td>13.20</td>\n",
       "      <td>86.50</td>\n",
       "      <td>0.00</td>\n",
       "      <td>0.00</td>\n",
       "      <td>0.30</td>\n",
       "    </tr>\n",
       "    <tr>\n",
       "      <th>...</th>\n",
       "      <td>...</td>\n",
       "      <td>...</td>\n",
       "      <td>...</td>\n",
       "      <td>...</td>\n",
       "      <td>...</td>\n",
       "      <td>...</td>\n",
       "      <td>...</td>\n",
       "    </tr>\n",
       "    <tr>\n",
       "      <th>29263</th>\n",
       "      <td>WY</td>\n",
       "      <td>Woods Landing-Jelm CDP</td>\n",
       "      <td>95.90</td>\n",
       "      <td>0.00</td>\n",
       "      <td>0.00</td>\n",
       "      <td>2.10</td>\n",
       "      <td>0.00</td>\n",
       "    </tr>\n",
       "    <tr>\n",
       "      <th>29264</th>\n",
       "      <td>WY</td>\n",
       "      <td>Worland city</td>\n",
       "      <td>89.90</td>\n",
       "      <td>0.30</td>\n",
       "      <td>1.30</td>\n",
       "      <td>0.60</td>\n",
       "      <td>16.60</td>\n",
       "    </tr>\n",
       "    <tr>\n",
       "      <th>29265</th>\n",
       "      <td>WY</td>\n",
       "      <td>Wright town</td>\n",
       "      <td>94.50</td>\n",
       "      <td>0.10</td>\n",
       "      <td>1.40</td>\n",
       "      <td>0.20</td>\n",
       "      <td>6.20</td>\n",
       "    </tr>\n",
       "    <tr>\n",
       "      <th>29266</th>\n",
       "      <td>WY</td>\n",
       "      <td>Yoder town</td>\n",
       "      <td>97.40</td>\n",
       "      <td>0.00</td>\n",
       "      <td>0.00</td>\n",
       "      <td>0.00</td>\n",
       "      <td>4.00</td>\n",
       "    </tr>\n",
       "    <tr>\n",
       "      <th>29267</th>\n",
       "      <td>WY</td>\n",
       "      <td>Y-O Ranch CDP</td>\n",
       "      <td>92.80</td>\n",
       "      <td>1.50</td>\n",
       "      <td>2.60</td>\n",
       "      <td>0.00</td>\n",
       "      <td>11.80</td>\n",
       "    </tr>\n",
       "  </tbody>\n",
       "</table>\n",
       "<p>29268 rows × 7 columns</p>\n",
       "</div>"
      ],
      "text/plain": [
       "      Geographic area                    City  share_white  share_black  \\\n",
       "0                  AL              Abanda CDP        67.20        30.20   \n",
       "1                  AL          Abbeville city        54.40        41.40   \n",
       "2                  AL         Adamsville city        52.30        44.90   \n",
       "3                  AL            Addison town        99.10         0.10   \n",
       "4                  AL              Akron town        13.20        86.50   \n",
       "...               ...                     ...          ...          ...   \n",
       "29263              WY  Woods Landing-Jelm CDP        95.90         0.00   \n",
       "29264              WY            Worland city        89.90         0.30   \n",
       "29265              WY             Wright town        94.50         0.10   \n",
       "29266              WY              Yoder town        97.40         0.00   \n",
       "29267              WY           Y-O Ranch CDP        92.80         1.50   \n",
       "\n",
       "       share_native_american  share_asian  share_hispanic  \n",
       "0                       0.00         0.00            1.60  \n",
       "1                       0.10         1.00            3.10  \n",
       "2                       0.50         0.30            2.30  \n",
       "3                       0.00         0.10            0.40  \n",
       "4                       0.00         0.00            0.30  \n",
       "...                      ...          ...             ...  \n",
       "29263                   0.00         2.10            0.00  \n",
       "29264                   1.30         0.60           16.60  \n",
       "29265                   1.40         0.20            6.20  \n",
       "29266                   0.00         0.00            4.00  \n",
       "29267                   2.60         0.00           11.80  \n",
       "\n",
       "[29268 rows x 7 columns]"
      ]
     },
     "execution_count": 288,
     "metadata": {},
     "output_type": "execute_result"
    }
   ],
   "source": [
    "df_share_race_city"
   ]
  },
  {
   "cell_type": "code",
   "execution_count": 289,
   "metadata": {
    "id": "1nOafPdy1u9Z"
   },
   "outputs": [
    {
     "data": {
      "image/png": "[encoded data removed]",
      "text/plain": [
       "<Figure size 640x480 with 1 Axes>"
      ]
     },
     "metadata": {},
     "output_type": "display_data"
    }
   ],
   "source": [
    "\n",
    "df_fatalities['race'].value_counts().plot.pie();"
   ]
  },
  {
   "cell_type": "markdown",
   "metadata": {
    "id": "kr-8Rezn3Bep"
   },
   "source": [
    "# Create a Chart Comparing the Total Number of Deaths of Men and Women\n",
    "\n",
    "Use `df_fatalities` to illustrate how many more men are killed compared to women. "
   ]
  },
  {
   "cell_type": "code",
   "execution_count": 290,
   "metadata": {
    "id": "joH1L4303BsJ"
   },
   "outputs": [
    {
     "data": {
      "image/png": "[encoded data removed]",
      "text/plain": [
       "<Figure size 640x480 with 1 Axes>"
      ]
     },
     "metadata": {},
     "output_type": "display_data"
    }
   ],
   "source": [
    "\n",
    "df_fatalities['gender'].value_counts().plot.pie();"
   ]
  },
  {
   "cell_type": "markdown",
   "metadata": {
    "_uuid": "cd1531c8421bfb6967cebf7039056779f9b960a6",
    "id": "ZxbBdvM0uRpQ"
   },
   "source": [
    "# Create a Box Plot Showing the Age and Manner of Death\n",
    "\n",
    "Break out the data by gender using `df_fatalities`. Is there a difference between men and women in the manner of death? "
   ]
  },
  {
   "cell_type": "code",
   "execution_count": 291,
   "metadata": {},
   "outputs": [],
   "source": [
    "df_fatalities['age']=pd.to_numeric(df_fatalities['age'],downcast='integer', errors='coerce')"
   ]
  },
  {
   "cell_type": "code",
   "execution_count": 292,
   "metadata": {
    "id": "WdPPZLJY2shA"
   },
   "outputs": [
    {
     "data": {
      "application/vnd.plotly.v1+json": {
       "config": {
        "plotlyServerURL": "https://plot.ly"
       },
       "data": [
        {
         "alignmentgroup": "True",
         "hovertemplate": "gender=M<br>manner_of_death=%{x}<br>age=%{y}<extra></extra>",
         "legendgroup": "M",
         "marker": {
          "color": "#636efa"
         },
         "name": "M",
         "notched": false,
         "offsetgroup": "M",
         "orientation": "v",
         "showlegend": true,
         "type": "box",
         "x": [
          "shot",
          "shot",
          "shot and Tasered",
          "shot",
          "shot",
          "shot",
          "shot",
          "shot",
          "shot",
          "shot and Tasered",
          "shot",
          "shot",
          "shot",
          "shot",
          "shot",
          "shot",
          "shot",
          "shot",
          "shot",
          "shot",
          "shot",
          "shot",
          "shot and Tasered",
          "shot",
          "shot",
          "shot",
          "shot",
          "shot",
          "shot",
          "shot",
          "shot",
          "shot",
          "shot",
          "shot",
          "shot",
          "shot",
          "shot",
          "shot and Tasered",
          "shot",
          "shot",
          "shot",
          "shot",
          "shot and Tasered",
          "shot",
          "shot",
          "shot",
          "shot",
          "shot",
          "shot",
          "shot",
          "shot",
          "shot",
          "shot",
          "shot",
          "shot",
          "shot",
          "shot",
          "shot",
          "shot",
          "shot",
          "shot",
          "shot",
          "shot",
          "shot",
          "shot",
          "shot and Tasered",
          "shot",
          "shot",
          "shot",
          "shot",
          "shot",
          "shot and Tasered",
          "shot",
          "shot",
          "shot",
          "shot",
          "shot",
          "shot",
          "shot",
          "shot",
          "shot",
          "shot",
          "shot",
          "shot",
          "shot",
          "shot",
          "shot",
          "shot",
          "shot",
          "shot",
          "shot",
          "shot",
          "shot",
          "shot",
          "shot",
          "shot and Tasered",
          "shot",
          "shot",
          "shot",
          "shot",
          "shot",
          "shot",
          "shot",
          "shot",
          "shot",
          "shot",
          "shot",
          "shot and Tasered",
          "shot",
          "shot",
          "shot",
          "shot",
          "shot",
          "shot",
          "shot",
          "shot",
          "shot",
          "shot",
          "shot",
          "shot",
          "shot",
          "shot",
          "shot",
          "shot",
          "shot and Tasered",
          "shot and Tasered",
          "shot",
          "shot",
          "shot",
          "shot",
          "shot and Tasered",
          "shot",
          "shot",
          "shot and Tasered",
          "shot",
          "shot",
          "shot",
          "shot",
          "shot",
          "shot and Tasered",
          "shot",
          "shot",
          "shot",
          "shot",
          "shot and Tasered",
          "shot",
          "shot",
          "shot",
          "shot",
          "shot",
          "shot",
          "shot",
          "shot",
          "shot",
          "shot",
          "shot",
          "shot",
          "shot",
          "shot",
          "shot",
          "shot",
          "shot",
          "shot",
          "shot",
          "shot",
          "shot",
          "shot",
          "shot",
          "shot",
          "shot",
          "shot",
          "shot",
          "shot",
          "shot",
          "shot",
          "shot",
          "shot",
          "shot",
          "shot",
          "shot",
          "shot",
          "shot",
          "shot",
          "shot",
          "shot",
          "shot",
          "shot",
          "shot",
          "shot",
          "shot",
          "shot",
          "shot",
          "shot",
          "shot",
          "shot",
          "shot",
          "shot",
          "shot",
          "shot",
          "shot",
          "shot",
          "shot",
          "shot",
          "shot",
          "shot",
          "shot",
          "shot and Tasered",
          "shot and Tasered",
          "shot",
          "shot",
          "shot",
          "shot",
          "shot",
          "shot",
          "shot",
          "shot and Tasered",
          "shot",
          "shot",
          "shot",
          "shot",
          "shot",
          "shot",
          "shot",
          "shot",
          "shot",
          "shot",
          "shot",
          "shot",
          "shot",
          "shot",
          "shot",
          "shot",
          "shot and Tasered",
          "shot",
          "shot",
          "shot",
          "shot",
          "shot and Tasered",
          "shot",
          "shot",
          "shot",
          "shot",
          "shot",
          "shot",
          "shot",
          "shot",
          "shot",
          "shot",
          "shot",
          "shot",
          "shot and Tasered",
          "shot",
          "shot",
          "shot",
          "shot",
          "shot",
          "shot",
          "shot",
          "shot",
          "shot",
          "shot",
          "shot",
          "shot",
          "shot",
          "shot",
          "shot",
          "shot",
          "shot",
          "shot",
          "shot",
          "shot",
          "shot",
          "shot",
          "shot",
          "shot",
          "shot",
          "shot",
          "shot",
          "shot",
          "shot",
          "shot",
          "shot",
          "shot",
          "shot",
          "shot",
          "shot",
          "shot",
          "shot",
          "shot",
          "shot",
          "shot",
          "shot",
          "shot",
          "shot",
          "shot",
          "shot",
          "shot",
          "shot",
          "shot",
          "shot",
          "shot",
          "shot",
          "shot",
          "shot",
          "shot",
          "shot",
          "shot",
          "shot",
          "shot",
          "shot",
          "shot and Tasered",
          "shot",
          "shot",
          "shot",
          "shot",
          "shot",
          "shot",
          "shot",
          "shot",
          "shot",
          "shot",
          "shot",
          "shot",
          "shot",
          "shot",
          "shot",
          "shot",
          "shot",
          "shot",
          "shot",
          "shot",
          "shot",
          "shot",
          "shot",
          "shot and Tasered",
          "shot",
          "shot",
          "shot",
          "shot",
          "shot",
          "shot",
          "shot",
          "shot",
          "shot",
          "shot",
          "shot",
          "shot",
          "shot",
          "shot and Tasered",
          "shot",
          "shot",
          "shot",
          "shot",
          "shot",
          "shot",
          "shot",
          "shot",
          "shot",
          "shot",
          "shot",
          "shot",
          "shot",
          "shot",
          "shot",
          "shot",
          "shot",
          "shot",
          "shot and Tasered",
          "shot and Tasered",
          "shot",
          "shot",
          "shot",
          "shot and Tasered",
          "shot",
          "shot",
          "shot",
          "shot",
          "shot",
          "shot",
          "shot",
          "shot",
          "shot",
          "shot",
          "shot",
          "shot and Tasered",
          "shot",
          "shot",
          "shot",
          "shot",
          "shot and Tasered",
          "shot",
          "shot",
          "shot",
          "shot",
          "shot",
          "shot",
          "shot",
          "shot",
          "shot",
          "shot",
          "shot",
          "shot",
          "shot",
          "shot",
          "shot",
          "shot",
          "shot",
          "shot",
          "shot",
          "shot",
          "shot",
          "shot",
          "shot",
          "shot",
          "shot",
          "shot",
          "shot",
          "shot",
          "shot",
          "shot",
          "shot",
          "shot",
          "shot",
          "shot",
          "shot",
          "shot",
          "shot",
          "shot",
          "shot",
          "shot",
          "shot",
          "shot",
          "shot",
          "shot",
          "shot",
          "shot",
          "shot",
          "shot",
          "shot",
          "shot",
          "shot",
          "shot",
          "shot",
          "shot",
          "shot",
          "shot",
          "shot",
          "shot",
          "shot and Tasered",
          "shot",
          "shot",
          "shot",
          "shot",
          "shot",
          "shot",
          "shot",
          "shot",
          "shot",
          "shot and Tasered",
          "shot",
          "shot",
          "shot",
          "shot and Tasered",
          "shot and Tasered",
          "shot",
          "shot",
          "shot",
          "shot",
          "shot",
          "shot",
          "shot",
          "shot",
          "shot",
          "shot",
          "shot",
          "shot",
          "shot",
          "shot",
          "shot",
          "shot and Tasered",
          "shot",
          "shot",
          "shot",
          "shot",
          "shot",
          "shot",
          "shot and Tasered",
          "shot",
          "shot",
          "shot",
          "shot",
          "shot",
          "shot",
          "shot and Tasered",
          "shot",
          "shot",
          "shot and Tasered",
          "shot and Tasered",
          "shot",
          "shot",
          "shot",
          "shot",
          "shot",
          "shot",
          "shot",
          "shot and Tasered",
          "shot",
          "shot",
          "shot",
          "shot",
          "shot",
          "shot",
          "shot",
          "shot",
          "shot",
          "shot",
          "shot",
          "shot",
          "shot",
          "shot and Tasered",
          "shot",
          "shot",
          "shot and Tasered",
          "shot",
          "shot",
          "shot",
          "shot and Tasered",
          "shot",
          "shot",
          "shot",
          "shot",
          "shot",
          "shot",
          "shot",
          "shot",
          "shot and Tasered",
          "shot",
          "shot",
          "shot",
          "shot",
          "shot",
          "shot",
          "shot and Tasered",
          "shot",
          "shot",
          "shot",
          "shot",
          "shot",
          "shot",
          "shot",
          "shot",
          "shot",
          "shot",
          "shot",
          "shot",
          "shot",
          "shot",
          "shot",
          "shot",
          "shot",
          "shot",
          "shot",
          "shot",
          "shot",
          "shot",
          "shot",
          "shot",
          "shot",
          "shot",
          "shot",
          "shot",
          "shot",
          "shot",
          "shot",
          "shot",
          "shot",
          "shot",
          "shot",
          "shot and Tasered",
          "shot",
          "shot",
          "shot",
          "shot",
          "shot",
          "shot",
          "shot",
          "shot",
          "shot and Tasered",
          "shot and Tasered",
          "shot",
          "shot",
          "shot",
          "shot",
          "shot",
          "shot",
          "shot",
          "shot",
          "shot",
          "shot",
          "shot",
          "shot",
          "shot and Tasered",
          "shot",
          "shot",
          "shot",
          "shot",
          "shot",
          "shot and Tasered",
          "shot",
          "shot",
          "shot",
          "shot",
          "shot",
          "shot",
          "shot",
          "shot",
          "shot",
          "shot",
          "shot",
          "shot",
          "shot",
          "shot",
          "shot",
          "shot",
          "shot and Tasered",
          "shot",
          "shot",
          "shot",
          "shot",
          "shot",
          "shot",
          "shot",
          "shot",
          "shot",
          "shot",
          "shot",
          "shot",
          "shot",
          "shot",
          "shot",
          "shot",
          "shot",
          "shot",
          "shot",
          "shot and Tasered",
          "shot",
          "shot",
          "shot",
          "shot",
          "shot",
          "shot",
          "shot",
          "shot",
          "shot",
          "shot",
          "shot",
          "shot",
          "shot",
          "shot",
          "shot",
          "shot",
          "shot",
          "shot",
          "shot",
          "shot",
          "shot",
          "shot",
          "shot",
          "shot",
          "shot",
          "shot",
          "shot",
          "shot",
          "shot",
          "shot",
          "shot",
          "shot",
          "shot",
          "shot",
          "shot",
          "shot",
          "shot",
          "shot",
          "shot",
          "shot",
          "shot",
          "shot",
          "shot",
          "shot",
          "shot",
          "shot and Tasered",
          "shot",
          "shot",
          "shot",
          "shot",
          "shot",
          "shot",
          "shot",
          "shot",
          "shot",
          "shot",
          "shot",
          "shot",
          "shot",
          "shot",
          "shot",
          "shot and Tasered",
          "shot",
          "shot",
          "shot",
          "shot",
          "shot",
          "shot and Tasered",
          "shot",
          "shot",
          "shot",
          "shot",
          "shot",
          "shot and Tasered",
          "shot",
          "shot",
          "shot",
          "shot",
          "shot",
          "shot",
          "shot",
          "shot",
          "shot",
          "shot",
          "shot",
          "shot",
          "shot",
          "shot",
          "shot",
          "shot and Tasered",
          "shot",
          "shot",
          "shot",
          "shot",
          "shot",
          "shot",
          "shot",
          "shot",
          "shot",
          "shot",
          "shot",
          "shot",
          "shot",
          "shot",
          "shot",
          "shot",
          "shot",
          "shot",
          "shot",
          "shot",
          "shot and Tasered",
          "shot",
          "shot",
          "shot",
          "shot",
          "shot",
          "shot",
          "shot",
          "shot",
          "shot",
          "shot",
          "shot",
          "shot",
          "shot",
          "shot",
          "shot",
          "shot",
          "shot",
          "shot",
          "shot",
          "shot",
          "shot",
          "shot",
          "shot",
          "shot",
          "shot",
          "shot",
          "shot",
          "shot",
          "shot",
          "shot",
          "shot",
          "shot",
          "shot",
          "shot",
          "shot and Tasered",
          "shot",
          "shot",
          "shot",
          "shot",
          "shot",
          "shot",
          "shot",
          "shot",
          "shot",
          "shot",
          "shot",
          "shot",
          "shot",
          "shot",
          "shot",
          "shot",
          "shot",
          "shot",
          "shot",
          "shot",
          "shot",
          "shot and Tasered",
          "shot",
          "shot",
          "shot",
          "shot",
          "shot",
          "shot",
          "shot",
          "shot",
          "shot",
          "shot",
          "shot",
          "shot",
          "shot",
          "shot",
          "shot and Tasered",
          "shot",
          "shot",
          "shot",
          "shot",
          "shot",
          "shot",
          "shot",
          "shot",
          "shot",
          "shot",
          "shot",
          "shot",
          "shot",
          "shot",
          "shot",
          "shot",
          "shot",
          "shot",
          "shot",
          "shot",
          "shot",
          "shot and Tasered",
          "shot",
          "shot",
          "shot and Tasered",
          "shot",
          "shot",
          "shot",
          "shot",
          "shot",
          "shot",
          "shot",
          "shot",
          "shot",
          "shot",
          "shot",
          "shot",
          "shot",
          "shot",
          "shot",
          "shot",
          "shot",
          "shot",
          "shot",
          "shot",
          "shot",
          "shot",
          "shot and Tasered",
          "shot",
          "shot",
          "shot and Tasered",
          "shot",
          "shot",
          "shot",
          "shot",
          "shot",
          "shot",
          "shot",
          "shot",
          "shot",
          "shot",
          "shot",
          "shot",
          "shot",
          "shot",
          "shot",
          "shot",
          "shot",
          "shot",
          "shot",
          "shot",
          "shot",
          "shot",
          "shot",
          "shot",
          "shot",
          "shot and Tasered",
          "shot",
          "shot",
          "shot",
          "shot",
          "shot",
          "shot",
          "shot",
          "shot",
          "shot",
          "shot",
          "shot",
          "shot",
          "shot",
          "shot",
          "shot",
          "shot",
          "shot",
          "shot",
          "shot",
          "shot",
          "shot",
          "shot",
          "shot",
          "shot",
          "shot",
          "shot",
          "shot",
          "shot",
          "shot",
          "shot",
          "shot",
          "shot",
          "shot",
          "shot",
          "shot",
          "shot",
          "shot",
          "shot",
          "shot",
          "shot",
          "shot",
          "shot",
          "shot",
          "shot",
          "shot",
          "shot and Tasered",
          "shot",
          "shot",
          "shot",
          "shot",
          "shot",
          "shot",
          "shot",
          "shot",
          "shot",
          "shot",
          "shot and Tasered",
          "shot",
          "shot",
          "shot",
          "shot",
          "shot",
          "shot",
          "shot",
          "shot",
          "shot",
          "shot",
          "shot",
          "shot",
          "shot",
          "shot",
          "shot",
          "shot",
          "shot",
          "shot",
          "shot",
          "shot",
          "shot",
          "shot",
          "shot",
          "shot and Tasered",
          "shot and Tasered",
          "shot",
          "shot",
          "shot",
          "shot",
          "shot",
          "shot",
          "shot",
          "shot",
          "shot",
          "shot",
          "shot",
          "shot",
          "shot",
          "shot",
          "shot",
          "shot and Tasered",
          "shot",
          "shot",
          "shot",
          "shot",
          "shot",
          "shot",
          "shot",
          "shot",
          "shot",
          "shot",
          "shot",
          "shot",
          "shot",
          "shot",
          "shot",
          "shot",
          "shot",
          "shot and Tasered",
          "shot",
          "shot and Tasered",
          "shot",
          "shot",
          "shot",
          "shot and Tasered",
          "shot",
          "shot",
          "shot",
          "shot",
          "shot",
          "shot",
          "shot",
          "shot",
          "shot",
          "shot",
          "shot",
          "shot",
          "shot",
          "shot",
          "shot",
          "shot",
          "shot",
          "shot",
          "shot",
          "shot",
          "shot",
          "shot",
          "shot",
          "shot",
          "shot",
          "shot",
          "shot",
          "shot",
          "shot",
          "shot",
          "shot",
          "shot",
          "shot and Tasered",
          "shot",
          "shot",
          "shot",
          "shot",
          "shot",
          "shot",
          "shot",
          "shot",
          "shot",
          "shot",
          "shot",
          "shot and Tasered",
          "shot",
          "shot",
          "shot",
          "shot",
          "shot",
          "shot",
          "shot",
          "shot",
          "shot",
          "shot",
          "shot",
          "shot",
          "shot",
          "shot",
          "shot",
          "shot",
          "shot",
          "shot and Tasered",
          "shot",
          "shot",
          "shot",
          "shot",
          "shot",
          "shot",
          "shot",
          "shot",
          "shot",
          "shot",
          "shot",
          "shot",
          "shot",
          "shot",
          "shot",
          "shot",
          "shot",
          "shot",
          "shot",
          "shot",
          "shot and Tasered",
          "shot",
          "shot",
          "shot",
          "shot",
          "shot",
          "shot",
          "shot",
          "shot",
          "shot",
          "shot",
          "shot",
          "shot",
          "shot",
          "shot",
          "shot",
          "shot",
          "shot",
          "shot",
          "shot",
          "shot",
          "shot",
          "shot",
          "shot",
          "shot and Tasered",
          "shot and Tasered",
          "shot",
          "shot",
          "shot",
          "shot",
          "shot",
          "shot",
          "shot",
          "shot",
          "shot",
          "shot",
          "shot",
          "shot",
          "shot",
          "shot",
          "shot",
          "shot",
          "shot",
          "shot",
          "shot",
          "shot",
          "shot",
          "shot",
          "shot",
          "shot",
          "shot",
          "shot",
          "shot",
          "shot and Tasered",
          "shot",
          "shot",
          "shot",
          "shot",
          "shot",
          "shot",
          "shot",
          "shot",
          "shot",
          "shot",
          "shot",
          "shot",
          "shot",
          "shot",
          "shot",
          "shot",
          "shot",
          "shot",
          "shot",
          "shot",
          "shot",
          "shot and Tasered",
          "shot",
          "shot",
          "shot",
          "shot",
          "shot",
          "shot",
          "shot",
          "shot",
          "shot",
          "shot",
          "shot",
          "shot",
          "shot",
          "shot",
          "shot",
          "shot",
          "shot",
          "shot",
          "shot and Tasered",
          "shot",
          "shot",
          "shot",
          "shot",
          "shot",
          "shot",
          "shot",
          "shot",
          "shot",
          "shot",
          "shot",
          "shot",
          "shot",
          "shot",
          "shot",
          "shot",
          "shot",
          "shot and Tasered",
          "shot",
          "shot",
          "shot",
          "shot",
          "shot",
          "shot",
          "shot",
          "shot",
          "shot",
          "shot",
          "shot",
          "shot",
          "shot",
          "shot",
          "shot",
          "shot",
          "shot",
          "shot",
          "shot",
          "shot",
          "shot",
          "shot",
          "shot and Tasered",
          "shot",
          "shot",
          "shot",
          "shot",
          "shot",
          "shot",
          "shot",
          "shot",
          "shot and Tasered",
          "shot",
          "shot",
          "shot",
          "shot",
          "shot",
          "shot",
          "shot",
          "shot",
          "shot",
          "shot",
          "shot",
          "shot",
          "shot",
          "shot",
          "shot",
          "shot",
          "shot",
          "shot",
          "shot",
          "shot and Tasered",
          "shot",
          "shot",
          "shot",
          "shot",
          "shot",
          "shot",
          "shot",
          "shot",
          "shot",
          "shot",
          "shot",
          "shot",
          "shot",
          "shot",
          "shot",
          "shot",
          "shot and Tasered",
          "shot",
          "shot",
          "shot",
          "shot",
          "shot",
          "shot",
          "shot",
          "shot",
          "shot",
          "shot",
          "shot",
          "shot",
          "shot",
          "shot",
          "shot",
          "shot",
          "shot",
          "shot",
          "shot",
          "shot",
          "shot",
          "shot",
          "shot",
          "shot",
          "shot",
          "shot",
          "shot",
          "shot",
          "shot",
          "shot",
          "shot",
          "shot",
          "shot",
          "shot",
          "shot",
          "shot",
          "shot and Tasered",
          "shot",
          "shot",
          "shot",
          "shot",
          "shot",
          "shot",
          "shot",
          "shot",
          "shot",
          "shot",
          "shot",
          "shot",
          "shot",
          "shot",
          "shot",
          "shot",
          "shot",
          "shot",
          "shot",
          "shot",
          "shot",
          "shot",
          "shot",
          "shot",
          "shot",
          "shot",
          "shot",
          "shot",
          "shot",
          "shot",
          "shot",
          "shot",
          "shot",
          "shot",
          "shot",
          "shot",
          "shot",
          "shot",
          "shot",
          "shot",
          "shot",
          "shot",
          "shot",
          "shot",
          "shot",
          "shot",
          "shot",
          "shot",
          "shot",
          "shot",
          "shot",
          "shot",
          "shot",
          "shot",
          "shot",
          "shot and Tasered",
          "shot",
          "shot",
          "shot",
          "shot",
          "shot",
          "shot",
          "shot",
          "shot",
          "shot",
          "shot",
          "shot",
          "shot",
          "shot",
          "shot",
          "shot",
          "shot",
          "shot",
          "shot",
          "shot and Tasered",
          "shot",
          "shot",
          "shot",
          "shot",
          "shot",
          "shot",
          "shot",
          "shot",
          "shot",
          "shot",
          "shot",
          "shot",
          "shot",
          "shot",
          "shot",
          "shot",
          "shot",
          "shot",
          "shot",
          "shot",
          "shot and Tasered",
          "shot",
          "shot",
          "shot",
          "shot",
          "shot",
          "shot",
          "shot",
          "shot",
          "shot",
          "shot",
          "shot and Tasered",
          "shot",
          "shot",
          "shot",
          "shot",
          "shot",
          "shot",
          "shot",
          "shot",
          "shot",
          "shot",
          "shot",
          "shot",
          "shot",
          "shot",
          "shot",
          "shot",
          "shot",
          "shot",
          "shot",
          "shot",
          "shot",
          "shot and Tasered",
          "shot",
          "shot",
          "shot and Tasered",
          "shot",
          "shot",
          "shot",
          "shot",
          "shot",
          "shot",
          "shot",
          "shot",
          "shot",
          "shot",
          "shot",
          "shot",
          "shot",
          "shot",
          "shot",
          "shot",
          "shot",
          "shot",
          "shot",
          "shot",
          "shot",
          "shot",
          "shot",
          "shot",
          "shot",
          "shot",
          "shot",
          "shot",
          "shot",
          "shot",
          "shot",
          "shot",
          "shot",
          "shot",
          "shot",
          "shot",
          "shot",
          "shot",
          "shot",
          "shot",
          "shot",
          "shot",
          "shot",
          "shot",
          "shot",
          "shot",
          "shot",
          "shot",
          "shot",
          "shot",
          "shot",
          "shot",
          "shot",
          "shot",
          "shot",
          "shot",
          "shot",
          "shot",
          "shot",
          "shot",
          "shot",
          "shot and Tasered",
          "shot",
          "shot",
          "shot",
          "shot",
          "shot",
          "shot",
          "shot",
          "shot",
          "shot",
          "shot",
          "shot",
          "shot",
          "shot",
          "shot",
          "shot",
          "shot",
          "shot",
          "shot",
          "shot",
          "shot",
          "shot",
          "shot",
          "shot",
          "shot",
          "shot",
          "shot",
          "shot",
          "shot",
          "shot",
          "shot",
          "shot",
          "shot",
          "shot",
          "shot and Tasered",
          "shot",
          "shot",
          "shot",
          "shot",
          "shot and Tasered",
          "shot",
          "shot",
          "shot",
          "shot and Tasered",
          "shot and Tasered",
          "shot and Tasered",
          "shot",
          "shot",
          "shot and Tasered",
          "shot",
          "shot",
          "shot",
          "shot",
          "shot",
          "shot and Tasered",
          "shot",
          "shot",
          "shot",
          "shot",
          "shot",
          "shot",
          "shot",
          "shot",
          "shot",
          "shot",
          "shot",
          "shot",
          "shot",
          "shot",
          "shot",
          "shot",
          "shot",
          "shot",
          "shot",
          "shot",
          "shot",
          "shot",
          "shot",
          "shot",
          "shot",
          "shot",
          "shot",
          "shot",
          "shot",
          "shot",
          "shot",
          "shot",
          "shot",
          "shot and Tasered",
          "shot",
          "shot",
          "shot and Tasered",
          "shot",
          "shot",
          "shot",
          "shot",
          "shot",
          "shot",
          "shot",
          "shot",
          "shot",
          "shot",
          "shot",
          "shot",
          "shot",
          "shot",
          "shot",
          "shot",
          "shot",
          "shot",
          "shot",
          "shot",
          "shot",
          "shot",
          "shot",
          "shot",
          "shot",
          "shot",
          "shot",
          "shot",
          "shot",
          "shot",
          "shot",
          "shot",
          "shot",
          "shot",
          "shot",
          "shot",
          "shot",
          "shot",
          "shot",
          "shot",
          "shot",
          "shot",
          "shot",
          "shot",
          "shot",
          "shot",
          "shot",
          "shot",
          "shot",
          "shot",
          "shot",
          "shot",
          "shot",
          "shot",
          "shot",
          "shot",
          "shot",
          "shot",
          "shot",
          "shot",
          "shot",
          "shot",
          "shot",
          "shot",
          "shot",
          "shot",
          "shot",
          "shot and Tasered",
          "shot",
          "shot",
          "shot",
          "shot",
          "shot",
          "shot and Tasered",
          "shot",
          "shot",
          "shot and Tasered",
          "shot",
          "shot",
          "shot",
          "shot",
          "shot",
          "shot",
          "shot",
          "shot and Tasered",
          "shot",
          "shot",
          "shot",
          "shot",
          "shot",
          "shot",
          "shot",
          "shot",
          "shot",
          "shot and Tasered",
          "shot",
          "shot",
          "shot",
          "shot",
          "shot",
          "shot",
          "shot",
          "shot",
          "shot",
          "shot",
          "shot",
          "shot",
          "shot",
          "shot",
          "shot",
          "shot",
          "shot",
          "shot",
          "shot",
          "shot",
          "shot",
          "shot",
          "shot",
          "shot and Tasered",
          "shot",
          "shot and Tasered",
          "shot",
          "shot",
          "shot",
          "shot",
          "shot and Tasered",
          "shot",
          "shot",
          "shot",
          "shot",
          "shot",
          "shot",
          "shot and Tasered",
          "shot",
          "shot",
          "shot",
          "shot",
          "shot",
          "shot and Tasered",
          "shot",
          "shot",
          "shot",
          "shot",
          "shot",
          "shot",
          "shot",
          "shot and Tasered",
          "shot and Tasered",
          "shot",
          "shot and Tasered",
          "shot",
          "shot",
          "shot and Tasered",
          "shot",
          "shot",
          "shot",
          "shot",
          "shot",
          "shot",
          "shot",
          "shot",
          "shot",
          "shot",
          "shot",
          "shot",
          "shot",
          "shot",
          "shot",
          "shot",
          "shot",
          "shot",
          "shot and Tasered",
          "shot",
          "shot",
          "shot",
          "shot",
          "shot",
          "shot",
          "shot",
          "shot",
          "shot",
          "shot",
          "shot",
          "shot",
          "shot",
          "shot",
          "shot",
          "shot",
          "shot",
          "shot",
          "shot",
          "shot",
          "shot",
          "shot",
          "shot",
          "shot and Tasered",
          "shot and Tasered",
          "shot",
          "shot",
          "shot",
          "shot",
          "shot",
          "shot",
          "shot",
          "shot",
          "shot",
          "shot",
          "shot and Tasered",
          "shot",
          "shot",
          "shot",
          "shot",
          "shot",
          "shot",
          "shot",
          "shot and Tasered",
          "shot and Tasered",
          "shot",
          "shot",
          "shot",
          "shot",
          "shot",
          "shot",
          "shot",
          "shot",
          "shot",
          "shot",
          "shot",
          "shot",
          "shot",
          "shot",
          "shot",
          "shot",
          "shot",
          "shot",
          "shot",
          "shot",
          "shot and Tasered",
          "shot",
          "shot",
          "shot",
          "shot",
          "shot",
          "shot",
          "shot",
          "shot",
          "shot",
          "shot",
          "shot",
          "shot",
          "shot",
          "shot",
          "shot",
          "shot",
          "shot and Tasered",
          "shot and Tasered",
          "shot",
          "shot",
          "shot",
          "shot",
          "shot and Tasered",
          "shot",
          "shot",
          "shot",
          "shot",
          "shot and Tasered",
          "shot",
          "shot",
          "shot",
          "shot",
          "shot",
          "shot",
          "shot",
          "shot",
          "shot",
          "shot",
          "shot",
          "shot",
          "shot",
          "shot",
          "shot",
          "shot",
          "shot",
          "shot",
          "shot and Tasered",
          "shot",
          "shot",
          "shot",
          "shot",
          "shot",
          "shot",
          "shot",
          "shot",
          "shot and Tasered",
          "shot",
          "shot",
          "shot and Tasered",
          "shot",
          "shot",
          "shot and Tasered",
          "shot",
          "shot",
          "shot and Tasered",
          "shot",
          "shot",
          "shot",
          "shot",
          "shot and Tasered",
          "shot",
          "shot",
          "shot",
          "shot",
          "shot and Tasered",
          "shot",
          "shot",
          "shot",
          "shot",
          "shot",
          "shot",
          "shot",
          "shot and Tasered",
          "shot",
          "shot",
          "shot",
          "shot",
          "shot",
          "shot",
          "shot and Tasered",
          "shot",
          "shot",
          "shot",
          "shot",
          "shot",
          "shot",
          "shot",
          "shot",
          "shot",
          "shot",
          "shot",
          "shot",
          "shot",
          "shot",
          "shot",
          "shot",
          "shot",
          "shot and Tasered",
          "shot and Tasered",
          "shot and Tasered",
          "shot",
          "shot",
          "shot",
          "shot",
          "shot",
          "shot",
          "shot",
          "shot",
          "shot",
          "shot",
          "shot",
          "shot",
          "shot",
          "shot",
          "shot",
          "shot",
          "shot",
          "shot",
          "shot",
          "shot",
          "shot and Tasered",
          "shot and Tasered",
          "shot",
          "shot",
          "shot",
          "shot",
          "shot",
          "shot",
          "shot",
          "shot and Tasered",
          "shot and Tasered",
          "shot",
          "shot",
          "shot",
          "shot",
          "shot",
          "shot",
          "shot",
          "shot",
          "shot",
          "shot",
          "shot",
          "shot",
          "shot",
          "shot",
          "shot",
          "shot",
          "shot",
          "shot",
          "shot",
          "shot",
          "shot",
          "shot",
          "shot",
          "shot",
          "shot",
          "shot",
          "shot",
          "shot",
          "shot",
          "shot",
          "shot",
          "shot",
          "shot",
          "shot",
          "shot",
          "shot",
          "shot",
          "shot",
          "shot",
          "shot and Tasered",
          "shot",
          "shot",
          "shot",
          "shot",
          "shot",
          "shot",
          "shot",
          "shot",
          "shot",
          "shot",
          "shot",
          "shot",
          "shot",
          "shot",
          "shot",
          "shot",
          "shot",
          "shot",
          "shot",
          "shot",
          "shot",
          "shot",
          "shot",
          "shot",
          "shot",
          "shot",
          "shot",
          "shot",
          "shot",
          "shot",
          "shot",
          "shot",
          "shot",
          "shot",
          "shot and Tasered",
          "shot",
          "shot",
          "shot and Tasered",
          "shot",
          "shot",
          "shot",
          "shot and Tasered",
          "shot",
          "shot",
          "shot",
          "shot",
          "shot and Tasered",
          "shot",
          "shot",
          "shot",
          "shot",
          "shot",
          "shot",
          "shot",
          "shot",
          "shot",
          "shot",
          "shot",
          "shot",
          "shot and Tasered",
          "shot",
          "shot",
          "shot",
          "shot and Tasered",
          "shot",
          "shot",
          "shot",
          "shot",
          "shot",
          "shot",
          "shot",
          "shot",
          "shot",
          "shot",
          "shot",
          "shot",
          "shot",
          "shot",
          "shot",
          "shot",
          "shot",
          "shot",
          "shot",
          "shot",
          "shot",
          "shot",
          "shot",
          "shot",
          "shot",
          "shot",
          "shot",
          "shot",
          "shot",
          "shot",
          "shot",
          "shot",
          "shot",
          "shot",
          "shot",
          "shot and Tasered",
          "shot",
          "shot",
          "shot",
          "shot",
          "shot",
          "shot",
          "shot",
          "shot",
          "shot",
          "shot",
          "shot",
          "shot",
          "shot",
          "shot",
          "shot",
          "shot",
          "shot",
          "shot",
          "shot",
          "shot",
          "shot",
          "shot",
          "shot",
          "shot",
          "shot",
          "shot",
          "shot",
          "shot",
          "shot",
          "shot",
          "shot",
          "shot",
          "shot",
          "shot and Tasered",
          "shot",
          "shot",
          "shot",
          "shot",
          "shot",
          "shot",
          "shot",
          "shot",
          "shot",
          "shot",
          "shot",
          "shot",
          "shot",
          "shot",
          "shot and Tasered",
          "shot and Tasered",
          "shot",
          "shot",
          "shot",
          "shot",
          "shot",
          "shot",
          "shot",
          "shot",
          "shot",
          "shot",
          "shot",
          "shot",
          "shot",
          "shot",
          "shot and Tasered",
          "shot",
          "shot",
          "shot",
          "shot",
          "shot",
          "shot",
          "shot",
          "shot",
          "shot",
          "shot",
          "shot",
          "shot",
          "shot",
          "shot",
          "shot",
          "shot",
          "shot",
          "shot",
          "shot",
          "shot",
          "shot and Tasered",
          "shot",
          "shot and Tasered",
          "shot",
          "shot",
          "shot",
          "shot",
          "shot",
          "shot",
          "shot",
          "shot",
          "shot",
          "shot",
          "shot",
          "shot",
          "shot",
          "shot",
          "shot",
          "shot",
          "shot",
          "shot",
          "shot",
          "shot",
          "shot",
          "shot",
          "shot",
          "shot",
          "shot and Tasered",
          "shot",
          "shot",
          "shot",
          "shot",
          "shot",
          "shot",
          "shot",
          "shot",
          "shot",
          "shot",
          "shot",
          "shot",
          "shot",
          "shot and Tasered",
          "shot",
          "shot",
          "shot",
          "shot",
          "shot",
          "shot",
          "shot",
          "shot",
          "shot",
          "shot",
          "shot",
          "shot",
          "shot",
          "shot",
          "shot",
          "shot",
          "shot",
          "shot",
          "shot",
          "shot",
          "shot",
          "shot",
          "shot",
          "shot",
          "shot",
          "shot",
          "shot",
          "shot and Tasered",
          "shot",
          "shot",
          "shot and Tasered",
          "shot",
          "shot",
          "shot",
          "shot",
          "shot",
          "shot",
          "shot and Tasered",
          "shot",
          "shot",
          "shot",
          "shot",
          "shot",
          "shot",
          "shot",
          "shot and Tasered",
          "shot",
          "shot",
          "shot",
          "shot",
          "shot",
          "shot",
          "shot",
          "shot",
          "shot",
          "shot",
          "shot",
          "shot and Tasered",
          "shot",
          "shot",
          "shot",
          "shot",
          "shot",
          "shot",
          "shot",
          "shot",
          "shot",
          "shot",
          "shot",
          "shot",
          "shot",
          "shot",
          "shot",
          "shot",
          "shot",
          "shot",
          "shot and Tasered",
          "shot",
          "shot",
          "shot",
          "shot",
          "shot",
          "shot",
          "shot",
          "shot",
          "shot",
          "shot",
          "shot",
          "shot",
          "shot",
          "shot",
          "shot",
          "shot",
          "shot",
          "shot",
          "shot",
          "shot",
          "shot",
          "shot",
          "shot",
          "shot",
          "shot",
          "shot",
          "shot",
          "shot",
          "shot",
          "shot",
          "shot",
          "shot",
          "shot",
          "shot",
          "shot",
          "shot",
          "shot",
          "shot",
          "shot",
          "shot",
          "shot",
          "shot",
          "shot",
          "shot",
          "shot",
          "shot",
          "shot",
          "shot",
          "shot",
          "shot",
          "shot",
          "shot",
          "shot",
          "shot",
          "shot",
          "shot",
          "shot",
          "shot",
          "shot",
          "shot",
          "shot",
          "shot",
          "shot",
          "shot",
          "shot",
          "shot",
          "shot",
          "shot",
          "shot",
          "shot",
          "shot",
          "shot",
          "shot",
          "shot",
          "shot",
          "shot",
          "shot",
          "shot",
          "shot",
          "shot",
          "shot",
          "shot",
          "shot",
          "shot",
          "shot",
          "shot",
          "shot",
          "shot",
          "shot",
          "shot",
          "shot"
         ],
         "x0": " ",
         "xaxis": "x",
         "y": [
          53,
          47,
          23,
          32,
          39,
          18,
          22,
          35,
          47,
          25,
          31,
          41,
          30,
          37,
          28,
          42,
          36,
          49,
          71,
          33,
          39,
          23,
          29,
          34,
          43,
          24,
          29,
          34,
          75,
          68,
          34,
          27,
          39,
          24,
          36,
          33,
          41,
          48,
          21,
          24,
          27,
          32,
          67,
          49,
          42,
          36,
          36,
          19,
          54,
          25,
          61,
          29,
          56,
          40,
          45,
          26,
          26,
          59,
          68,
          24,
          34,
          26,
          29,
          33,
          45,
          35,
          26,
          42,
          31,
          48,
          31,
          54,
          17,
          59,
          42,
          23,
          29,
          45,
          28,
          37,
          28,
          28,
          51,
          36,
          59,
          25,
          26,
          74,
          33,
          27,
          57,
          46,
          41,
          61,
          45,
          35,
          49,
          45,
          23,
          46,
          23,
          21,
          35,
          27,
          37,
          16,
          51,
          25,
          34,
          34,
          56,
          26,
          24,
          31,
          32,
          30,
          50,
          null,
          31,
          38,
          77,
          41,
          51,
          50,
          42,
          39,
          47,
          37,
          41,
          16,
          30,
          27,
          43,
          31,
          42,
          21,
          49,
          27,
          24,
          17,
          34,
          28,
          40,
          49,
          43,
          35,
          20,
          25,
          25,
          26,
          28,
          45,
          36,
          34,
          37,
          48,
          19,
          29,
          40,
          35,
          58,
          46,
          30,
          27,
          31,
          23,
          37,
          64,
          31,
          39,
          31,
          25,
          54,
          53,
          37,
          35,
          59,
          36,
          32,
          41,
          29,
          53,
          26,
          27,
          28,
          52,
          20,
          22,
          49,
          24,
          47,
          64,
          16,
          20,
          36,
          39,
          18,
          31,
          24,
          63,
          34,
          44,
          60,
          42,
          21,
          37,
          36,
          21,
          24,
          38,
          29,
          57,
          23,
          27,
          28,
          63,
          35,
          56,
          39,
          23,
          40,
          42,
          41,
          26,
          29,
          49,
          54,
          36,
          21,
          37,
          36,
          32,
          63,
          44,
          27,
          38,
          17,
          50,
          31,
          34,
          51,
          56,
          23,
          25,
          31,
          32,
          60,
          42,
          39,
          28,
          54,
          22,
          29,
          31,
          28,
          21,
          38,
          66,
          36,
          83,
          32,
          27,
          26,
          31,
          22,
          41,
          41,
          51,
          72,
          52,
          47,
          18,
          29,
          23,
          43,
          45,
          40,
          44,
          25,
          35,
          37,
          59,
          35,
          18,
          51,
          30,
          31,
          39,
          26,
          51,
          19,
          49,
          63,
          20,
          25,
          24,
          58,
          29,
          76,
          45,
          20,
          58,
          21,
          27,
          26,
          33,
          27,
          53,
          53,
          42,
          22,
          52,
          36,
          30,
          34,
          44,
          53,
          36,
          29,
          32,
          46,
          18,
          72,
          38,
          21,
          35,
          58,
          48,
          31,
          47,
          34,
          30,
          28,
          28,
          46,
          40,
          37,
          53,
          41,
          42,
          45,
          34,
          18,
          27,
          54,
          35,
          17,
          29,
          52,
          38,
          26,
          22,
          29,
          43,
          24,
          32,
          40,
          25,
          47,
          40,
          36,
          62,
          51,
          24,
          39,
          24,
          57,
          20,
          33,
          60,
          32,
          40,
          18,
          36,
          35,
          55,
          19,
          39,
          40,
          47,
          23,
          26,
          26,
          46,
          36,
          18,
          33,
          56,
          50,
          30,
          53,
          45,
          42,
          27,
          36,
          58,
          54,
          30,
          69,
          30,
          45,
          22,
          28,
          19,
          40,
          86,
          46,
          28,
          22,
          46,
          35,
          35,
          28,
          15,
          22,
          28,
          31,
          48,
          58,
          44,
          21,
          50,
          23,
          24,
          49,
          60,
          35,
          29,
          20,
          34,
          22,
          49,
          32,
          26,
          41,
          61,
          49,
          28,
          35,
          29,
          51,
          52,
          24,
          32,
          45,
          60,
          23,
          59,
          27,
          46,
          33,
          40,
          42,
          37,
          23,
          36,
          19,
          35,
          25,
          43,
          20,
          42,
          42,
          31,
          29,
          18,
          33,
          59,
          47,
          39,
          37,
          35,
          28,
          59,
          62,
          50,
          68,
          27,
          17,
          38,
          21,
          54,
          20,
          25,
          31,
          35,
          36,
          60,
          24,
          27,
          20,
          24,
          23,
          41,
          20,
          76,
          43,
          25,
          29,
          35,
          30,
          24,
          23,
          29,
          27,
          23,
          50,
          19,
          24,
          22,
          46,
          65,
          43,
          35,
          54,
          47,
          24,
          35,
          25,
          26,
          27,
          34,
          31,
          32,
          47,
          44,
          30,
          60,
          50,
          36,
          59,
          33,
          19,
          56,
          45,
          22,
          41,
          34,
          53,
          48,
          25,
          30,
          47,
          33,
          34,
          52,
          29,
          63,
          49,
          18,
          71,
          35,
          55,
          31,
          18,
          51,
          39,
          20,
          29,
          40,
          42,
          22,
          19,
          24,
          30,
          53,
          25,
          28,
          33,
          24,
          59,
          46,
          15,
          41,
          77,
          22,
          24,
          34,
          48,
          24,
          27,
          27,
          27,
          49,
          38,
          26,
          30,
          53,
          43,
          23,
          34,
          30,
          29,
          47,
          35,
          40,
          18,
          24,
          29,
          44,
          19,
          50,
          17,
          57,
          30,
          38,
          31,
          39,
          29,
          26,
          64,
          36,
          36,
          21,
          53,
          57,
          30,
          34,
          53,
          45,
          22,
          22,
          46,
          27,
          42,
          30,
          54,
          29,
          41,
          28,
          61,
          23,
          25,
          null,
          29,
          20,
          40,
          45,
          33,
          76,
          47,
          45,
          40,
          37,
          49,
          27,
          36,
          23,
          21,
          32,
          35,
          59,
          28,
          45,
          45,
          19,
          25,
          37,
          33,
          59,
          31,
          35,
          29,
          32,
          41,
          31,
          44,
          23,
          45,
          39,
          67,
          29,
          25,
          28,
          21,
          32,
          51,
          39,
          27,
          31,
          50,
          null,
          32,
          47,
          46,
          57,
          23,
          56,
          24,
          27,
          21,
          26,
          34,
          32,
          33,
          55,
          26,
          48,
          35,
          19,
          45,
          28,
          42,
          17,
          30,
          21,
          33,
          45,
          46,
          23,
          43,
          40,
          31,
          59,
          46,
          37,
          28,
          28,
          26,
          29,
          45,
          27,
          31,
          51,
          50,
          27,
          18,
          39,
          46,
          19,
          49,
          31,
          38,
          40,
          35,
          34,
          44,
          23,
          43,
          null,
          31,
          27,
          18,
          59,
          57,
          15,
          25,
          31,
          35,
          27,
          20,
          27,
          45,
          33,
          22,
          28,
          31,
          28,
          53,
          30,
          39,
          40,
          30,
          21,
          35,
          21,
          47,
          38,
          36,
          53,
          null,
          34,
          34,
          30,
          28,
          47,
          49,
          36,
          45,
          18,
          25,
          29,
          57,
          34,
          35,
          null,
          18,
          62,
          29,
          25,
          30,
          33,
          56,
          49,
          20,
          62,
          62,
          6,
          30,
          57,
          18,
          47,
          48,
          20,
          30,
          51,
          55,
          48,
          20,
          25,
          26,
          45,
          35,
          63,
          34,
          36,
          22,
          31,
          25,
          57,
          32,
          42,
          52,
          25,
          25,
          31,
          39,
          32,
          16,
          24,
          28,
          25,
          41,
          28,
          21,
          30,
          58,
          47,
          25,
          44,
          34,
          27,
          34,
          39,
          29,
          24,
          47,
          45,
          28,
          49,
          50,
          45,
          32,
          24,
          23,
          52,
          26,
          58,
          50,
          22,
          53,
          69,
          23,
          29,
          25,
          18,
          31,
          23,
          18,
          35,
          28,
          26,
          32,
          36,
          66,
          47,
          21,
          24,
          51,
          60,
          38,
          35,
          46,
          48,
          36,
          33,
          66,
          51,
          34,
          55,
          54,
          null,
          36,
          25,
          24,
          28,
          36,
          20,
          49,
          null,
          21,
          30,
          32,
          33,
          52,
          56,
          39,
          19,
          45,
          33,
          51,
          null,
          25,
          24,
          32,
          58,
          24,
          26,
          30,
          31,
          34,
          48,
          null,
          21,
          39,
          25,
          30,
          61,
          56,
          29,
          19,
          35,
          36,
          54,
          24,
          23,
          18,
          31,
          41,
          19,
          38,
          36,
          34,
          52,
          28,
          null,
          55,
          39,
          23,
          30,
          37,
          54,
          37,
          30,
          27,
          22,
          29,
          39,
          33,
          52,
          28,
          54,
          38,
          32,
          34,
          26,
          50,
          37,
          56,
          45,
          32,
          49,
          58,
          29,
          60,
          40,
          39,
          26,
          24,
          34,
          27,
          44,
          55,
          19,
          52,
          24,
          38,
          31,
          26,
          33,
          28,
          27,
          39,
          29,
          36,
          55,
          28,
          40,
          33,
          37,
          39,
          43,
          38,
          55,
          52,
          32,
          31,
          27,
          40,
          30,
          26,
          33,
          19,
          33,
          29,
          29,
          38,
          64,
          42,
          42,
          37,
          46,
          25,
          62,
          36,
          21,
          30,
          53,
          31,
          22,
          24,
          36,
          47,
          54,
          43,
          38,
          30,
          51,
          55,
          16,
          23,
          36,
          27,
          33,
          17,
          22,
          22,
          29,
          41,
          67,
          36,
          52,
          56,
          35,
          45,
          30,
          29,
          53,
          22,
          29,
          24,
          19,
          26,
          50,
          29,
          52,
          39,
          51,
          48,
          30,
          37,
          25,
          30,
          35,
          32,
          35,
          31,
          30,
          23,
          41,
          45,
          46,
          32,
          33,
          45,
          38,
          22,
          48,
          36,
          39,
          26,
          16,
          58,
          27,
          26,
          21,
          37,
          56,
          19,
          38,
          18,
          35,
          23,
          41,
          44,
          24,
          39,
          22,
          37,
          36,
          41,
          27,
          66,
          30,
          34,
          22,
          51,
          42,
          41,
          49,
          45,
          45,
          42,
          41,
          27,
          37,
          22,
          21,
          50,
          23,
          25,
          51,
          46,
          23,
          37,
          20,
          43,
          45,
          16,
          30,
          26,
          24,
          28,
          29,
          34,
          38,
          43,
          23,
          33,
          40,
          38,
          53,
          29,
          30,
          49,
          60,
          24,
          21,
          23,
          61,
          54,
          62,
          16,
          76,
          25,
          28,
          25,
          33,
          51,
          34,
          30,
          44,
          24,
          29,
          48,
          19,
          22,
          39,
          36,
          55,
          46,
          34,
          33,
          18,
          33,
          46,
          51,
          33,
          25,
          52,
          31,
          18,
          43,
          34,
          65,
          37,
          30,
          48,
          25,
          69,
          50,
          52,
          44,
          60,
          20,
          45,
          44,
          40,
          43,
          27,
          19,
          39,
          30,
          28,
          22,
          16,
          40,
          38,
          20,
          35,
          52,
          26,
          54,
          38,
          52,
          26,
          53,
          22,
          31,
          32,
          37,
          28,
          18,
          41,
          15,
          38,
          41,
          52,
          48,
          29,
          51,
          21,
          24,
          18,
          30,
          33,
          28,
          26,
          44,
          36,
          34,
          21,
          37,
          53,
          45,
          24,
          48,
          42,
          33,
          55,
          28,
          25,
          28,
          52,
          59,
          52,
          39,
          18,
          40,
          36,
          38,
          null,
          29,
          37,
          29,
          21,
          33,
          33,
          23,
          26,
          59,
          29,
          28,
          35,
          33,
          24,
          null,
          28,
          19,
          43,
          59,
          34,
          35,
          23,
          36,
          46,
          44,
          20,
          30,
          35,
          36,
          22,
          31,
          63,
          38,
          31,
          27,
          35,
          22,
          28,
          26,
          22,
          57,
          31,
          43,
          24,
          29,
          43,
          null,
          21,
          19,
          25,
          59,
          50,
          58,
          25,
          32,
          53,
          38,
          70,
          33,
          36,
          null,
          21,
          51,
          43,
          18,
          33,
          34,
          31,
          35,
          31,
          31,
          23,
          25,
          25,
          21,
          49,
          63,
          43,
          34,
          38,
          52,
          68,
          null,
          31,
          29,
          32,
          50,
          27,
          31,
          29,
          23,
          61,
          33,
          18,
          80,
          43,
          50,
          47,
          54,
          22,
          43,
          38,
          21,
          36,
          30,
          null,
          34,
          17,
          37,
          25,
          30,
          23,
          20,
          19,
          50,
          24,
          25,
          20,
          37,
          44,
          22,
          31,
          25,
          null,
          29,
          36,
          50,
          42,
          26,
          19,
          59,
          36,
          null,
          51,
          27,
          22,
          30,
          28,
          63,
          32,
          26,
          25,
          27,
          61,
          30,
          null,
          37,
          41,
          25,
          24,
          44,
          63,
          30,
          58,
          35,
          50,
          40,
          null,
          19,
          34,
          18,
          21,
          null,
          37,
          29,
          49,
          32,
          65,
          37,
          33,
          63,
          30,
          40,
          38,
          50,
          41,
          41,
          39,
          44,
          23,
          32,
          56,
          33,
          63,
          31,
          26,
          57,
          39,
          43,
          42,
          29,
          56,
          31,
          50,
          36,
          50,
          34,
          49,
          31,
          36,
          29,
          32,
          18,
          50,
          36,
          33,
          17,
          19,
          24,
          24,
          20,
          41,
          47,
          18,
          31,
          27,
          36,
          59,
          32,
          38,
          18,
          32,
          43,
          67,
          22,
          31,
          43,
          34,
          51,
          31,
          54,
          69,
          58,
          26,
          31,
          59,
          25,
          20,
          69,
          57,
          56,
          64,
          34,
          45,
          14,
          44,
          54,
          59,
          33,
          22,
          49,
          36,
          23,
          38,
          53,
          29,
          42,
          25,
          18,
          55,
          36,
          32,
          53,
          30,
          27,
          37,
          29,
          40,
          36,
          38,
          29,
          59,
          47,
          22,
          31,
          29,
          54,
          71,
          36,
          34,
          49,
          36,
          43,
          53,
          63,
          31,
          32,
          41,
          26,
          49,
          82,
          37,
          24,
          56,
          28,
          36,
          22,
          59,
          36,
          21,
          38,
          60,
          18,
          23,
          null,
          38,
          40,
          22,
          38,
          25,
          25,
          36,
          null,
          null,
          44,
          36,
          35,
          25,
          65,
          31,
          70,
          25,
          55,
          35,
          25,
          32,
          38,
          32,
          64,
          55,
          69,
          37,
          31,
          86,
          25,
          25,
          13,
          32,
          34,
          69,
          46,
          40,
          29,
          29,
          42,
          25,
          45,
          55,
          22,
          61,
          30,
          56,
          35,
          22,
          23,
          43,
          43,
          49,
          23,
          41,
          33,
          30,
          25,
          52,
          32,
          46,
          48,
          38,
          26,
          32,
          28,
          53,
          38,
          18,
          32,
          37,
          18,
          20,
          28,
          18,
          16,
          36,
          57,
          49,
          31,
          26,
          51,
          28,
          35,
          57,
          36,
          42,
          null,
          49,
          62,
          21,
          39,
          41,
          40,
          50,
          27,
          19,
          26,
          44,
          30,
          31,
          33,
          22,
          50,
          46,
          38,
          23,
          24,
          26,
          38,
          32,
          50,
          17,
          39,
          28,
          42,
          34,
          38,
          24,
          28,
          29,
          58,
          21,
          45,
          38,
          40,
          19,
          46,
          25,
          37,
          25,
          36,
          32,
          33,
          24,
          37,
          38,
          45,
          31,
          34,
          23,
          38,
          55,
          76,
          59,
          40,
          23,
          64,
          26,
          35,
          49,
          36,
          56,
          59,
          34,
          33,
          43,
          43,
          31,
          17,
          32,
          31,
          19,
          23,
          26,
          45,
          36,
          41,
          53,
          null,
          24,
          null,
          47,
          40,
          29,
          38,
          22,
          21,
          25,
          37,
          48,
          37,
          56,
          35,
          25,
          25,
          48,
          26,
          29,
          15,
          55,
          21,
          24,
          18,
          19,
          27,
          45,
          36,
          34,
          23,
          43,
          43,
          19,
          45,
          37,
          23,
          26,
          20,
          50,
          59,
          33,
          48,
          18,
          23,
          41,
          41,
          55,
          29,
          31,
          25,
          38,
          null,
          83,
          22,
          33,
          36,
          38,
          26,
          29,
          55,
          47,
          52,
          49,
          31,
          37,
          37,
          36,
          20,
          null,
          30,
          null,
          35,
          35,
          36,
          53,
          39,
          30,
          24,
          73,
          31,
          28,
          18,
          32,
          60,
          36,
          48,
          33,
          44,
          20,
          37,
          72,
          52,
          31,
          46,
          null,
          31,
          25,
          46,
          38,
          25,
          null,
          27,
          24,
          19,
          31,
          55,
          null,
          18,
          null,
          48,
          29,
          30,
          33,
          61,
          35,
          41,
          36,
          28,
          52,
          21,
          null,
          31,
          33,
          46,
          32,
          42,
          17,
          44,
          35,
          23,
          21,
          53,
          63,
          18,
          51,
          64,
          45,
          20,
          41,
          23,
          32,
          25,
          42,
          41,
          31,
          50,
          38,
          44,
          38,
          21,
          32,
          23,
          41,
          41,
          38,
          54,
          20,
          26,
          29,
          47,
          28,
          48,
          34,
          33,
          36,
          43,
          32,
          29,
          39,
          16,
          40,
          50,
          19,
          28,
          25,
          49,
          44,
          39,
          44,
          50,
          57,
          57,
          33,
          21,
          52,
          27,
          60,
          25,
          34,
          22,
          26,
          27,
          29,
          30,
          18,
          32,
          37,
          54,
          50,
          28,
          59,
          24,
          34,
          25,
          48,
          45,
          25,
          17,
          53,
          18,
          50,
          36,
          45,
          42,
          null,
          23,
          31,
          18,
          26,
          57,
          27,
          41,
          33,
          22,
          38,
          26,
          45,
          23,
          68,
          56,
          45,
          41,
          33,
          22,
          50,
          52,
          18,
          35,
          18,
          34,
          51,
          29,
          34,
          25,
          26,
          33,
          17,
          null,
          25,
          31,
          25,
          45,
          25,
          23,
          37,
          33,
          27,
          32,
          null,
          31,
          26,
          32,
          53,
          19,
          53,
          35,
          64,
          24,
          33,
          55,
          17,
          48,
          21,
          22,
          30,
          34,
          35,
          32,
          22,
          46,
          27,
          18,
          33,
          26,
          27,
          26,
          51,
          63,
          38,
          25,
          39,
          41,
          26,
          33,
          54,
          38,
          24,
          47,
          62,
          30,
          23,
          39,
          null,
          36,
          66,
          27,
          40,
          25,
          20,
          43,
          40,
          33,
          34,
          27,
          25,
          37,
          32,
          25,
          38,
          50,
          70,
          26,
          null,
          41,
          91,
          null,
          25,
          24,
          29,
          40,
          51,
          30,
          33,
          28,
          23,
          23,
          20,
          56,
          36,
          18,
          43,
          29,
          25,
          34,
          32,
          32,
          58,
          36,
          25,
          25,
          25,
          42,
          36,
          59,
          19,
          45,
          null,
          42,
          27,
          45,
          null,
          42,
          24,
          39,
          18,
          26,
          35,
          53,
          56,
          54,
          36,
          51,
          45,
          28,
          36,
          73,
          26,
          41,
          59,
          28,
          45,
          27,
          46,
          null,
          30,
          46,
          47,
          32,
          65,
          19,
          22,
          39,
          38,
          68,
          49,
          37,
          33,
          25,
          36,
          36,
          30,
          39,
          28,
          28,
          25,
          57,
          35,
          24,
          null,
          33,
          56,
          56,
          16,
          47,
          33,
          32,
          21,
          64,
          19,
          55,
          null,
          25,
          25,
          43,
          39,
          24,
          70,
          15,
          79,
          16,
          35,
          24,
          53,
          20,
          27,
          57,
          53,
          32,
          26,
          53,
          32,
          25,
          15,
          59,
          35,
          33,
          32,
          49,
          46,
          25,
          48,
          20,
          null,
          24,
          18,
          67,
          26,
          15,
          62,
          24,
          27,
          26,
          32,
          29,
          16,
          25,
          null,
          39,
          34,
          36,
          24,
          50,
          null,
          51,
          30,
          35,
          46,
          37,
          41,
          41,
          48,
          29,
          47,
          null,
          34,
          48,
          25,
          24,
          38,
          28,
          47,
          65,
          58,
          33,
          43,
          24,
          37,
          null,
          21,
          65,
          59,
          74,
          24,
          null,
          23,
          59,
          33,
          34,
          30,
          null,
          null,
          22,
          35,
          37,
          20,
          62,
          18,
          24,
          17,
          27,
          51,
          29,
          34,
          18,
          17,
          55,
          44,
          27,
          66,
          45,
          47,
          34,
          37,
          54,
          50,
          21,
          21,
          35,
          75,
          45,
          30,
          48,
          58,
          29,
          44,
          82,
          null,
          53,
          60,
          19,
          45,
          63,
          50,
          35,
          24,
          36,
          35,
          33,
          20,
          66,
          54,
          40,
          41,
          30,
          32,
          37,
          48,
          64,
          21,
          28,
          null,
          null,
          40,
          32,
          50,
          33,
          37,
          17,
          20,
          34,
          37,
          null,
          47,
          20,
          56,
          24,
          47,
          null,
          36,
          35,
          null,
          37,
          45,
          null,
          23,
          37,
          23,
          33,
          23,
          37,
          19,
          null,
          53,
          null,
          null,
          45,
          null,
          28,
          36,
          32,
          39,
          46,
          34,
          53,
          45,
          24,
          51,
          35,
          27,
          33,
          null,
          30,
          22,
          null,
          28,
          34,
          24,
          54,
          26,
          39,
          34,
          27,
          48,
          47,
          null,
          33,
          40,
          null,
          55,
          56,
          42,
          34,
          29,
          23,
          null,
          52,
          43,
          37,
          32,
          70,
          36,
          24,
          24,
          38,
          52,
          27,
          22,
          42,
          49,
          59,
          41,
          34,
          31,
          23,
          28,
          33,
          16,
          35,
          null,
          25,
          46,
          39,
          25,
          31,
          null,
          32,
          31,
          null,
          48,
          28,
          32
         ],
         "y0": " ",
         "yaxis": "y"
        },
        {
         "alignmentgroup": "True",
         "hovertemplate": "gender=F<br>manner_of_death=%{x}<br>age=%{y}<extra></extra>",
         "legendgroup": "F",
         "marker": {
          "color": "#EF553B"
         },
         "name": "F",
         "notched": false,
         "offsetgroup": "F",
         "orientation": "v",
         "showlegend": true,
         "type": "box",
         "x": [
          "shot",
          "shot and Tasered",
          "shot",
          "shot",
          "shot",
          "shot",
          "shot",
          "shot",
          "shot",
          "shot",
          "shot",
          "shot",
          "shot",
          "shot",
          "shot",
          "shot",
          "shot",
          "shot",
          "shot and Tasered",
          "shot",
          "shot",
          "shot",
          "shot",
          "shot",
          "shot and Tasered",
          "shot",
          "shot",
          "shot",
          "shot",
          "shot",
          "shot",
          "shot",
          "shot",
          "shot",
          "shot",
          "shot",
          "shot",
          "shot",
          "shot",
          "shot",
          "shot",
          "shot",
          "shot",
          "shot",
          "shot",
          "shot",
          "shot",
          "shot",
          "shot",
          "shot",
          "shot",
          "shot",
          "shot",
          "shot",
          "shot",
          "shot",
          "shot",
          "shot",
          "shot",
          "shot",
          "shot",
          "shot",
          "shot",
          "shot",
          "shot",
          "shot",
          "shot",
          "shot",
          "shot",
          "shot",
          "shot",
          "shot",
          "shot",
          "shot",
          "shot",
          "shot",
          "shot",
          "shot",
          "shot",
          "shot",
          "shot",
          "shot",
          "shot and Tasered",
          "shot",
          "shot",
          "shot and Tasered",
          "shot",
          "shot",
          "shot",
          "shot",
          "shot",
          "shot",
          "shot",
          "shot",
          "shot",
          "shot",
          "shot",
          "shot",
          "shot",
          "shot",
          "shot",
          "shot",
          "shot",
          "shot",
          "shot",
          "shot",
          "shot"
         ],
         "x0": " ",
         "xaxis": "x",
         "y": [
          34,
          17,
          17,
          39,
          38,
          43,
          20,
          34,
          28,
          37,
          43,
          24,
          49,
          53,
          26,
          27,
          46,
          25,
          39,
          31,
          45,
          17,
          40,
          44,
          30,
          28,
          23,
          37,
          55,
          62,
          46,
          50,
          21,
          36,
          37,
          27,
          61,
          51,
          48,
          22,
          55,
          50,
          45,
          12,
          25,
          31,
          32,
          41,
          32,
          36,
          31,
          38,
          38,
          25,
          27,
          50,
          36,
          40,
          25,
          35,
          60,
          24,
          26,
          29,
          null,
          42,
          24,
          40,
          23,
          35,
          46,
          53,
          26,
          66,
          23,
          25,
          39,
          31,
          56,
          44,
          53,
          71,
          37,
          21,
          18,
          55,
          30,
          33,
          46,
          16,
          59,
          21,
          17,
          54,
          50,
          27,
          41,
          null,
          24,
          28,
          30,
          null,
          29,
          50,
          40,
          25,
          62
         ],
         "y0": " ",
         "yaxis": "y"
        }
       ],
       "layout": {
        "boxmode": "group",
        "legend": {
         "title": {
          "text": "gender"
         },
         "tracegroupgap": 0
        },
        "template": {
         "data": {
          "bar": [
           {
            "error_x": {
             "color": "#2a3f5f"
            },
            "error_y": {
             "color": "#2a3f5f"
            },
            "marker": {
             "line": {
              "color": "#E5ECF6",
              "width": 0.5
             },
             "pattern": {
              "fillmode": "overlay",
              "size": 10,
              "solidity": 0.2
             }
            },
            "type": "bar"
           }
          ],
          "barpolar": [
           {
            "marker": {
             "line": {
              "color": "#E5ECF6",
              "width": 0.5
             },
             "pattern": {
              "fillmode": "overlay",
              "size": 10,
              "solidity": 0.2
             }
            },
            "type": "barpolar"
           }
          ],
          "carpet": [
           {
            "aaxis": {
             "endlinecolor": "#2a3f5f",
             "gridcolor": "white",
             "linecolor": "white",
             "minorgridcolor": "white",
             "startlinecolor": "#2a3f5f"
            },
            "baxis": {
             "endlinecolor": "#2a3f5f",
             "gridcolor": "white",
             "linecolor": "white",
             "minorgridcolor": "white",
             "startlinecolor": "#2a3f5f"
            },
            "type": "carpet"
           }
          ],
          "choropleth": [
           {
            "colorbar": {
             "outlinewidth": 0,
             "ticks": ""
            },
            "type": "choropleth"
           }
          ],
          "contour": [
           {
            "colorbar": {
             "outlinewidth": 0,
             "ticks": ""
            },
            "colorscale": [
             [
              0,
              "#0d0887"
             ],
             [
              0.1111111111111111,
              "#46039f"
             ],
             [
              0.2222222222222222,
              "#7201a8"
             ],
             [
              0.3333333333333333,
              "#9c179e"
             ],
             [
              0.4444444444444444,
              "#bd3786"
             ],
             [
              0.5555555555555556,
              "#d8576b"
             ],
             [
              0.6666666666666666,
              "#ed7953"
             ],
             [
              0.7777777777777778,
              "#fb9f3a"
             ],
             [
              0.8888888888888888,
              "#fdca26"
             ],
             [
              1,
              "#f0f921"
             ]
            ],
            "type": "contour"
           }
          ],
          "contourcarpet": [
           {
            "colorbar": {
             "outlinewidth": 0,
             "ticks": ""
            },
            "type": "contourcarpet"
           }
          ],
          "heatmap": [
           {
            "colorbar": {
             "outlinewidth": 0,
             "ticks": ""
            },
            "colorscale": [
             [
              0,
              "#0d0887"
             ],
             [
              0.1111111111111111,
              "#46039f"
             ],
             [
              0.2222222222222222,
              "#7201a8"
             ],
             [
              0.3333333333333333,
              "#9c179e"
             ],
             [
              0.4444444444444444,
              "#bd3786"
             ],
             [
              0.5555555555555556,
              "#d8576b"
             ],
             [
              0.6666666666666666,
              "#ed7953"
             ],
             [
              0.7777777777777778,
              "#fb9f3a"
             ],
             [
              0.8888888888888888,
              "#fdca26"
             ],
             [
              1,
              "#f0f921"
             ]
            ],
            "type": "heatmap"
           }
          ],
          "heatmapgl": [
           {
            "colorbar": {
             "outlinewidth": 0,
             "ticks": ""
            },
            "colorscale": [
             [
              0,
              "#0d0887"
             ],
             [
              0.1111111111111111,
              "#46039f"
             ],
             [
              0.2222222222222222,
              "#7201a8"
             ],
             [
              0.3333333333333333,
              "#9c179e"
             ],
             [
              0.4444444444444444,
              "#bd3786"
             ],
             [
              0.5555555555555556,
              "#d8576b"
             ],
             [
              0.6666666666666666,
              "#ed7953"
             ],
             [
              0.7777777777777778,
              "#fb9f3a"
             ],
             [
              0.8888888888888888,
              "#fdca26"
             ],
             [
              1,
              "#f0f921"
             ]
            ],
            "type": "heatmapgl"
           }
          ],
          "histogram": [
           {
            "marker": {
             "pattern": {
              "fillmode": "overlay",
              "size": 10,
              "solidity": 0.2
             }
            },
            "type": "histogram"
           }
          ],
          "histogram2d": [
           {
            "colorbar": {
             "outlinewidth": 0,
             "ticks": ""
            },
            "colorscale": [
             [
              0,
              "#0d0887"
             ],
             [
              0.1111111111111111,
              "#46039f"
             ],
             [
              0.2222222222222222,
              "#7201a8"
             ],
             [
              0.3333333333333333,
              "#9c179e"
             ],
             [
              0.4444444444444444,
              "#bd3786"
             ],
             [
              0.5555555555555556,
              "#d8576b"
             ],
             [
              0.6666666666666666,
              "#ed7953"
             ],
             [
              0.7777777777777778,
              "#fb9f3a"
             ],
             [
              0.8888888888888888,
              "#fdca26"
             ],
             [
              1,
              "#f0f921"
             ]
            ],
            "type": "histogram2d"
           }
          ],
          "histogram2dcontour": [
           {
            "colorbar": {
             "outlinewidth": 0,
             "ticks": ""
            },
            "colorscale": [
             [
              0,
              "#0d0887"
             ],
             [
              0.1111111111111111,
              "#46039f"
             ],
             [
              0.2222222222222222,
              "#7201a8"
             ],
             [
              0.3333333333333333,
              "#9c179e"
             ],
             [
              0.4444444444444444,
              "#bd3786"
             ],
             [
              0.5555555555555556,
              "#d8576b"
             ],
             [
              0.6666666666666666,
              "#ed7953"
             ],
             [
              0.7777777777777778,
              "#fb9f3a"
             ],
             [
              0.8888888888888888,
              "#fdca26"
             ],
             [
              1,
              "#f0f921"
             ]
            ],
            "type": "histogram2dcontour"
           }
          ],
          "mesh3d": [
           {
            "colorbar": {
             "outlinewidth": 0,
             "ticks": ""
            },
            "type": "mesh3d"
           }
          ],
          "parcoords": [
           {
            "line": {
             "colorbar": {
              "outlinewidth": 0,
              "ticks": ""
             }
            },
            "type": "parcoords"
           }
          ],
          "pie": [
           {
            "automargin": true,
            "type": "pie"
           }
          ],
          "scatter": [
           {
            "fillpattern": {
             "fillmode": "overlay",
             "size": 10,
             "solidity": 0.2
            },
            "type": "scatter"
           }
          ],
          "scatter3d": [
           {
            "line": {
             "colorbar": {
              "outlinewidth": 0,
              "ticks": ""
             }
            },
            "marker": {
             "colorbar": {
              "outlinewidth": 0,
              "ticks": ""
             }
            },
            "type": "scatter3d"
           }
          ],
          "scattercarpet": [
           {
            "marker": {
             "colorbar": {
              "outlinewidth": 0,
              "ticks": ""
             }
            },
            "type": "scattercarpet"
           }
          ],
          "scattergeo": [
           {
            "marker": {
             "colorbar": {
              "outlinewidth": 0,
              "ticks": ""
             }
            },
            "type": "scattergeo"
           }
          ],
          "scattergl": [
           {
            "marker": {
             "colorbar": {
              "outlinewidth": 0,
              "ticks": ""
             }
            },
            "type": "scattergl"
           }
          ],
          "scattermapbox": [
           {
            "marker": {
             "colorbar": {
              "outlinewidth": 0,
              "ticks": ""
             }
            },
            "type": "scattermapbox"
           }
          ],
          "scatterpolar": [
           {
            "marker": {
             "colorbar": {
              "outlinewidth": 0,
              "ticks": ""
             }
            },
            "type": "scatterpolar"
           }
          ],
          "scatterpolargl": [
           {
            "marker": {
             "colorbar": {
              "outlinewidth": 0,
              "ticks": ""
             }
            },
            "type": "scatterpolargl"
           }
          ],
          "scatterternary": [
           {
            "marker": {
             "colorbar": {
              "outlinewidth": 0,
              "ticks": ""
             }
            },
            "type": "scatterternary"
           }
          ],
          "surface": [
           {
            "colorbar": {
             "outlinewidth": 0,
             "ticks": ""
            },
            "colorscale": [
             [
              0,
              "#0d0887"
             ],
             [
              0.1111111111111111,
              "#46039f"
             ],
             [
              0.2222222222222222,
              "#7201a8"
             ],
             [
              0.3333333333333333,
              "#9c179e"
             ],
             [
              0.4444444444444444,
              "#bd3786"
             ],
             [
              0.5555555555555556,
              "#d8576b"
             ],
             [
              0.6666666666666666,
              "#ed7953"
             ],
             [
              0.7777777777777778,
              "#fb9f3a"
             ],
             [
              0.8888888888888888,
              "#fdca26"
             ],
             [
              1,
              "#f0f921"
             ]
            ],
            "type": "surface"
           }
          ],
          "table": [
           {
            "cells": {
             "fill": {
              "color": "#EBF0F8"
             },
             "line": {
              "color": "white"
             }
            },
            "header": {
             "fill": {
              "color": "#C8D4E3"
             },
             "line": {
              "color": "white"
             }
            },
            "type": "table"
           }
          ]
         },
         "layout": {
          "annotationdefaults": {
           "arrowcolor": "#2a3f5f",
           "arrowhead": 0,
           "arrowwidth": 1
          },
          "autotypenumbers": "strict",
          "coloraxis": {
           "colorbar": {
            "outlinewidth": 0,
            "ticks": ""
           }
          },
          "colorscale": {
           "diverging": [
            [
             0,
             "#8e0152"
            ],
            [
             0.1,
             "#c51b7d"
            ],
            [
             0.2,
             "#de77ae"
            ],
            [
             0.3,
             "#f1b6da"
            ],
            [
             0.4,
             "#fde0ef"
            ],
            [
             0.5,
             "#f7f7f7"
            ],
            [
             0.6,
             "#e6f5d0"
            ],
            [
             0.7,
             "#b8e186"
            ],
            [
             0.8,
             "#7fbc41"
            ],
            [
             0.9,
             "#4d9221"
            ],
            [
             1,
             "#276419"
            ]
           ],
           "sequential": [
            [
             0,
             "#0d0887"
            ],
            [
             0.1111111111111111,
             "#46039f"
            ],
            [
             0.2222222222222222,
             "#7201a8"
            ],
            [
             0.3333333333333333,
             "#9c179e"
            ],
            [
             0.4444444444444444,
             "#bd3786"
            ],
            [
             0.5555555555555556,
             "#d8576b"
            ],
            [
             0.6666666666666666,
             "#ed7953"
            ],
            [
             0.7777777777777778,
             "#fb9f3a"
            ],
            [
             0.8888888888888888,
             "#fdca26"
            ],
            [
             1,
             "#f0f921"
            ]
           ],
           "sequentialminus": [
            [
             0,
             "#0d0887"
            ],
            [
             0.1111111111111111,
             "#46039f"
            ],
            [
             0.2222222222222222,
             "#7201a8"
            ],
            [
             0.3333333333333333,
             "#9c179e"
            ],
            [
             0.4444444444444444,
             "#bd3786"
            ],
            [
             0.5555555555555556,
             "#d8576b"
            ],
            [
             0.6666666666666666,
             "#ed7953"
            ],
            [
             0.7777777777777778,
             "#fb9f3a"
            ],
            [
             0.8888888888888888,
             "#fdca26"
            ],
            [
             1,
             "#f0f921"
            ]
           ]
          },
          "colorway": [
           "#636efa",
           "#EF553B",
           "#00cc96",
           "#ab63fa",
           "#FFA15A",
           "#19d3f3",
           "#FF6692",
           "#B6E880",
           "#FF97FF",
           "#FECB52"
          ],
          "font": {
           "color": "#2a3f5f"
          },
          "geo": {
           "bgcolor": "white",
           "lakecolor": "white",
           "landcolor": "#E5ECF6",
           "showlakes": true,
           "showland": true,
           "subunitcolor": "white"
          },
          "hoverlabel": {
           "align": "left"
          },
          "hovermode": "closest",
          "mapbox": {
           "style": "light"
          },
          "paper_bgcolor": "white",
          "plot_bgcolor": "#E5ECF6",
          "polar": {
           "angularaxis": {
            "gridcolor": "white",
            "linecolor": "white",
            "ticks": ""
           },
           "bgcolor": "#E5ECF6",
           "radialaxis": {
            "gridcolor": "white",
            "linecolor": "white",
            "ticks": ""
           }
          },
          "scene": {
           "xaxis": {
            "backgroundcolor": "#E5ECF6",
            "gridcolor": "white",
            "gridwidth": 2,
            "linecolor": "white",
            "showbackground": true,
            "ticks": "",
            "zerolinecolor": "white"
           },
           "yaxis": {
            "backgroundcolor": "#E5ECF6",
            "gridcolor": "white",
            "gridwidth": 2,
            "linecolor": "white",
            "showbackground": true,
            "ticks": "",
            "zerolinecolor": "white"
           },
           "zaxis": {
            "backgroundcolor": "#E5ECF6",
            "gridcolor": "white",
            "gridwidth": 2,
            "linecolor": "white",
            "showbackground": true,
            "ticks": "",
            "zerolinecolor": "white"
           }
          },
          "shapedefaults": {
           "line": {
            "color": "#2a3f5f"
           }
          },
          "ternary": {
           "aaxis": {
            "gridcolor": "white",
            "linecolor": "white",
            "ticks": ""
           },
           "baxis": {
            "gridcolor": "white",
            "linecolor": "white",
            "ticks": ""
           },
           "bgcolor": "#E5ECF6",
           "caxis": {
            "gridcolor": "white",
            "linecolor": "white",
            "ticks": ""
           }
          },
          "title": {
           "x": 0.05
          },
          "xaxis": {
           "automargin": true,
           "gridcolor": "white",
           "linecolor": "white",
           "ticks": "",
           "title": {
            "standoff": 15
           },
           "zerolinecolor": "white",
           "zerolinewidth": 2
          },
          "yaxis": {
           "automargin": true,
           "gridcolor": "white",
           "linecolor": "white",
           "ticks": "",
           "title": {
            "standoff": 15
           },
           "zerolinecolor": "white",
           "zerolinewidth": 2
          }
         }
        },
        "title": {
         "text": "How Have the age Changed with  Manner of Death?"
        },
        "xaxis": {
         "anchor": "y",
         "domain": [
          0,
          1
         ],
         "title": {
          "text": "Manner of Death"
         }
        },
        "yaxis": {
         "anchor": "x",
         "domain": [
          0,
          1
         ],
         "title": {
          "text": "age"
         }
        }
       }
      },
      "text/html": [
       "<div>                            <div id=\"bb23d9ea-c0c8-480a-b1ae-ef1542d7398f\" class=\"plotly-graph-div\" style=\"height:525px; width:100%;\"></div>            <script type=\"text/javascript\">                require([\"plotly\"], function(Plotly) {                    window.PLOTLYENV=window.PLOTLYENV || {};                                    if (document.getElementById(\"bb23d9ea-c0c8-480a-b1ae-ef1542d7398f\")) {                    Plotly.newPlot(                        \"bb23d9ea-c0c8-480a-b1ae-ef1542d7398f\",                        [{\"alignmentgroup\":\"True\",\"hovertemplate\":\"gender=M\\u003cbr\\u003emanner_of_death=%{x}\\u003cbr\\u003eage=%{y}\\u003cextra\\u003e\\u003c\\u002fextra\\u003e\",\"legendgroup\":\"M\",\"marker\":{\"color\":\"#636efa\"},\"name\":\"M\",\"notched\":false,\"offsetgroup\":\"M\",\"orientation\":\"v\",\"showlegend\":true,\"x\":[\"shot\",\"shot\",\"shot and Tasered\",\"shot\",\"shot\",\"shot\",\"shot\",\"shot\",\"shot\",\"shot and Tasered\",\"shot\",\"shot\",\"shot\",\"shot\",\"shot\",\"shot\",\"shot\",\"shot\",\"shot\",\"shot\",\"shot\",\"shot\",\"shot and Tasered\",\"shot\",\"shot\",\"shot\",\"shot\",\"shot\",\"shot\",\"shot\",\"shot\",\"shot\",\"shot\",\"shot\",\"shot\",\"shot\",\"shot\",\"shot and Tasered\",\"shot\",\"shot\",\"shot\",\"shot\",\"shot and Tasered\",\"shot\",\"shot\",\"shot\",\"shot\",\"shot\",\"shot\",\"shot\",\"shot\",\"shot\",\"shot\",\"shot\",\"shot\",\"shot\",\"shot\",\"shot\",\"shot\",\"shot\",\"shot\",\"shot\",\"shot\",\"shot\",\"shot\",\"shot and Tasered\",\"shot\",\"shot\",\"shot\",\"shot\",\"shot\",\"shot and Tasered\",\"shot\",\"shot\",\"shot\",\"shot\",\"shot\",\"shot\",\"shot\",\"shot\",\"shot\",\"shot\",\"shot\",\"shot\",\"shot\",\"shot\",\"shot\",\"shot\",\"shot\",\"shot\",\"shot\",\"shot\",\"shot\",\"shot\",\"shot\",\"shot and Tasered\",\"shot\",\"shot\",\"shot\",\"shot\",\"shot\",\"shot\",\"shot\",\"shot\",\"shot\",\"shot\",\"shot\",\"shot and Tasered\",\"shot\",\"shot\",\"shot\",\"shot\",\"shot\",\"shot\",\"shot\",\"shot\",\"shot\",\"shot\",\"shot\",\"shot\",\"shot\",\"shot\",\"shot\",\"shot\",\"shot and Tasered\",\"shot and Tasered\",\"shot\",\"shot\",\"shot\",\"shot\",\"shot and Tasered\",\"shot\",\"shot\",\"shot and Tasered\",\"shot\",\"shot\",\"shot\",\"shot\",\"shot\",\"shot and Tasered\",\"shot\",\"shot\",\"shot\",\"shot\",\"shot and Tasered\",\"shot\",\"shot\",\"shot\",\"shot\",\"shot\",\"shot\",\"shot\",\"shot\",\"shot\",\"shot\",\"shot\",\"shot\",\"shot\",\"shot\",\"shot\",\"shot\",\"shot\",\"shot\",\"shot\",\"shot\",\"shot\",\"shot\",\"shot\",\"shot\",\"shot\",\"shot\",\"shot\",\"shot\",\"shot\",\"shot\",\"shot\",\"shot\",\"shot\",\"shot\",\"shot\",\"shot\",\"shot\",\"shot\",\"shot\",\"shot\",\"shot\",\"shot\",\"shot\",\"shot\",\"shot\",\"shot\",\"shot\",\"shot\",\"shot\",\"shot\",\"shot\",\"shot\",\"shot\",\"shot\",\"shot\",\"shot\",\"shot\",\"shot\",\"shot\",\"shot\",\"shot\",\"shot and Tasered\",\"shot and Tasered\",\"shot\",\"shot\",\"shot\",\"shot\",\"shot\",\"shot\",\"shot\",\"shot and Tasered\",\"shot\",\"shot\",\"shot\",\"shot\",\"shot\",\"shot\",\"shot\",\"shot\",\"shot\",\"shot\",\"shot\",\"shot\",\"shot\",\"shot\",\"shot\",\"shot\",\"shot and Tasered\",\"shot\",\"shot\",\"shot\",\"shot\",\"shot and Tasered\",\"shot\",\"shot\",\"shot\",\"shot\",\"shot\",\"shot\",\"shot\",\"shot\",\"shot\",\"shot\",\"shot\",\"shot\",\"shot and Tasered\",\"shot\",\"shot\",\"shot\",\"shot\",\"shot\",\"shot\",\"shot\",\"shot\",\"shot\",\"shot\",\"shot\",\"shot\",\"shot\",\"shot\",\"shot\",\"shot\",\"shot\",\"shot\",\"shot\",\"shot\",\"shot\",\"shot\",\"shot\",\"shot\",\"shot\",\"shot\",\"shot\",\"shot\",\"shot\",\"shot\",\"shot\",\"shot\",\"shot\",\"shot\",\"shot\",\"shot\",\"shot\",\"shot\",\"shot\",\"shot\",\"shot\",\"shot\",\"shot\",\"shot\",\"shot\",\"shot\",\"shot\",\"shot\",\"shot\",\"shot\",\"shot\",\"shot\",\"shot\",\"shot\",\"shot\",\"shot\",\"shot\",\"shot\",\"shot\",\"shot and Tasered\",\"shot\",\"shot\",\"shot\",\"shot\",\"shot\",\"shot\",\"shot\",\"shot\",\"shot\",\"shot\",\"shot\",\"shot\",\"shot\",\"shot\",\"shot\",\"shot\",\"shot\",\"shot\",\"shot\",\"shot\",\"shot\",\"shot\",\"shot\",\"shot and Tasered\",\"shot\",\"shot\",\"shot\",\"shot\",\"shot\",\"shot\",\"shot\",\"shot\",\"shot\",\"shot\",\"shot\",\"shot\",\"shot\",\"shot and Tasered\",\"shot\",\"shot\",\"shot\",\"shot\",\"shot\",\"shot\",\"shot\",\"shot\",\"shot\",\"shot\",\"shot\",\"shot\",\"shot\",\"shot\",\"shot\",\"shot\",\"shot\",\"shot\",\"shot and Tasered\",\"shot and Tasered\",\"shot\",\"shot\",\"shot\",\"shot and Tasered\",\"shot\",\"shot\",\"shot\",\"shot\",\"shot\",\"shot\",\"shot\",\"shot\",\"shot\",\"shot\",\"shot\",\"shot and Tasered\",\"shot\",\"shot\",\"shot\",\"shot\",\"shot and Tasered\",\"shot\",\"shot\",\"shot\",\"shot\",\"shot\",\"shot\",\"shot\",\"shot\",\"shot\",\"shot\",\"shot\",\"shot\",\"shot\",\"shot\",\"shot\",\"shot\",\"shot\",\"shot\",\"shot\",\"shot\",\"shot\",\"shot\",\"shot\",\"shot\",\"shot\",\"shot\",\"shot\",\"shot\",\"shot\",\"shot\",\"shot\",\"shot\",\"shot\",\"shot\",\"shot\",\"shot\",\"shot\",\"shot\",\"shot\",\"shot\",\"shot\",\"shot\",\"shot\",\"shot\",\"shot\",\"shot\",\"shot\",\"shot\",\"shot\",\"shot\",\"shot\",\"shot\",\"shot\",\"shot\",\"shot\",\"shot\",\"shot\",\"shot\",\"shot and Tasered\",\"shot\",\"shot\",\"shot\",\"shot\",\"shot\",\"shot\",\"shot\",\"shot\",\"shot\",\"shot and Tasered\",\"shot\",\"shot\",\"shot\",\"shot and Tasered\",\"shot and Tasered\",\"shot\",\"shot\",\"shot\",\"shot\",\"shot\",\"shot\",\"shot\",\"shot\",\"shot\",\"shot\",\"shot\",\"shot\",\"shot\",\"shot\",\"shot\",\"shot and Tasered\",\"shot\",\"shot\",\"shot\",\"shot\",\"shot\",\"shot\",\"shot and Tasered\",\"shot\",\"shot\",\"shot\",\"shot\",\"shot\",\"shot\",\"shot and Tasered\",\"shot\",\"shot\",\"shot and Tasered\",\"shot and Tasered\",\"shot\",\"shot\",\"shot\",\"shot\",\"shot\",\"shot\",\"shot\",\"shot and Tasered\",\"shot\",\"shot\",\"shot\",\"shot\",\"shot\",\"shot\",\"shot\",\"shot\",\"shot\",\"shot\",\"shot\",\"shot\",\"shot\",\"shot and Tasered\",\"shot\",\"shot\",\"shot and Tasered\",\"shot\",\"shot\",\"shot\",\"shot and Tasered\",\"shot\",\"shot\",\"shot\",\"shot\",\"shot\",\"shot\",\"shot\",\"shot\",\"shot and Tasered\",\"shot\",\"shot\",\"shot\",\"shot\",\"shot\",\"shot\",\"shot and Tasered\",\"shot\",\"shot\",\"shot\",\"shot\",\"shot\",\"shot\",\"shot\",\"shot\",\"shot\",\"shot\",\"shot\",\"shot\",\"shot\",\"shot\",\"shot\",\"shot\",\"shot\",\"shot\",\"shot\",\"shot\",\"shot\",\"shot\",\"shot\",\"shot\",\"shot\",\"shot\",\"shot\",\"shot\",\"shot\",\"shot\",\"shot\",\"shot\",\"shot\",\"shot\",\"shot\",\"shot and Tasered\",\"shot\",\"shot\",\"shot\",\"shot\",\"shot\",\"shot\",\"shot\",\"shot\",\"shot and Tasered\",\"shot and Tasered\",\"shot\",\"shot\",\"shot\",\"shot\",\"shot\",\"shot\",\"shot\",\"shot\",\"shot\",\"shot\",\"shot\",\"shot\",\"shot and Tasered\",\"shot\",\"shot\",\"shot\",\"shot\",\"shot\",\"shot and Tasered\",\"shot\",\"shot\",\"shot\",\"shot\",\"shot\",\"shot\",\"shot\",\"shot\",\"shot\",\"shot\",\"shot\",\"shot\",\"shot\",\"shot\",\"shot\",\"shot\",\"shot and Tasered\",\"shot\",\"shot\",\"shot\",\"shot\",\"shot\",\"shot\",\"shot\",\"shot\",\"shot\",\"shot\",\"shot\",\"shot\",\"shot\",\"shot\",\"shot\",\"shot\",\"shot\",\"shot\",\"shot\",\"shot and Tasered\",\"shot\",\"shot\",\"shot\",\"shot\",\"shot\",\"shot\",\"shot\",\"shot\",\"shot\",\"shot\",\"shot\",\"shot\",\"shot\",\"shot\",\"shot\",\"shot\",\"shot\",\"shot\",\"shot\",\"shot\",\"shot\",\"shot\",\"shot\",\"shot\",\"shot\",\"shot\",\"shot\",\"shot\",\"shot\",\"shot\",\"shot\",\"shot\",\"shot\",\"shot\",\"shot\",\"shot\",\"shot\",\"shot\",\"shot\",\"shot\",\"shot\",\"shot\",\"shot\",\"shot\",\"shot\",\"shot and Tasered\",\"shot\",\"shot\",\"shot\",\"shot\",\"shot\",\"shot\",\"shot\",\"shot\",\"shot\",\"shot\",\"shot\",\"shot\",\"shot\",\"shot\",\"shot\",\"shot and Tasered\",\"shot\",\"shot\",\"shot\",\"shot\",\"shot\",\"shot and Tasered\",\"shot\",\"shot\",\"shot\",\"shot\",\"shot\",\"shot and Tasered\",\"shot\",\"shot\",\"shot\",\"shot\",\"shot\",\"shot\",\"shot\",\"shot\",\"shot\",\"shot\",\"shot\",\"shot\",\"shot\",\"shot\",\"shot\",\"shot and Tasered\",\"shot\",\"shot\",\"shot\",\"shot\",\"shot\",\"shot\",\"shot\",\"shot\",\"shot\",\"shot\",\"shot\",\"shot\",\"shot\",\"shot\",\"shot\",\"shot\",\"shot\",\"shot\",\"shot\",\"shot\",\"shot and Tasered\",\"shot\",\"shot\",\"shot\",\"shot\",\"shot\",\"shot\",\"shot\",\"shot\",\"shot\",\"shot\",\"shot\",\"shot\",\"shot\",\"shot\",\"shot\",\"shot\",\"shot\",\"shot\",\"shot\",\"shot\",\"shot\",\"shot\",\"shot\",\"shot\",\"shot\",\"shot\",\"shot\",\"shot\",\"shot\",\"shot\",\"shot\",\"shot\",\"shot\",\"shot\",\"shot and Tasered\",\"shot\",\"shot\",\"shot\",\"shot\",\"shot\",\"shot\",\"shot\",\"shot\",\"shot\",\"shot\",\"shot\",\"shot\",\"shot\",\"shot\",\"shot\",\"shot\",\"shot\",\"shot\",\"shot\",\"shot\",\"shot\",\"shot and Tasered\",\"shot\",\"shot\",\"shot\",\"shot\",\"shot\",\"shot\",\"shot\",\"shot\",\"shot\",\"shot\",\"shot\",\"shot\",\"shot\",\"shot\",\"shot and Tasered\",\"shot\",\"shot\",\"shot\",\"shot\",\"shot\",\"shot\",\"shot\",\"shot\",\"shot\",\"shot\",\"shot\",\"shot\",\"shot\",\"shot\",\"shot\",\"shot\",\"shot\",\"shot\",\"shot\",\"shot\",\"shot\",\"shot and Tasered\",\"shot\",\"shot\",\"shot and Tasered\",\"shot\",\"shot\",\"shot\",\"shot\",\"shot\",\"shot\",\"shot\",\"shot\",\"shot\",\"shot\",\"shot\",\"shot\",\"shot\",\"shot\",\"shot\",\"shot\",\"shot\",\"shot\",\"shot\",\"shot\",\"shot\",\"shot\",\"shot and Tasered\",\"shot\",\"shot\",\"shot and Tasered\",\"shot\",\"shot\",\"shot\",\"shot\",\"shot\",\"shot\",\"shot\",\"shot\",\"shot\",\"shot\",\"shot\",\"shot\",\"shot\",\"shot\",\"shot\",\"shot\",\"shot\",\"shot\",\"shot\",\"shot\",\"shot\",\"shot\",\"shot\",\"shot\",\"shot\",\"shot and Tasered\",\"shot\",\"shot\",\"shot\",\"shot\",\"shot\",\"shot\",\"shot\",\"shot\",\"shot\",\"shot\",\"shot\",\"shot\",\"shot\",\"shot\",\"shot\",\"shot\",\"shot\",\"shot\",\"shot\",\"shot\",\"shot\",\"shot\",\"shot\",\"shot\",\"shot\",\"shot\",\"shot\",\"shot\",\"shot\",\"shot\",\"shot\",\"shot\",\"shot\",\"shot\",\"shot\",\"shot\",\"shot\",\"shot\",\"shot\",\"shot\",\"shot\",\"shot\",\"shot\",\"shot\",\"shot\",\"shot and Tasered\",\"shot\",\"shot\",\"shot\",\"shot\",\"shot\",\"shot\",\"shot\",\"shot\",\"shot\",\"shot\",\"shot and Tasered\",\"shot\",\"shot\",\"shot\",\"shot\",\"shot\",\"shot\",\"shot\",\"shot\",\"shot\",\"shot\",\"shot\",\"shot\",\"shot\",\"shot\",\"shot\",\"shot\",\"shot\",\"shot\",\"shot\",\"shot\",\"shot\",\"shot\",\"shot\",\"shot and Tasered\",\"shot and Tasered\",\"shot\",\"shot\",\"shot\",\"shot\",\"shot\",\"shot\",\"shot\",\"shot\",\"shot\",\"shot\",\"shot\",\"shot\",\"shot\",\"shot\",\"shot\",\"shot and Tasered\",\"shot\",\"shot\",\"shot\",\"shot\",\"shot\",\"shot\",\"shot\",\"shot\",\"shot\",\"shot\",\"shot\",\"shot\",\"shot\",\"shot\",\"shot\",\"shot\",\"shot\",\"shot and Tasered\",\"shot\",\"shot and Tasered\",\"shot\",\"shot\",\"shot\",\"shot and Tasered\",\"shot\",\"shot\",\"shot\",\"shot\",\"shot\",\"shot\",\"shot\",\"shot\",\"shot\",\"shot\",\"shot\",\"shot\",\"shot\",\"shot\",\"shot\",\"shot\",\"shot\",\"shot\",\"shot\",\"shot\",\"shot\",\"shot\",\"shot\",\"shot\",\"shot\",\"shot\",\"shot\",\"shot\",\"shot\",\"shot\",\"shot\",\"shot\",\"shot and Tasered\",\"shot\",\"shot\",\"shot\",\"shot\",\"shot\",\"shot\",\"shot\",\"shot\",\"shot\",\"shot\",\"shot\",\"shot and Tasered\",\"shot\",\"shot\",\"shot\",\"shot\",\"shot\",\"shot\",\"shot\",\"shot\",\"shot\",\"shot\",\"shot\",\"shot\",\"shot\",\"shot\",\"shot\",\"shot\",\"shot\",\"shot and Tasered\",\"shot\",\"shot\",\"shot\",\"shot\",\"shot\",\"shot\",\"shot\",\"shot\",\"shot\",\"shot\",\"shot\",\"shot\",\"shot\",\"shot\",\"shot\",\"shot\",\"shot\",\"shot\",\"shot\",\"shot\",\"shot and Tasered\",\"shot\",\"shot\",\"shot\",\"shot\",\"shot\",\"shot\",\"shot\",\"shot\",\"shot\",\"shot\",\"shot\",\"shot\",\"shot\",\"shot\",\"shot\",\"shot\",\"shot\",\"shot\",\"shot\",\"shot\",\"shot\",\"shot\",\"shot\",\"shot and Tasered\",\"shot and Tasered\",\"shot\",\"shot\",\"shot\",\"shot\",\"shot\",\"shot\",\"shot\",\"shot\",\"shot\",\"shot\",\"shot\",\"shot\",\"shot\",\"shot\",\"shot\",\"shot\",\"shot\",\"shot\",\"shot\",\"shot\",\"shot\",\"shot\",\"shot\",\"shot\",\"shot\",\"shot\",\"shot\",\"shot and Tasered\",\"shot\",\"shot\",\"shot\",\"shot\",\"shot\",\"shot\",\"shot\",\"shot\",\"shot\",\"shot\",\"shot\",\"shot\",\"shot\",\"shot\",\"shot\",\"shot\",\"shot\",\"shot\",\"shot\",\"shot\",\"shot\",\"shot and Tasered\",\"shot\",\"shot\",\"shot\",\"shot\",\"shot\",\"shot\",\"shot\",\"shot\",\"shot\",\"shot\",\"shot\",\"shot\",\"shot\",\"shot\",\"shot\",\"shot\",\"shot\",\"shot\",\"shot and Tasered\",\"shot\",\"shot\",\"shot\",\"shot\",\"shot\",\"shot\",\"shot\",\"shot\",\"shot\",\"shot\",\"shot\",\"shot\",\"shot\",\"shot\",\"shot\",\"shot\",\"shot\",\"shot and Tasered\",\"shot\",\"shot\",\"shot\",\"shot\",\"shot\",\"shot\",\"shot\",\"shot\",\"shot\",\"shot\",\"shot\",\"shot\",\"shot\",\"shot\",\"shot\",\"shot\",\"shot\",\"shot\",\"shot\",\"shot\",\"shot\",\"shot\",\"shot and Tasered\",\"shot\",\"shot\",\"shot\",\"shot\",\"shot\",\"shot\",\"shot\",\"shot\",\"shot and Tasered\",\"shot\",\"shot\",\"shot\",\"shot\",\"shot\",\"shot\",\"shot\",\"shot\",\"shot\",\"shot\",\"shot\",\"shot\",\"shot\",\"shot\",\"shot\",\"shot\",\"shot\",\"shot\",\"shot\",\"shot and Tasered\",\"shot\",\"shot\",\"shot\",\"shot\",\"shot\",\"shot\",\"shot\",\"shot\",\"shot\",\"shot\",\"shot\",\"shot\",\"shot\",\"shot\",\"shot\",\"shot\",\"shot and Tasered\",\"shot\",\"shot\",\"shot\",\"shot\",\"shot\",\"shot\",\"shot\",\"shot\",\"shot\",\"shot\",\"shot\",\"shot\",\"shot\",\"shot\",\"shot\",\"shot\",\"shot\",\"shot\",\"shot\",\"shot\",\"shot\",\"shot\",\"shot\",\"shot\",\"shot\",\"shot\",\"shot\",\"shot\",\"shot\",\"shot\",\"shot\",\"shot\",\"shot\",\"shot\",\"shot\",\"shot\",\"shot and Tasered\",\"shot\",\"shot\",\"shot\",\"shot\",\"shot\",\"shot\",\"shot\",\"shot\",\"shot\",\"shot\",\"shot\",\"shot\",\"shot\",\"shot\",\"shot\",\"shot\",\"shot\",\"shot\",\"shot\",\"shot\",\"shot\",\"shot\",\"shot\",\"shot\",\"shot\",\"shot\",\"shot\",\"shot\",\"shot\",\"shot\",\"shot\",\"shot\",\"shot\",\"shot\",\"shot\",\"shot\",\"shot\",\"shot\",\"shot\",\"shot\",\"shot\",\"shot\",\"shot\",\"shot\",\"shot\",\"shot\",\"shot\",\"shot\",\"shot\",\"shot\",\"shot\",\"shot\",\"shot\",\"shot\",\"shot\",\"shot and Tasered\",\"shot\",\"shot\",\"shot\",\"shot\",\"shot\",\"shot\",\"shot\",\"shot\",\"shot\",\"shot\",\"shot\",\"shot\",\"shot\",\"shot\",\"shot\",\"shot\",\"shot\",\"shot\",\"shot and Tasered\",\"shot\",\"shot\",\"shot\",\"shot\",\"shot\",\"shot\",\"shot\",\"shot\",\"shot\",\"shot\",\"shot\",\"shot\",\"shot\",\"shot\",\"shot\",\"shot\",\"shot\",\"shot\",\"shot\",\"shot\",\"shot and Tasered\",\"shot\",\"shot\",\"shot\",\"shot\",\"shot\",\"shot\",\"shot\",\"shot\",\"shot\",\"shot\",\"shot and Tasered\",\"shot\",\"shot\",\"shot\",\"shot\",\"shot\",\"shot\",\"shot\",\"shot\",\"shot\",\"shot\",\"shot\",\"shot\",\"shot\",\"shot\",\"shot\",\"shot\",\"shot\",\"shot\",\"shot\",\"shot\",\"shot\",\"shot and Tasered\",\"shot\",\"shot\",\"shot and Tasered\",\"shot\",\"shot\",\"shot\",\"shot\",\"shot\",\"shot\",\"shot\",\"shot\",\"shot\",\"shot\",\"shot\",\"shot\",\"shot\",\"shot\",\"shot\",\"shot\",\"shot\",\"shot\",\"shot\",\"shot\",\"shot\",\"shot\",\"shot\",\"shot\",\"shot\",\"shot\",\"shot\",\"shot\",\"shot\",\"shot\",\"shot\",\"shot\",\"shot\",\"shot\",\"shot\",\"shot\",\"shot\",\"shot\",\"shot\",\"shot\",\"shot\",\"shot\",\"shot\",\"shot\",\"shot\",\"shot\",\"shot\",\"shot\",\"shot\",\"shot\",\"shot\",\"shot\",\"shot\",\"shot\",\"shot\",\"shot\",\"shot\",\"shot\",\"shot\",\"shot\",\"shot\",\"shot and Tasered\",\"shot\",\"shot\",\"shot\",\"shot\",\"shot\",\"shot\",\"shot\",\"shot\",\"shot\",\"shot\",\"shot\",\"shot\",\"shot\",\"shot\",\"shot\",\"shot\",\"shot\",\"shot\",\"shot\",\"shot\",\"shot\",\"shot\",\"shot\",\"shot\",\"shot\",\"shot\",\"shot\",\"shot\",\"shot\",\"shot\",\"shot\",\"shot\",\"shot\",\"shot and Tasered\",\"shot\",\"shot\",\"shot\",\"shot\",\"shot and Tasered\",\"shot\",\"shot\",\"shot\",\"shot and Tasered\",\"shot and Tasered\",\"shot and Tasered\",\"shot\",\"shot\",\"shot and Tasered\",\"shot\",\"shot\",\"shot\",\"shot\",\"shot\",\"shot and Tasered\",\"shot\",\"shot\",\"shot\",\"shot\",\"shot\",\"shot\",\"shot\",\"shot\",\"shot\",\"shot\",\"shot\",\"shot\",\"shot\",\"shot\",\"shot\",\"shot\",\"shot\",\"shot\",\"shot\",\"shot\",\"shot\",\"shot\",\"shot\",\"shot\",\"shot\",\"shot\",\"shot\",\"shot\",\"shot\",\"shot\",\"shot\",\"shot\",\"shot\",\"shot and Tasered\",\"shot\",\"shot\",\"shot and Tasered\",\"shot\",\"shot\",\"shot\",\"shot\",\"shot\",\"shot\",\"shot\",\"shot\",\"shot\",\"shot\",\"shot\",\"shot\",\"shot\",\"shot\",\"shot\",\"shot\",\"shot\",\"shot\",\"shot\",\"shot\",\"shot\",\"shot\",\"shot\",\"shot\",\"shot\",\"shot\",\"shot\",\"shot\",\"shot\",\"shot\",\"shot\",\"shot\",\"shot\",\"shot\",\"shot\",\"shot\",\"shot\",\"shot\",\"shot\",\"shot\",\"shot\",\"shot\",\"shot\",\"shot\",\"shot\",\"shot\",\"shot\",\"shot\",\"shot\",\"shot\",\"shot\",\"shot\",\"shot\",\"shot\",\"shot\",\"shot\",\"shot\",\"shot\",\"shot\",\"shot\",\"shot\",\"shot\",\"shot\",\"shot\",\"shot\",\"shot\",\"shot\",\"shot and Tasered\",\"shot\",\"shot\",\"shot\",\"shot\",\"shot\",\"shot and Tasered\",\"shot\",\"shot\",\"shot and Tasered\",\"shot\",\"shot\",\"shot\",\"shot\",\"shot\",\"shot\",\"shot\",\"shot and Tasered\",\"shot\",\"shot\",\"shot\",\"shot\",\"shot\",\"shot\",\"shot\",\"shot\",\"shot\",\"shot and Tasered\",\"shot\",\"shot\",\"shot\",\"shot\",\"shot\",\"shot\",\"shot\",\"shot\",\"shot\",\"shot\",\"shot\",\"shot\",\"shot\",\"shot\",\"shot\",\"shot\",\"shot\",\"shot\",\"shot\",\"shot\",\"shot\",\"shot\",\"shot\",\"shot and Tasered\",\"shot\",\"shot and Tasered\",\"shot\",\"shot\",\"shot\",\"shot\",\"shot and Tasered\",\"shot\",\"shot\",\"shot\",\"shot\",\"shot\",\"shot\",\"shot and Tasered\",\"shot\",\"shot\",\"shot\",\"shot\",\"shot\",\"shot and Tasered\",\"shot\",\"shot\",\"shot\",\"shot\",\"shot\",\"shot\",\"shot\",\"shot and Tasered\",\"shot and Tasered\",\"shot\",\"shot and Tasered\",\"shot\",\"shot\",\"shot and Tasered\",\"shot\",\"shot\",\"shot\",\"shot\",\"shot\",\"shot\",\"shot\",\"shot\",\"shot\",\"shot\",\"shot\",\"shot\",\"shot\",\"shot\",\"shot\",\"shot\",\"shot\",\"shot\",\"shot and Tasered\",\"shot\",\"shot\",\"shot\",\"shot\",\"shot\",\"shot\",\"shot\",\"shot\",\"shot\",\"shot\",\"shot\",\"shot\",\"shot\",\"shot\",\"shot\",\"shot\",\"shot\",\"shot\",\"shot\",\"shot\",\"shot\",\"shot\",\"shot\",\"shot and Tasered\",\"shot and Tasered\",\"shot\",\"shot\",\"shot\",\"shot\",\"shot\",\"shot\",\"shot\",\"shot\",\"shot\",\"shot\",\"shot and Tasered\",\"shot\",\"shot\",\"shot\",\"shot\",\"shot\",\"shot\",\"shot\",\"shot and Tasered\",\"shot and Tasered\",\"shot\",\"shot\",\"shot\",\"shot\",\"shot\",\"shot\",\"shot\",\"shot\",\"shot\",\"shot\",\"shot\",\"shot\",\"shot\",\"shot\",\"shot\",\"shot\",\"shot\",\"shot\",\"shot\",\"shot\",\"shot and Tasered\",\"shot\",\"shot\",\"shot\",\"shot\",\"shot\",\"shot\",\"shot\",\"shot\",\"shot\",\"shot\",\"shot\",\"shot\",\"shot\",\"shot\",\"shot\",\"shot\",\"shot and Tasered\",\"shot and Tasered\",\"shot\",\"shot\",\"shot\",\"shot\",\"shot and Tasered\",\"shot\",\"shot\",\"shot\",\"shot\",\"shot and Tasered\",\"shot\",\"shot\",\"shot\",\"shot\",\"shot\",\"shot\",\"shot\",\"shot\",\"shot\",\"shot\",\"shot\",\"shot\",\"shot\",\"shot\",\"shot\",\"shot\",\"shot\",\"shot\",\"shot and Tasered\",\"shot\",\"shot\",\"shot\",\"shot\",\"shot\",\"shot\",\"shot\",\"shot\",\"shot and Tasered\",\"shot\",\"shot\",\"shot and Tasered\",\"shot\",\"shot\",\"shot and Tasered\",\"shot\",\"shot\",\"shot and Tasered\",\"shot\",\"shot\",\"shot\",\"shot\",\"shot and Tasered\",\"shot\",\"shot\",\"shot\",\"shot\",\"shot and Tasered\",\"shot\",\"shot\",\"shot\",\"shot\",\"shot\",\"shot\",\"shot\",\"shot and Tasered\",\"shot\",\"shot\",\"shot\",\"shot\",\"shot\",\"shot\",\"shot and Tasered\",\"shot\",\"shot\",\"shot\",\"shot\",\"shot\",\"shot\",\"shot\",\"shot\",\"shot\",\"shot\",\"shot\",\"shot\",\"shot\",\"shot\",\"shot\",\"shot\",\"shot\",\"shot and Tasered\",\"shot and Tasered\",\"shot and Tasered\",\"shot\",\"shot\",\"shot\",\"shot\",\"shot\",\"shot\",\"shot\",\"shot\",\"shot\",\"shot\",\"shot\",\"shot\",\"shot\",\"shot\",\"shot\",\"shot\",\"shot\",\"shot\",\"shot\",\"shot\",\"shot and Tasered\",\"shot and Tasered\",\"shot\",\"shot\",\"shot\",\"shot\",\"shot\",\"shot\",\"shot\",\"shot and Tasered\",\"shot and Tasered\",\"shot\",\"shot\",\"shot\",\"shot\",\"shot\",\"shot\",\"shot\",\"shot\",\"shot\",\"shot\",\"shot\",\"shot\",\"shot\",\"shot\",\"shot\",\"shot\",\"shot\",\"shot\",\"shot\",\"shot\",\"shot\",\"shot\",\"shot\",\"shot\",\"shot\",\"shot\",\"shot\",\"shot\",\"shot\",\"shot\",\"shot\",\"shot\",\"shot\",\"shot\",\"shot\",\"shot\",\"shot\",\"shot\",\"shot\",\"shot and Tasered\",\"shot\",\"shot\",\"shot\",\"shot\",\"shot\",\"shot\",\"shot\",\"shot\",\"shot\",\"shot\",\"shot\",\"shot\",\"shot\",\"shot\",\"shot\",\"shot\",\"shot\",\"shot\",\"shot\",\"shot\",\"shot\",\"shot\",\"shot\",\"shot\",\"shot\",\"shot\",\"shot\",\"shot\",\"shot\",\"shot\",\"shot\",\"shot\",\"shot\",\"shot\",\"shot and Tasered\",\"shot\",\"shot\",\"shot and Tasered\",\"shot\",\"shot\",\"shot\",\"shot and Tasered\",\"shot\",\"shot\",\"shot\",\"shot\",\"shot and Tasered\",\"shot\",\"shot\",\"shot\",\"shot\",\"shot\",\"shot\",\"shot\",\"shot\",\"shot\",\"shot\",\"shot\",\"shot\",\"shot and Tasered\",\"shot\",\"shot\",\"shot\",\"shot and Tasered\",\"shot\",\"shot\",\"shot\",\"shot\",\"shot\",\"shot\",\"shot\",\"shot\",\"shot\",\"shot\",\"shot\",\"shot\",\"shot\",\"shot\",\"shot\",\"shot\",\"shot\",\"shot\",\"shot\",\"shot\",\"shot\",\"shot\",\"shot\",\"shot\",\"shot\",\"shot\",\"shot\",\"shot\",\"shot\",\"shot\",\"shot\",\"shot\",\"shot\",\"shot\",\"shot\",\"shot and Tasered\",\"shot\",\"shot\",\"shot\",\"shot\",\"shot\",\"shot\",\"shot\",\"shot\",\"shot\",\"shot\",\"shot\",\"shot\",\"shot\",\"shot\",\"shot\",\"shot\",\"shot\",\"shot\",\"shot\",\"shot\",\"shot\",\"shot\",\"shot\",\"shot\",\"shot\",\"shot\",\"shot\",\"shot\",\"shot\",\"shot\",\"shot\",\"shot\",\"shot\",\"shot and Tasered\",\"shot\",\"shot\",\"shot\",\"shot\",\"shot\",\"shot\",\"shot\",\"shot\",\"shot\",\"shot\",\"shot\",\"shot\",\"shot\",\"shot\",\"shot and Tasered\",\"shot and Tasered\",\"shot\",\"shot\",\"shot\",\"shot\",\"shot\",\"shot\",\"shot\",\"shot\",\"shot\",\"shot\",\"shot\",\"shot\",\"shot\",\"shot\",\"shot and Tasered\",\"shot\",\"shot\",\"shot\",\"shot\",\"shot\",\"shot\",\"shot\",\"shot\",\"shot\",\"shot\",\"shot\",\"shot\",\"shot\",\"shot\",\"shot\",\"shot\",\"shot\",\"shot\",\"shot\",\"shot\",\"shot and Tasered\",\"shot\",\"shot and Tasered\",\"shot\",\"shot\",\"shot\",\"shot\",\"shot\",\"shot\",\"shot\",\"shot\",\"shot\",\"shot\",\"shot\",\"shot\",\"shot\",\"shot\",\"shot\",\"shot\",\"shot\",\"shot\",\"shot\",\"shot\",\"shot\",\"shot\",\"shot\",\"shot\",\"shot and Tasered\",\"shot\",\"shot\",\"shot\",\"shot\",\"shot\",\"shot\",\"shot\",\"shot\",\"shot\",\"shot\",\"shot\",\"shot\",\"shot\",\"shot and Tasered\",\"shot\",\"shot\",\"shot\",\"shot\",\"shot\",\"shot\",\"shot\",\"shot\",\"shot\",\"shot\",\"shot\",\"shot\",\"shot\",\"shot\",\"shot\",\"shot\",\"shot\",\"shot\",\"shot\",\"shot\",\"shot\",\"shot\",\"shot\",\"shot\",\"shot\",\"shot\",\"shot\",\"shot and Tasered\",\"shot\",\"shot\",\"shot and Tasered\",\"shot\",\"shot\",\"shot\",\"shot\",\"shot\",\"shot\",\"shot and Tasered\",\"shot\",\"shot\",\"shot\",\"shot\",\"shot\",\"shot\",\"shot\",\"shot and Tasered\",\"shot\",\"shot\",\"shot\",\"shot\",\"shot\",\"shot\",\"shot\",\"shot\",\"shot\",\"shot\",\"shot\",\"shot and Tasered\",\"shot\",\"shot\",\"shot\",\"shot\",\"shot\",\"shot\",\"shot\",\"shot\",\"shot\",\"shot\",\"shot\",\"shot\",\"shot\",\"shot\",\"shot\",\"shot\",\"shot\",\"shot\",\"shot and Tasered\",\"shot\",\"shot\",\"shot\",\"shot\",\"shot\",\"shot\",\"shot\",\"shot\",\"shot\",\"shot\",\"shot\",\"shot\",\"shot\",\"shot\",\"shot\",\"shot\",\"shot\",\"shot\",\"shot\",\"shot\",\"shot\",\"shot\",\"shot\",\"shot\",\"shot\",\"shot\",\"shot\",\"shot\",\"shot\",\"shot\",\"shot\",\"shot\",\"shot\",\"shot\",\"shot\",\"shot\",\"shot\",\"shot\",\"shot\",\"shot\",\"shot\",\"shot\",\"shot\",\"shot\",\"shot\",\"shot\",\"shot\",\"shot\",\"shot\",\"shot\",\"shot\",\"shot\",\"shot\",\"shot\",\"shot\",\"shot\",\"shot\",\"shot\",\"shot\",\"shot\",\"shot\",\"shot\",\"shot\",\"shot\",\"shot\",\"shot\",\"shot\",\"shot\",\"shot\",\"shot\",\"shot\",\"shot\",\"shot\",\"shot\",\"shot\",\"shot\",\"shot\",\"shot\",\"shot\",\"shot\",\"shot\",\"shot\",\"shot\",\"shot\",\"shot\",\"shot\",\"shot\",\"shot\",\"shot\",\"shot\",\"shot\"],\"x0\":\" \",\"xaxis\":\"x\",\"y\":[53.0,47.0,23.0,32.0,39.0,18.0,22.0,35.0,47.0,25.0,31.0,41.0,30.0,37.0,28.0,42.0,36.0,49.0,71.0,33.0,39.0,23.0,29.0,34.0,43.0,24.0,29.0,34.0,75.0,68.0,34.0,27.0,39.0,24.0,36.0,33.0,41.0,48.0,21.0,24.0,27.0,32.0,67.0,49.0,42.0,36.0,36.0,19.0,54.0,25.0,61.0,29.0,56.0,40.0,45.0,26.0,26.0,59.0,68.0,24.0,34.0,26.0,29.0,33.0,45.0,35.0,26.0,42.0,31.0,48.0,31.0,54.0,17.0,59.0,42.0,23.0,29.0,45.0,28.0,37.0,28.0,28.0,51.0,36.0,59.0,25.0,26.0,74.0,33.0,27.0,57.0,46.0,41.0,61.0,45.0,35.0,49.0,45.0,23.0,46.0,23.0,21.0,35.0,27.0,37.0,16.0,51.0,25.0,34.0,34.0,56.0,26.0,24.0,31.0,32.0,30.0,50.0,null,31.0,38.0,77.0,41.0,51.0,50.0,42.0,39.0,47.0,37.0,41.0,16.0,30.0,27.0,43.0,31.0,42.0,21.0,49.0,27.0,24.0,17.0,34.0,28.0,40.0,49.0,43.0,35.0,20.0,25.0,25.0,26.0,28.0,45.0,36.0,34.0,37.0,48.0,19.0,29.0,40.0,35.0,58.0,46.0,30.0,27.0,31.0,23.0,37.0,64.0,31.0,39.0,31.0,25.0,54.0,53.0,37.0,35.0,59.0,36.0,32.0,41.0,29.0,53.0,26.0,27.0,28.0,52.0,20.0,22.0,49.0,24.0,47.0,64.0,16.0,20.0,36.0,39.0,18.0,31.0,24.0,63.0,34.0,44.0,60.0,42.0,21.0,37.0,36.0,21.0,24.0,38.0,29.0,57.0,23.0,27.0,28.0,63.0,35.0,56.0,39.0,23.0,40.0,42.0,41.0,26.0,29.0,49.0,54.0,36.0,21.0,37.0,36.0,32.0,63.0,44.0,27.0,38.0,17.0,50.0,31.0,34.0,51.0,56.0,23.0,25.0,31.0,32.0,60.0,42.0,39.0,28.0,54.0,22.0,29.0,31.0,28.0,21.0,38.0,66.0,36.0,83.0,32.0,27.0,26.0,31.0,22.0,41.0,41.0,51.0,72.0,52.0,47.0,18.0,29.0,23.0,43.0,45.0,40.0,44.0,25.0,35.0,37.0,59.0,35.0,18.0,51.0,30.0,31.0,39.0,26.0,51.0,19.0,49.0,63.0,20.0,25.0,24.0,58.0,29.0,76.0,45.0,20.0,58.0,21.0,27.0,26.0,33.0,27.0,53.0,53.0,42.0,22.0,52.0,36.0,30.0,34.0,44.0,53.0,36.0,29.0,32.0,46.0,18.0,72.0,38.0,21.0,35.0,58.0,48.0,31.0,47.0,34.0,30.0,28.0,28.0,46.0,40.0,37.0,53.0,41.0,42.0,45.0,34.0,18.0,27.0,54.0,35.0,17.0,29.0,52.0,38.0,26.0,22.0,29.0,43.0,24.0,32.0,40.0,25.0,47.0,40.0,36.0,62.0,51.0,24.0,39.0,24.0,57.0,20.0,33.0,60.0,32.0,40.0,18.0,36.0,35.0,55.0,19.0,39.0,40.0,47.0,23.0,26.0,26.0,46.0,36.0,18.0,33.0,56.0,50.0,30.0,53.0,45.0,42.0,27.0,36.0,58.0,54.0,30.0,69.0,30.0,45.0,22.0,28.0,19.0,40.0,86.0,46.0,28.0,22.0,46.0,35.0,35.0,28.0,15.0,22.0,28.0,31.0,48.0,58.0,44.0,21.0,50.0,23.0,24.0,49.0,60.0,35.0,29.0,20.0,34.0,22.0,49.0,32.0,26.0,41.0,61.0,49.0,28.0,35.0,29.0,51.0,52.0,24.0,32.0,45.0,60.0,23.0,59.0,27.0,46.0,33.0,40.0,42.0,37.0,23.0,36.0,19.0,35.0,25.0,43.0,20.0,42.0,42.0,31.0,29.0,18.0,33.0,59.0,47.0,39.0,37.0,35.0,28.0,59.0,62.0,50.0,68.0,27.0,17.0,38.0,21.0,54.0,20.0,25.0,31.0,35.0,36.0,60.0,24.0,27.0,20.0,24.0,23.0,41.0,20.0,76.0,43.0,25.0,29.0,35.0,30.0,24.0,23.0,29.0,27.0,23.0,50.0,19.0,24.0,22.0,46.0,65.0,43.0,35.0,54.0,47.0,24.0,35.0,25.0,26.0,27.0,34.0,31.0,32.0,47.0,44.0,30.0,60.0,50.0,36.0,59.0,33.0,19.0,56.0,45.0,22.0,41.0,34.0,53.0,48.0,25.0,30.0,47.0,33.0,34.0,52.0,29.0,63.0,49.0,18.0,71.0,35.0,55.0,31.0,18.0,51.0,39.0,20.0,29.0,40.0,42.0,22.0,19.0,24.0,30.0,53.0,25.0,28.0,33.0,24.0,59.0,46.0,15.0,41.0,77.0,22.0,24.0,34.0,48.0,24.0,27.0,27.0,27.0,49.0,38.0,26.0,30.0,53.0,43.0,23.0,34.0,30.0,29.0,47.0,35.0,40.0,18.0,24.0,29.0,44.0,19.0,50.0,17.0,57.0,30.0,38.0,31.0,39.0,29.0,26.0,64.0,36.0,36.0,21.0,53.0,57.0,30.0,34.0,53.0,45.0,22.0,22.0,46.0,27.0,42.0,30.0,54.0,29.0,41.0,28.0,61.0,23.0,25.0,null,29.0,20.0,40.0,45.0,33.0,76.0,47.0,45.0,40.0,37.0,49.0,27.0,36.0,23.0,21.0,32.0,35.0,59.0,28.0,45.0,45.0,19.0,25.0,37.0,33.0,59.0,31.0,35.0,29.0,32.0,41.0,31.0,44.0,23.0,45.0,39.0,67.0,29.0,25.0,28.0,21.0,32.0,51.0,39.0,27.0,31.0,50.0,null,32.0,47.0,46.0,57.0,23.0,56.0,24.0,27.0,21.0,26.0,34.0,32.0,33.0,55.0,26.0,48.0,35.0,19.0,45.0,28.0,42.0,17.0,30.0,21.0,33.0,45.0,46.0,23.0,43.0,40.0,31.0,59.0,46.0,37.0,28.0,28.0,26.0,29.0,45.0,27.0,31.0,51.0,50.0,27.0,18.0,39.0,46.0,19.0,49.0,31.0,38.0,40.0,35.0,34.0,44.0,23.0,43.0,null,31.0,27.0,18.0,59.0,57.0,15.0,25.0,31.0,35.0,27.0,20.0,27.0,45.0,33.0,22.0,28.0,31.0,28.0,53.0,30.0,39.0,40.0,30.0,21.0,35.0,21.0,47.0,38.0,36.0,53.0,null,34.0,34.0,30.0,28.0,47.0,49.0,36.0,45.0,18.0,25.0,29.0,57.0,34.0,35.0,null,18.0,62.0,29.0,25.0,30.0,33.0,56.0,49.0,20.0,62.0,62.0,6.0,30.0,57.0,18.0,47.0,48.0,20.0,30.0,51.0,55.0,48.0,20.0,25.0,26.0,45.0,35.0,63.0,34.0,36.0,22.0,31.0,25.0,57.0,32.0,42.0,52.0,25.0,25.0,31.0,39.0,32.0,16.0,24.0,28.0,25.0,41.0,28.0,21.0,30.0,58.0,47.0,25.0,44.0,34.0,27.0,34.0,39.0,29.0,24.0,47.0,45.0,28.0,49.0,50.0,45.0,32.0,24.0,23.0,52.0,26.0,58.0,50.0,22.0,53.0,69.0,23.0,29.0,25.0,18.0,31.0,23.0,18.0,35.0,28.0,26.0,32.0,36.0,66.0,47.0,21.0,24.0,51.0,60.0,38.0,35.0,46.0,48.0,36.0,33.0,66.0,51.0,34.0,55.0,54.0,null,36.0,25.0,24.0,28.0,36.0,20.0,49.0,null,21.0,30.0,32.0,33.0,52.0,56.0,39.0,19.0,45.0,33.0,51.0,null,25.0,24.0,32.0,58.0,24.0,26.0,30.0,31.0,34.0,48.0,null,21.0,39.0,25.0,30.0,61.0,56.0,29.0,19.0,35.0,36.0,54.0,24.0,23.0,18.0,31.0,41.0,19.0,38.0,36.0,34.0,52.0,28.0,null,55.0,39.0,23.0,30.0,37.0,54.0,37.0,30.0,27.0,22.0,29.0,39.0,33.0,52.0,28.0,54.0,38.0,32.0,34.0,26.0,50.0,37.0,56.0,45.0,32.0,49.0,58.0,29.0,60.0,40.0,39.0,26.0,24.0,34.0,27.0,44.0,55.0,19.0,52.0,24.0,38.0,31.0,26.0,33.0,28.0,27.0,39.0,29.0,36.0,55.0,28.0,40.0,33.0,37.0,39.0,43.0,38.0,55.0,52.0,32.0,31.0,27.0,40.0,30.0,26.0,33.0,19.0,33.0,29.0,29.0,38.0,64.0,42.0,42.0,37.0,46.0,25.0,62.0,36.0,21.0,30.0,53.0,31.0,22.0,24.0,36.0,47.0,54.0,43.0,38.0,30.0,51.0,55.0,16.0,23.0,36.0,27.0,33.0,17.0,22.0,22.0,29.0,41.0,67.0,36.0,52.0,56.0,35.0,45.0,30.0,29.0,53.0,22.0,29.0,24.0,19.0,26.0,50.0,29.0,52.0,39.0,51.0,48.0,30.0,37.0,25.0,30.0,35.0,32.0,35.0,31.0,30.0,23.0,41.0,45.0,46.0,32.0,33.0,45.0,38.0,22.0,48.0,36.0,39.0,26.0,16.0,58.0,27.0,26.0,21.0,37.0,56.0,19.0,38.0,18.0,35.0,23.0,41.0,44.0,24.0,39.0,22.0,37.0,36.0,41.0,27.0,66.0,30.0,34.0,22.0,51.0,42.0,41.0,49.0,45.0,45.0,42.0,41.0,27.0,37.0,22.0,21.0,50.0,23.0,25.0,51.0,46.0,23.0,37.0,20.0,43.0,45.0,16.0,30.0,26.0,24.0,28.0,29.0,34.0,38.0,43.0,23.0,33.0,40.0,38.0,53.0,29.0,30.0,49.0,60.0,24.0,21.0,23.0,61.0,54.0,62.0,16.0,76.0,25.0,28.0,25.0,33.0,51.0,34.0,30.0,44.0,24.0,29.0,48.0,19.0,22.0,39.0,36.0,55.0,46.0,34.0,33.0,18.0,33.0,46.0,51.0,33.0,25.0,52.0,31.0,18.0,43.0,34.0,65.0,37.0,30.0,48.0,25.0,69.0,50.0,52.0,44.0,60.0,20.0,45.0,44.0,40.0,43.0,27.0,19.0,39.0,30.0,28.0,22.0,16.0,40.0,38.0,20.0,35.0,52.0,26.0,54.0,38.0,52.0,26.0,53.0,22.0,31.0,32.0,37.0,28.0,18.0,41.0,15.0,38.0,41.0,52.0,48.0,29.0,51.0,21.0,24.0,18.0,30.0,33.0,28.0,26.0,44.0,36.0,34.0,21.0,37.0,53.0,45.0,24.0,48.0,42.0,33.0,55.0,28.0,25.0,28.0,52.0,59.0,52.0,39.0,18.0,40.0,36.0,38.0,null,29.0,37.0,29.0,21.0,33.0,33.0,23.0,26.0,59.0,29.0,28.0,35.0,33.0,24.0,null,28.0,19.0,43.0,59.0,34.0,35.0,23.0,36.0,46.0,44.0,20.0,30.0,35.0,36.0,22.0,31.0,63.0,38.0,31.0,27.0,35.0,22.0,28.0,26.0,22.0,57.0,31.0,43.0,24.0,29.0,43.0,null,21.0,19.0,25.0,59.0,50.0,58.0,25.0,32.0,53.0,38.0,70.0,33.0,36.0,null,21.0,51.0,43.0,18.0,33.0,34.0,31.0,35.0,31.0,31.0,23.0,25.0,25.0,21.0,49.0,63.0,43.0,34.0,38.0,52.0,68.0,null,31.0,29.0,32.0,50.0,27.0,31.0,29.0,23.0,61.0,33.0,18.0,80.0,43.0,50.0,47.0,54.0,22.0,43.0,38.0,21.0,36.0,30.0,null,34.0,17.0,37.0,25.0,30.0,23.0,20.0,19.0,50.0,24.0,25.0,20.0,37.0,44.0,22.0,31.0,25.0,null,29.0,36.0,50.0,42.0,26.0,19.0,59.0,36.0,null,51.0,27.0,22.0,30.0,28.0,63.0,32.0,26.0,25.0,27.0,61.0,30.0,null,37.0,41.0,25.0,24.0,44.0,63.0,30.0,58.0,35.0,50.0,40.0,null,19.0,34.0,18.0,21.0,null,37.0,29.0,49.0,32.0,65.0,37.0,33.0,63.0,30.0,40.0,38.0,50.0,41.0,41.0,39.0,44.0,23.0,32.0,56.0,33.0,63.0,31.0,26.0,57.0,39.0,43.0,42.0,29.0,56.0,31.0,50.0,36.0,50.0,34.0,49.0,31.0,36.0,29.0,32.0,18.0,50.0,36.0,33.0,17.0,19.0,24.0,24.0,20.0,41.0,47.0,18.0,31.0,27.0,36.0,59.0,32.0,38.0,18.0,32.0,43.0,67.0,22.0,31.0,43.0,34.0,51.0,31.0,54.0,69.0,58.0,26.0,31.0,59.0,25.0,20.0,69.0,57.0,56.0,64.0,34.0,45.0,14.0,44.0,54.0,59.0,33.0,22.0,49.0,36.0,23.0,38.0,53.0,29.0,42.0,25.0,18.0,55.0,36.0,32.0,53.0,30.0,27.0,37.0,29.0,40.0,36.0,38.0,29.0,59.0,47.0,22.0,31.0,29.0,54.0,71.0,36.0,34.0,49.0,36.0,43.0,53.0,63.0,31.0,32.0,41.0,26.0,49.0,82.0,37.0,24.0,56.0,28.0,36.0,22.0,59.0,36.0,21.0,38.0,60.0,18.0,23.0,null,38.0,40.0,22.0,38.0,25.0,25.0,36.0,null,null,44.0,36.0,35.0,25.0,65.0,31.0,70.0,25.0,55.0,35.0,25.0,32.0,38.0,32.0,64.0,55.0,69.0,37.0,31.0,86.0,25.0,25.0,13.0,32.0,34.0,69.0,46.0,40.0,29.0,29.0,42.0,25.0,45.0,55.0,22.0,61.0,30.0,56.0,35.0,22.0,23.0,43.0,43.0,49.0,23.0,41.0,33.0,30.0,25.0,52.0,32.0,46.0,48.0,38.0,26.0,32.0,28.0,53.0,38.0,18.0,32.0,37.0,18.0,20.0,28.0,18.0,16.0,36.0,57.0,49.0,31.0,26.0,51.0,28.0,35.0,57.0,36.0,42.0,null,49.0,62.0,21.0,39.0,41.0,40.0,50.0,27.0,19.0,26.0,44.0,30.0,31.0,33.0,22.0,50.0,46.0,38.0,23.0,24.0,26.0,38.0,32.0,50.0,17.0,39.0,28.0,42.0,34.0,38.0,24.0,28.0,29.0,58.0,21.0,45.0,38.0,40.0,19.0,46.0,25.0,37.0,25.0,36.0,32.0,33.0,24.0,37.0,38.0,45.0,31.0,34.0,23.0,38.0,55.0,76.0,59.0,40.0,23.0,64.0,26.0,35.0,49.0,36.0,56.0,59.0,34.0,33.0,43.0,43.0,31.0,17.0,32.0,31.0,19.0,23.0,26.0,45.0,36.0,41.0,53.0,null,24.0,null,47.0,40.0,29.0,38.0,22.0,21.0,25.0,37.0,48.0,37.0,56.0,35.0,25.0,25.0,48.0,26.0,29.0,15.0,55.0,21.0,24.0,18.0,19.0,27.0,45.0,36.0,34.0,23.0,43.0,43.0,19.0,45.0,37.0,23.0,26.0,20.0,50.0,59.0,33.0,48.0,18.0,23.0,41.0,41.0,55.0,29.0,31.0,25.0,38.0,null,83.0,22.0,33.0,36.0,38.0,26.0,29.0,55.0,47.0,52.0,49.0,31.0,37.0,37.0,36.0,20.0,null,30.0,null,35.0,35.0,36.0,53.0,39.0,30.0,24.0,73.0,31.0,28.0,18.0,32.0,60.0,36.0,48.0,33.0,44.0,20.0,37.0,72.0,52.0,31.0,46.0,null,31.0,25.0,46.0,38.0,25.0,null,27.0,24.0,19.0,31.0,55.0,null,18.0,null,48.0,29.0,30.0,33.0,61.0,35.0,41.0,36.0,28.0,52.0,21.0,null,31.0,33.0,46.0,32.0,42.0,17.0,44.0,35.0,23.0,21.0,53.0,63.0,18.0,51.0,64.0,45.0,20.0,41.0,23.0,32.0,25.0,42.0,41.0,31.0,50.0,38.0,44.0,38.0,21.0,32.0,23.0,41.0,41.0,38.0,54.0,20.0,26.0,29.0,47.0,28.0,48.0,34.0,33.0,36.0,43.0,32.0,29.0,39.0,16.0,40.0,50.0,19.0,28.0,25.0,49.0,44.0,39.0,44.0,50.0,57.0,57.0,33.0,21.0,52.0,27.0,60.0,25.0,34.0,22.0,26.0,27.0,29.0,30.0,18.0,32.0,37.0,54.0,50.0,28.0,59.0,24.0,34.0,25.0,48.0,45.0,25.0,17.0,53.0,18.0,50.0,36.0,45.0,42.0,null,23.0,31.0,18.0,26.0,57.0,27.0,41.0,33.0,22.0,38.0,26.0,45.0,23.0,68.0,56.0,45.0,41.0,33.0,22.0,50.0,52.0,18.0,35.0,18.0,34.0,51.0,29.0,34.0,25.0,26.0,33.0,17.0,null,25.0,31.0,25.0,45.0,25.0,23.0,37.0,33.0,27.0,32.0,null,31.0,26.0,32.0,53.0,19.0,53.0,35.0,64.0,24.0,33.0,55.0,17.0,48.0,21.0,22.0,30.0,34.0,35.0,32.0,22.0,46.0,27.0,18.0,33.0,26.0,27.0,26.0,51.0,63.0,38.0,25.0,39.0,41.0,26.0,33.0,54.0,38.0,24.0,47.0,62.0,30.0,23.0,39.0,null,36.0,66.0,27.0,40.0,25.0,20.0,43.0,40.0,33.0,34.0,27.0,25.0,37.0,32.0,25.0,38.0,50.0,70.0,26.0,null,41.0,91.0,null,25.0,24.0,29.0,40.0,51.0,30.0,33.0,28.0,23.0,23.0,20.0,56.0,36.0,18.0,43.0,29.0,25.0,34.0,32.0,32.0,58.0,36.0,25.0,25.0,25.0,42.0,36.0,59.0,19.0,45.0,null,42.0,27.0,45.0,null,42.0,24.0,39.0,18.0,26.0,35.0,53.0,56.0,54.0,36.0,51.0,45.0,28.0,36.0,73.0,26.0,41.0,59.0,28.0,45.0,27.0,46.0,null,30.0,46.0,47.0,32.0,65.0,19.0,22.0,39.0,38.0,68.0,49.0,37.0,33.0,25.0,36.0,36.0,30.0,39.0,28.0,28.0,25.0,57.0,35.0,24.0,null,33.0,56.0,56.0,16.0,47.0,33.0,32.0,21.0,64.0,19.0,55.0,null,25.0,25.0,43.0,39.0,24.0,70.0,15.0,79.0,16.0,35.0,24.0,53.0,20.0,27.0,57.0,53.0,32.0,26.0,53.0,32.0,25.0,15.0,59.0,35.0,33.0,32.0,49.0,46.0,25.0,48.0,20.0,null,24.0,18.0,67.0,26.0,15.0,62.0,24.0,27.0,26.0,32.0,29.0,16.0,25.0,null,39.0,34.0,36.0,24.0,50.0,null,51.0,30.0,35.0,46.0,37.0,41.0,41.0,48.0,29.0,47.0,null,34.0,48.0,25.0,24.0,38.0,28.0,47.0,65.0,58.0,33.0,43.0,24.0,37.0,null,21.0,65.0,59.0,74.0,24.0,null,23.0,59.0,33.0,34.0,30.0,null,null,22.0,35.0,37.0,20.0,62.0,18.0,24.0,17.0,27.0,51.0,29.0,34.0,18.0,17.0,55.0,44.0,27.0,66.0,45.0,47.0,34.0,37.0,54.0,50.0,21.0,21.0,35.0,75.0,45.0,30.0,48.0,58.0,29.0,44.0,82.0,null,53.0,60.0,19.0,45.0,63.0,50.0,35.0,24.0,36.0,35.0,33.0,20.0,66.0,54.0,40.0,41.0,30.0,32.0,37.0,48.0,64.0,21.0,28.0,null,null,40.0,32.0,50.0,33.0,37.0,17.0,20.0,34.0,37.0,null,47.0,20.0,56.0,24.0,47.0,null,36.0,35.0,null,37.0,45.0,null,23.0,37.0,23.0,33.0,23.0,37.0,19.0,null,53.0,null,null,45.0,null,28.0,36.0,32.0,39.0,46.0,34.0,53.0,45.0,24.0,51.0,35.0,27.0,33.0,null,30.0,22.0,null,28.0,34.0,24.0,54.0,26.0,39.0,34.0,27.0,48.0,47.0,null,33.0,40.0,null,55.0,56.0,42.0,34.0,29.0,23.0,null,52.0,43.0,37.0,32.0,70.0,36.0,24.0,24.0,38.0,52.0,27.0,22.0,42.0,49.0,59.0,41.0,34.0,31.0,23.0,28.0,33.0,16.0,35.0,null,25.0,46.0,39.0,25.0,31.0,null,32.0,31.0,null,48.0,28.0,32.0],\"y0\":\" \",\"yaxis\":\"y\",\"type\":\"box\"},{\"alignmentgroup\":\"True\",\"hovertemplate\":\"gender=F\\u003cbr\\u003emanner_of_death=%{x}\\u003cbr\\u003eage=%{y}\\u003cextra\\u003e\\u003c\\u002fextra\\u003e\",\"legendgroup\":\"F\",\"marker\":{\"color\":\"#EF553B\"},\"name\":\"F\",\"notched\":false,\"offsetgroup\":\"F\",\"orientation\":\"v\",\"showlegend\":true,\"x\":[\"shot\",\"shot and Tasered\",\"shot\",\"shot\",\"shot\",\"shot\",\"shot\",\"shot\",\"shot\",\"shot\",\"shot\",\"shot\",\"shot\",\"shot\",\"shot\",\"shot\",\"shot\",\"shot\",\"shot and Tasered\",\"shot\",\"shot\",\"shot\",\"shot\",\"shot\",\"shot and Tasered\",\"shot\",\"shot\",\"shot\",\"shot\",\"shot\",\"shot\",\"shot\",\"shot\",\"shot\",\"shot\",\"shot\",\"shot\",\"shot\",\"shot\",\"shot\",\"shot\",\"shot\",\"shot\",\"shot\",\"shot\",\"shot\",\"shot\",\"shot\",\"shot\",\"shot\",\"shot\",\"shot\",\"shot\",\"shot\",\"shot\",\"shot\",\"shot\",\"shot\",\"shot\",\"shot\",\"shot\",\"shot\",\"shot\",\"shot\",\"shot\",\"shot\",\"shot\",\"shot\",\"shot\",\"shot\",\"shot\",\"shot\",\"shot\",\"shot\",\"shot\",\"shot\",\"shot\",\"shot\",\"shot\",\"shot\",\"shot\",\"shot\",\"shot and Tasered\",\"shot\",\"shot\",\"shot and Tasered\",\"shot\",\"shot\",\"shot\",\"shot\",\"shot\",\"shot\",\"shot\",\"shot\",\"shot\",\"shot\",\"shot\",\"shot\",\"shot\",\"shot\",\"shot\",\"shot\",\"shot\",\"shot\",\"shot\",\"shot\",\"shot\"],\"x0\":\" \",\"xaxis\":\"x\",\"y\":[34.0,17.0,17.0,39.0,38.0,43.0,20.0,34.0,28.0,37.0,43.0,24.0,49.0,53.0,26.0,27.0,46.0,25.0,39.0,31.0,45.0,17.0,40.0,44.0,30.0,28.0,23.0,37.0,55.0,62.0,46.0,50.0,21.0,36.0,37.0,27.0,61.0,51.0,48.0,22.0,55.0,50.0,45.0,12.0,25.0,31.0,32.0,41.0,32.0,36.0,31.0,38.0,38.0,25.0,27.0,50.0,36.0,40.0,25.0,35.0,60.0,24.0,26.0,29.0,null,42.0,24.0,40.0,23.0,35.0,46.0,53.0,26.0,66.0,23.0,25.0,39.0,31.0,56.0,44.0,53.0,71.0,37.0,21.0,18.0,55.0,30.0,33.0,46.0,16.0,59.0,21.0,17.0,54.0,50.0,27.0,41.0,null,24.0,28.0,30.0,null,29.0,50.0,40.0,25.0,62.0],\"y0\":\" \",\"yaxis\":\"y\",\"type\":\"box\"}],                        {\"template\":{\"data\":{\"histogram2dcontour\":[{\"type\":\"histogram2dcontour\",\"colorbar\":{\"outlinewidth\":0,\"ticks\":\"\"},\"colorscale\":[[0.0,\"#0d0887\"],[0.1111111111111111,\"#46039f\"],[0.2222222222222222,\"#7201a8\"],[0.3333333333333333,\"#9c179e\"],[0.4444444444444444,\"#bd3786\"],[0.5555555555555556,\"#d8576b\"],[0.6666666666666666,\"#ed7953\"],[0.7777777777777778,\"#fb9f3a\"],[0.8888888888888888,\"#fdca26\"],[1.0,\"#f0f921\"]]}],\"choropleth\":[{\"type\":\"choropleth\",\"colorbar\":{\"outlinewidth\":0,\"ticks\":\"\"}}],\"histogram2d\":[{\"type\":\"histogram2d\",\"colorbar\":{\"outlinewidth\":0,\"ticks\":\"\"},\"colorscale\":[[0.0,\"#0d0887\"],[0.1111111111111111,\"#46039f\"],[0.2222222222222222,\"#7201a8\"],[0.3333333333333333,\"#9c179e\"],[0.4444444444444444,\"#bd3786\"],[0.5555555555555556,\"#d8576b\"],[0.6666666666666666,\"#ed7953\"],[0.7777777777777778,\"#fb9f3a\"],[0.8888888888888888,\"#fdca26\"],[1.0,\"#f0f921\"]]}],\"heatmap\":[{\"type\":\"heatmap\",\"colorbar\":{\"outlinewidth\":0,\"ticks\":\"\"},\"colorscale\":[[0.0,\"#0d0887\"],[0.1111111111111111,\"#46039f\"],[0.2222222222222222,\"#7201a8\"],[0.3333333333333333,\"#9c179e\"],[0.4444444444444444,\"#bd3786\"],[0.5555555555555556,\"#d8576b\"],[0.6666666666666666,\"#ed7953\"],[0.7777777777777778,\"#fb9f3a\"],[0.8888888888888888,\"#fdca26\"],[1.0,\"#f0f921\"]]}],\"heatmapgl\":[{\"type\":\"heatmapgl\",\"colorbar\":{\"outlinewidth\":0,\"ticks\":\"\"},\"colorscale\":[[0.0,\"#0d0887\"],[0.1111111111111111,\"#46039f\"],[0.2222222222222222,\"#7201a8\"],[0.3333333333333333,\"#9c179e\"],[0.4444444444444444,\"#bd3786\"],[0.5555555555555556,\"#d8576b\"],[0.6666666666666666,\"#ed7953\"],[0.7777777777777778,\"#fb9f3a\"],[0.8888888888888888,\"#fdca26\"],[1.0,\"#f0f921\"]]}],\"contourcarpet\":[{\"type\":\"contourcarpet\",\"colorbar\":{\"outlinewidth\":0,\"ticks\":\"\"}}],\"contour\":[{\"type\":\"contour\",\"colorbar\":{\"outlinewidth\":0,\"ticks\":\"\"},\"colorscale\":[[0.0,\"#0d0887\"],[0.1111111111111111,\"#46039f\"],[0.2222222222222222,\"#7201a8\"],[0.3333333333333333,\"#9c179e\"],[0.4444444444444444,\"#bd3786\"],[0.5555555555555556,\"#d8576b\"],[0.6666666666666666,\"#ed7953\"],[0.7777777777777778,\"#fb9f3a\"],[0.8888888888888888,\"#fdca26\"],[1.0,\"#f0f921\"]]}],\"surface\":[{\"type\":\"surface\",\"colorbar\":{\"outlinewidth\":0,\"ticks\":\"\"},\"colorscale\":[[0.0,\"#0d0887\"],[0.1111111111111111,\"#46039f\"],[0.2222222222222222,\"#7201a8\"],[0.3333333333333333,\"#9c179e\"],[0.4444444444444444,\"#bd3786\"],[0.5555555555555556,\"#d8576b\"],[0.6666666666666666,\"#ed7953\"],[0.7777777777777778,\"#fb9f3a\"],[0.8888888888888888,\"#fdca26\"],[1.0,\"#f0f921\"]]}],\"mesh3d\":[{\"type\":\"mesh3d\",\"colorbar\":{\"outlinewidth\":0,\"ticks\":\"\"}}],\"scatter\":[{\"fillpattern\":{\"fillmode\":\"overlay\",\"size\":10,\"solidity\":0.2},\"type\":\"scatter\"}],\"parcoords\":[{\"type\":\"parcoords\",\"line\":{\"colorbar\":{\"outlinewidth\":0,\"ticks\":\"\"}}}],\"scatterpolargl\":[{\"type\":\"scatterpolargl\",\"marker\":{\"colorbar\":{\"outlinewidth\":0,\"ticks\":\"\"}}}],\"bar\":[{\"error_x\":{\"color\":\"#2a3f5f\"},\"error_y\":{\"color\":\"#2a3f5f\"},\"marker\":{\"line\":{\"color\":\"#E5ECF6\",\"width\":0.5},\"pattern\":{\"fillmode\":\"overlay\",\"size\":10,\"solidity\":0.2}},\"type\":\"bar\"}],\"scattergeo\":[{\"type\":\"scattergeo\",\"marker\":{\"colorbar\":{\"outlinewidth\":0,\"ticks\":\"\"}}}],\"scatterpolar\":[{\"type\":\"scatterpolar\",\"marker\":{\"colorbar\":{\"outlinewidth\":0,\"ticks\":\"\"}}}],\"histogram\":[{\"marker\":{\"pattern\":{\"fillmode\":\"overlay\",\"size\":10,\"solidity\":0.2}},\"type\":\"histogram\"}],\"scattergl\":[{\"type\":\"scattergl\",\"marker\":{\"colorbar\":{\"outlinewidth\":0,\"ticks\":\"\"}}}],\"scatter3d\":[{\"type\":\"scatter3d\",\"line\":{\"colorbar\":{\"outlinewidth\":0,\"ticks\":\"\"}},\"marker\":{\"colorbar\":{\"outlinewidth\":0,\"ticks\":\"\"}}}],\"scattermapbox\":[{\"type\":\"scattermapbox\",\"marker\":{\"colorbar\":{\"outlinewidth\":0,\"ticks\":\"\"}}}],\"scatterternary\":[{\"type\":\"scatterternary\",\"marker\":{\"colorbar\":{\"outlinewidth\":0,\"ticks\":\"\"}}}],\"scattercarpet\":[{\"type\":\"scattercarpet\",\"marker\":{\"colorbar\":{\"outlinewidth\":0,\"ticks\":\"\"}}}],\"carpet\":[{\"aaxis\":{\"endlinecolor\":\"#2a3f5f\",\"gridcolor\":\"white\",\"linecolor\":\"white\",\"minorgridcolor\":\"white\",\"startlinecolor\":\"#2a3f5f\"},\"baxis\":{\"endlinecolor\":\"#2a3f5f\",\"gridcolor\":\"white\",\"linecolor\":\"white\",\"minorgridcolor\":\"white\",\"startlinecolor\":\"#2a3f5f\"},\"type\":\"carpet\"}],\"table\":[{\"cells\":{\"fill\":{\"color\":\"#EBF0F8\"},\"line\":{\"color\":\"white\"}},\"header\":{\"fill\":{\"color\":\"#C8D4E3\"},\"line\":{\"color\":\"white\"}},\"type\":\"table\"}],\"barpolar\":[{\"marker\":{\"line\":{\"color\":\"#E5ECF6\",\"width\":0.5},\"pattern\":{\"fillmode\":\"overlay\",\"size\":10,\"solidity\":0.2}},\"type\":\"barpolar\"}],\"pie\":[{\"automargin\":true,\"type\":\"pie\"}]},\"layout\":{\"autotypenumbers\":\"strict\",\"colorway\":[\"#636efa\",\"#EF553B\",\"#00cc96\",\"#ab63fa\",\"#FFA15A\",\"#19d3f3\",\"#FF6692\",\"#B6E880\",\"#FF97FF\",\"#FECB52\"],\"font\":{\"color\":\"#2a3f5f\"},\"hovermode\":\"closest\",\"hoverlabel\":{\"align\":\"left\"},\"paper_bgcolor\":\"white\",\"plot_bgcolor\":\"#E5ECF6\",\"polar\":{\"bgcolor\":\"#E5ECF6\",\"angularaxis\":{\"gridcolor\":\"white\",\"linecolor\":\"white\",\"ticks\":\"\"},\"radialaxis\":{\"gridcolor\":\"white\",\"linecolor\":\"white\",\"ticks\":\"\"}},\"ternary\":{\"bgcolor\":\"#E5ECF6\",\"aaxis\":{\"gridcolor\":\"white\",\"linecolor\":\"white\",\"ticks\":\"\"},\"baxis\":{\"gridcolor\":\"white\",\"linecolor\":\"white\",\"ticks\":\"\"},\"caxis\":{\"gridcolor\":\"white\",\"linecolor\":\"white\",\"ticks\":\"\"}},\"coloraxis\":{\"colorbar\":{\"outlinewidth\":0,\"ticks\":\"\"}},\"colorscale\":{\"sequential\":[[0.0,\"#0d0887\"],[0.1111111111111111,\"#46039f\"],[0.2222222222222222,\"#7201a8\"],[0.3333333333333333,\"#9c179e\"],[0.4444444444444444,\"#bd3786\"],[0.5555555555555556,\"#d8576b\"],[0.6666666666666666,\"#ed7953\"],[0.7777777777777778,\"#fb9f3a\"],[0.8888888888888888,\"#fdca26\"],[1.0,\"#f0f921\"]],\"sequentialminus\":[[0.0,\"#0d0887\"],[0.1111111111111111,\"#46039f\"],[0.2222222222222222,\"#7201a8\"],[0.3333333333333333,\"#9c179e\"],[0.4444444444444444,\"#bd3786\"],[0.5555555555555556,\"#d8576b\"],[0.6666666666666666,\"#ed7953\"],[0.7777777777777778,\"#fb9f3a\"],[0.8888888888888888,\"#fdca26\"],[1.0,\"#f0f921\"]],\"diverging\":[[0,\"#8e0152\"],[0.1,\"#c51b7d\"],[0.2,\"#de77ae\"],[0.3,\"#f1b6da\"],[0.4,\"#fde0ef\"],[0.5,\"#f7f7f7\"],[0.6,\"#e6f5d0\"],[0.7,\"#b8e186\"],[0.8,\"#7fbc41\"],[0.9,\"#4d9221\"],[1,\"#276419\"]]},\"xaxis\":{\"gridcolor\":\"white\",\"linecolor\":\"white\",\"ticks\":\"\",\"title\":{\"standoff\":15},\"zerolinecolor\":\"white\",\"automargin\":true,\"zerolinewidth\":2},\"yaxis\":{\"gridcolor\":\"white\",\"linecolor\":\"white\",\"ticks\":\"\",\"title\":{\"standoff\":15},\"zerolinecolor\":\"white\",\"automargin\":true,\"zerolinewidth\":2},\"scene\":{\"xaxis\":{\"backgroundcolor\":\"#E5ECF6\",\"gridcolor\":\"white\",\"linecolor\":\"white\",\"showbackground\":true,\"ticks\":\"\",\"zerolinecolor\":\"white\",\"gridwidth\":2},\"yaxis\":{\"backgroundcolor\":\"#E5ECF6\",\"gridcolor\":\"white\",\"linecolor\":\"white\",\"showbackground\":true,\"ticks\":\"\",\"zerolinecolor\":\"white\",\"gridwidth\":2},\"zaxis\":{\"backgroundcolor\":\"#E5ECF6\",\"gridcolor\":\"white\",\"linecolor\":\"white\",\"showbackground\":true,\"ticks\":\"\",\"zerolinecolor\":\"white\",\"gridwidth\":2}},\"shapedefaults\":{\"line\":{\"color\":\"#2a3f5f\"}},\"annotationdefaults\":{\"arrowcolor\":\"#2a3f5f\",\"arrowhead\":0,\"arrowwidth\":1},\"geo\":{\"bgcolor\":\"white\",\"landcolor\":\"#E5ECF6\",\"subunitcolor\":\"white\",\"showland\":true,\"showlakes\":true,\"lakecolor\":\"white\"},\"title\":{\"x\":0.05},\"mapbox\":{\"style\":\"light\"}}},\"xaxis\":{\"anchor\":\"y\",\"domain\":[0.0,1.0],\"title\":{\"text\":\"Manner of Death\"}},\"yaxis\":{\"anchor\":\"x\",\"domain\":[0.0,1.0],\"title\":{\"text\":\"age\"}},\"legend\":{\"title\":{\"text\":\"gender\"},\"tracegroupgap\":0},\"title\":{\"text\":\"How Have the age Changed with  Manner of Death?\"},\"boxmode\":\"group\"},                        {\"responsive\": true}                    ).then(function(){\n",
       "                            \n",
       "var gd = document.getElementById('bb23d9ea-c0c8-480a-b1ae-ef1542d7398f');\n",
       "var x = new MutationObserver(function (mutations, observer) {{\n",
       "        var display = window.getComputedStyle(gd).display;\n",
       "        if (!display || display === 'none') {{\n",
       "            console.log([gd, 'removed!']);\n",
       "            Plotly.purge(gd);\n",
       "            observer.disconnect();\n",
       "        }}\n",
       "}});\n",
       "\n",
       "// Listen for the removal of the full notebook cells\n",
       "var notebookContainer = gd.closest('#notebook-container');\n",
       "if (notebookContainer) {{\n",
       "    x.observe(notebookContainer, {childList: true});\n",
       "}}\n",
       "\n",
       "// Listen for the clearing of the current output cell\n",
       "var outputEl = gd.closest('.output');\n",
       "if (outputEl) {{\n",
       "    x.observe(outputEl, {childList: true});\n",
       "}}\n",
       "\n",
       "                        })                };                });            </script>        </div>"
      ]
     },
     "metadata": {},
     "output_type": "display_data"
    }
   ],
   "source": [
    "box = px.box(df_fatalities, \n",
    "             y='age', \n",
    "             x='manner_of_death',\n",
    "             color='gender',\n",
    "             title='How Have the age Changed with  Manner of Death?')\n",
    " \n",
    "box.update_layout(xaxis_title='Manner of Death',\n",
    "                  yaxis_title='age',)\n",
    " \n",
    "box.show()"
   ]
  },
  {
   "cell_type": "markdown",
   "metadata": {
    "id": "h1pAgkyb3Xb0"
   },
   "source": [
    "# Were People Armed? \n",
    "\n",
    "In what percentage of police killings were people armed? Create chart that show what kind of weapon (if any) the deceased was carrying. How many of the people killed by police were armed with guns versus unarmed? "
   ]
  },
  {
   "cell_type": "code",
   "execution_count": 293,
   "metadata": {
    "id": "0d9B3Pec4TdM"
   },
   "outputs": [
    {
     "data": {
      "image/png": "[encoded data removed]",
      "text/plain": [
       "<Figure size 1600x700 with 1 Axes>"
      ]
     },
     "metadata": {},
     "output_type": "display_data"
    }
   ],
   "source": [
    "plt.figure(figsize=(16,7))\n",
    "ax=df_fatalities['armed'].value_counts().nlargest(10).plot.bar()\n",
    "\n",
    "# Add labels for percentage of total\n",
    "total = df_fatalities['armed'].value_counts().sum()\n",
    "for p in ax.patches:\n",
    "    percentage = f'{100 * p.get_height() / total:.2f}%'\n",
    "    ax.annotate(percentage, (p.get_x() + p.get_width() / 2, p.get_height()), ha='center', va='bottom')\n",
    "    \n",
    "plt.show()    "
   ]
  },
  {
   "cell_type": "markdown",
   "metadata": {
    "id": "IgD2a5-L4W_I"
   },
   "source": [
    "# How Old Were the People Killed?"
   ]
  },
  {
   "cell_type": "markdown",
   "metadata": {
    "id": "BNPrdT-W9lf3"
   },
   "source": [
    "Work out what percentage of people killed were under 25 years old.  "
   ]
  },
  {
   "cell_type": "code",
   "execution_count": 294,
   "metadata": {},
   "outputs": [
    {
     "data": {
      "text/plain": [
       "Text(0.5, 1.0, '% of poeple under 25')"
      ]
     },
     "execution_count": 294,
     "metadata": {},
     "output_type": "execute_result"
    },
    {
     "data": {
      "image/png": "[encoded data removed]",
      "text/plain": [
       "<Figure size 640x480 with 1 Axes>"
      ]
     },
     "metadata": {},
     "output_type": "display_data"
    }
   ],
   "source": [
    "df=df_fatalities\n",
    "df['is under 25']=df['age'].apply(lambda x: True if x < 25 else False)\n",
    "df['is under 25'].value_counts().plot.pie(autopct='%1.1f%%', startangle=140)\n",
    "plt.title(\"% of poeple under 25\")"
   ]
  },
  {
   "cell_type": "markdown",
   "metadata": {
    "id": "5XrAD_ey9qBB"
   },
   "source": [
    "Create a histogram and KDE plot that shows the distribution of ages of the people killed by police. "
   ]
  },
  {
   "cell_type": "code",
   "execution_count": 295,
   "metadata": {
    "id": "zSyDgzb542O9"
   },
   "outputs": [
    {
     "data": {
      "image/png": "[encoded data removed]",
      "text/plain": [
       "<Figure size 750x500 with 1 Axes>"
      ]
     },
     "metadata": {},
     "output_type": "display_data"
    }
   ],
   "source": [
    "sns.displot(df_fatalities.age, \n",
    "            bins=20, \n",
    "            aspect=1.5,\n",
    "            kde=True, \n",
    "            color='indigo')\n",
    "\n",
    "plt.title(f'How Old Were the People Killed in avg: {(round(df_fatalities.age.mean()))}')\n",
    "plt.xlabel('age')\n",
    "plt.ylabel('Nr. of people')\n",
    "\n",
    "plt.show()"
   ]
  },
  {
   "cell_type": "markdown",
   "metadata": {
    "id": "zcqqPDo79rTx"
   },
   "source": [
    "Create a seperate KDE plot for each race. Is there a difference between the distributions? "
   ]
  },
  {
   "cell_type": "code",
   "execution_count": 296,
   "metadata": {
    "id": "ubUnMjok43Zo"
   },
   "outputs": [
    {
     "data": {
      "image/png": "[encoded data removed]",
      "text/plain": [
       "<Figure size 640x480 with 1 Axes>"
      ]
     },
     "metadata": {},
     "output_type": "display_data"
    }
   ],
   "source": [
    "sns.kdeplot(data=df_fatalities, x=\"age\",hue='race',legend=True)\n",
    "\n",
    "plt.xlabel('Age')\n",
    "plt.ylabel('Density')\n",
    "plt.title('Kernel Density Estimation (KDE) Plot by Age and Race')\n",
    "\n",
    "plt.show()"
   ]
  },
  {
   "cell_type": "markdown",
   "metadata": {
    "id": "JkcHvMUt43uE"
   },
   "source": [
    "# Race of People Killed\n",
    "\n",
    "Create a chart that shows the total number of people killed by race. "
   ]
  },
  {
   "cell_type": "code",
   "execution_count": 297,
   "metadata": {
    "id": "e8wZvBrt5BEb"
   },
   "outputs": [
    {
     "data": {
      "image/png": "[encoded data removed]",
      "text/plain": [
       "<Figure size 640x480 with 1 Axes>"
      ]
     },
     "metadata": {},
     "output_type": "display_data"
    }
   ],
   "source": [
    "df_fatalities['race'].value_counts().plot.bar()\n",
    "add_label(df_fatalities['race'].value_counts())\n",
    "plt.show()"
   ]
  },
  {
   "cell_type": "markdown",
   "metadata": {
    "id": "SJaNm4rC5nWm"
   },
   "source": [
    "# Mental Illness and Police Killings\n",
    "\n",
    "What percentage of people killed by police have been diagnosed with a mental illness?"
   ]
  },
  {
   "cell_type": "code",
   "execution_count": 298,
   "metadata": {
    "id": "dbuGvCnN5ytC"
   },
   "outputs": [
    {
     "data": {
      "text/plain": [
       "<AxesSubplot:ylabel='signs_of_mental_illness'>"
      ]
     },
     "execution_count": 298,
     "metadata": {},
     "output_type": "execute_result"
    },
    {
     "data": {
      "image/png": "[encoded data removed]",
      "text/plain": [
       "<Figure size 640x480 with 1 Axes>"
      ]
     },
     "metadata": {},
     "output_type": "display_data"
    }
   ],
   "source": [
    "df_fatalities['signs_of_mental_illness'].value_counts().plot.pie(autopct='%1.1f%%')"
   ]
  },
  {
   "cell_type": "markdown",
   "metadata": {
    "id": "R0WSPeKD5Cir"
   },
   "source": [
    "# In Which Cities Do the Most Police Killings Take Place?\n",
    "\n",
    "Create a chart ranking the top 10 cities with the most police killings. Which cities are the most dangerous?  "
   ]
  },
  {
   "cell_type": "code",
   "execution_count": 299,
   "metadata": {
    "id": "NYVwo3qy5UV3"
   },
   "outputs": [
    {
     "data": {
      "image/png": "[encoded data removed]",
      "text/plain": [
       "<Figure size 640x480 with 1 Axes>"
      ]
     },
     "metadata": {},
     "output_type": "display_data"
    }
   ],
   "source": [
    "df_fatalities['city'].value_counts().nlargest(10).plot.bar()\n",
    "add_label(df_fatalities['city'].value_counts().nlargest(10))"
   ]
  },
  {
   "cell_type": "markdown",
   "metadata": {
    "id": "1HUJksrI5WFb"
   },
   "source": [
    "# Create a Choropleth Map of Police Killings by US State\n",
    "\n",
    "Which states are the most dangerous? Compare your map with your previous chart. Are these the same states with high degrees of poverty? "
   ]
  },
  {
   "cell_type": "code",
   "execution_count": 327,
   "metadata": {
    "scrolled": true
   },
   "outputs": [],
   "source": [
    "Killings_by_State=df_fatalities.groupby('state',as_index=False).agg({'flee':pd.Series.count})\n"
   ]
  },
  {
   "cell_type": "code",
   "execution_count": 328,
   "metadata": {
    "id": "u3UuX4Yo5dBA",
    "scrolled": false
   },
   "outputs": [
    {
     "data": {
      "application/vnd.plotly.v1+json": {
       "config": {
        "plotlyServerURL": "https://plot.ly"
       },
       "data": [
        {
         "coloraxis": "coloraxis",
         "geo": "geo",
         "hovertemplate": "<b>%{hovertext}</b><br><br>state=%{location}<br>flee=%{z}<extra></extra>",
         "hovertext": [
          "AK",
          "AL",
          "AR",
          "AZ",
          "CA",
          "CO",
          "CT",
          "DC",
          "DE",
          "FL",
          "GA",
          "HI",
          "IA",
          "ID",
          "IL",
          "IN",
          "KS",
          "KY",
          "LA",
          "MA",
          "MD",
          "ME",
          "MI",
          "MN",
          "MO",
          "MS",
          "MT",
          "NC",
          "ND",
          "NE",
          "NH",
          "NJ",
          "NM",
          "NV",
          "NY",
          "OH",
          "OK",
          "OR",
          "PA",
          "RI",
          "SC",
          "SD",
          "TN",
          "TX",
          "UT",
          "VA",
          "VT",
          "WA",
          "WI",
          "WV",
          "WY"
         ],
         "locationmode": "USA-states",
         "locations": [
          "AK",
          "AL",
          "AR",
          "AZ",
          "CA",
          "CO",
          "CT",
          "DC",
          "DE",
          "FL",
          "GA",
          "HI",
          "IA",
          "ID",
          "IL",
          "IN",
          "KS",
          "KY",
          "LA",
          "MA",
          "MD",
          "ME",
          "MI",
          "MN",
          "MO",
          "MS",
          "MT",
          "NC",
          "ND",
          "NE",
          "NH",
          "NJ",
          "NM",
          "NV",
          "NY",
          "OH",
          "OK",
          "OR",
          "PA",
          "RI",
          "SC",
          "SD",
          "TN",
          "TX",
          "UT",
          "VA",
          "VT",
          "WA",
          "WI",
          "WV",
          "WY"
         ],
         "name": "",
         "type": "choropleth",
         "z": [
          15,
          49,
          23,
          115,
          417,
          71,
          8,
          11,
          8,
          149,
          69,
          11,
          12,
          17,
          60,
          42,
          24,
          42,
          53,
          22,
          38,
          10,
          37,
          32,
          63,
          23,
          11,
          68,
          4,
          14,
          7,
          34,
          49,
          40,
          45,
          77,
          76,
          36,
          49,
          2,
          43,
          10,
          59,
          218,
          23,
          46,
          3,
          60,
          42,
          26,
          7
         ]
        }
       ],
       "layout": {
        "coloraxis": {
         "cmax": 424,
         "cmin": 2,
         "colorbar": {
          "title": {
           "text": "flee"
          }
         },
         "colorscale": [
          [
           0,
           "rgb(253, 237, 176)"
          ],
          [
           0.09090909090909091,
           "rgb(250, 205, 145)"
          ],
          [
           0.18181818181818182,
           "rgb(246, 173, 119)"
          ],
          [
           0.2727272727272727,
           "rgb(240, 142, 98)"
          ],
          [
           0.36363636363636365,
           "rgb(231, 109, 84)"
          ],
          [
           0.45454545454545453,
           "rgb(216, 80, 83)"
          ],
          [
           0.5454545454545454,
           "rgb(195, 56, 90)"
          ],
          [
           0.6363636363636364,
           "rgb(168, 40, 96)"
          ],
          [
           0.7272727272727273,
           "rgb(138, 29, 99)"
          ],
          [
           0.8181818181818182,
           "rgb(107, 24, 93)"
          ],
          [
           0.9090909090909091,
           "rgb(76, 21, 80)"
          ],
          [
           1,
           "rgb(47, 15, 61)"
          ]
         ]
        },
        "geo": {
         "center": {},
         "domain": {
          "x": [
           0,
           1
          ],
          "y": [
           0,
           1
          ]
         },
         "scope": "usa"
        },
        "legend": {
         "tracegroupgap": 0
        },
        "margin": {
         "t": 60
        },
        "template": {
         "data": {
          "bar": [
           {
            "error_x": {
             "color": "#2a3f5f"
            },
            "error_y": {
             "color": "#2a3f5f"
            },
            "marker": {
             "line": {
              "color": "#E5ECF6",
              "width": 0.5
             },
             "pattern": {
              "fillmode": "overlay",
              "size": 10,
              "solidity": 0.2
             }
            },
            "type": "bar"
           }
          ],
          "barpolar": [
           {
            "marker": {
             "line": {
              "color": "#E5ECF6",
              "width": 0.5
             },
             "pattern": {
              "fillmode": "overlay",
              "size": 10,
              "solidity": 0.2
             }
            },
            "type": "barpolar"
           }
          ],
          "carpet": [
           {
            "aaxis": {
             "endlinecolor": "#2a3f5f",
             "gridcolor": "white",
             "linecolor": "white",
             "minorgridcolor": "white",
             "startlinecolor": "#2a3f5f"
            },
            "baxis": {
             "endlinecolor": "#2a3f5f",
             "gridcolor": "white",
             "linecolor": "white",
             "minorgridcolor": "white",
             "startlinecolor": "#2a3f5f"
            },
            "type": "carpet"
           }
          ],
          "choropleth": [
           {
            "colorbar": {
             "outlinewidth": 0,
             "ticks": ""
            },
            "type": "choropleth"
           }
          ],
          "contour": [
           {
            "colorbar": {
             "outlinewidth": 0,
             "ticks": ""
            },
            "colorscale": [
             [
              0,
              "#0d0887"
             ],
             [
              0.1111111111111111,
              "#46039f"
             ],
             [
              0.2222222222222222,
              "#7201a8"
             ],
             [
              0.3333333333333333,
              "#9c179e"
             ],
             [
              0.4444444444444444,
              "#bd3786"
             ],
             [
              0.5555555555555556,
              "#d8576b"
             ],
             [
              0.6666666666666666,
              "#ed7953"
             ],
             [
              0.7777777777777778,
              "#fb9f3a"
             ],
             [
              0.8888888888888888,
              "#fdca26"
             ],
             [
              1,
              "#f0f921"
             ]
            ],
            "type": "contour"
           }
          ],
          "contourcarpet": [
           {
            "colorbar": {
             "outlinewidth": 0,
             "ticks": ""
            },
            "type": "contourcarpet"
           }
          ],
          "heatmap": [
           {
            "colorbar": {
             "outlinewidth": 0,
             "ticks": ""
            },
            "colorscale": [
             [
              0,
              "#0d0887"
             ],
             [
              0.1111111111111111,
              "#46039f"
             ],
             [
              0.2222222222222222,
              "#7201a8"
             ],
             [
              0.3333333333333333,
              "#9c179e"
             ],
             [
              0.4444444444444444,
              "#bd3786"
             ],
             [
              0.5555555555555556,
              "#d8576b"
             ],
             [
              0.6666666666666666,
              "#ed7953"
             ],
             [
              0.7777777777777778,
              "#fb9f3a"
             ],
             [
              0.8888888888888888,
              "#fdca26"
             ],
             [
              1,
              "#f0f921"
             ]
            ],
            "type": "heatmap"
           }
          ],
          "heatmapgl": [
           {
            "colorbar": {
             "outlinewidth": 0,
             "ticks": ""
            },
            "colorscale": [
             [
              0,
              "#0d0887"
             ],
             [
              0.1111111111111111,
              "#46039f"
             ],
             [
              0.2222222222222222,
              "#7201a8"
             ],
             [
              0.3333333333333333,
              "#9c179e"
             ],
             [
              0.4444444444444444,
              "#bd3786"
             ],
             [
              0.5555555555555556,
              "#d8576b"
             ],
             [
              0.6666666666666666,
              "#ed7953"
             ],
             [
              0.7777777777777778,
              "#fb9f3a"
             ],
             [
              0.8888888888888888,
              "#fdca26"
             ],
             [
              1,
              "#f0f921"
             ]
            ],
            "type": "heatmapgl"
           }
          ],
          "histogram": [
           {
            "marker": {
             "pattern": {
              "fillmode": "overlay",
              "size": 10,
              "solidity": 0.2
             }
            },
            "type": "histogram"
           }
          ],
          "histogram2d": [
           {
            "colorbar": {
             "outlinewidth": 0,
             "ticks": ""
            },
            "colorscale": [
             [
              0,
              "#0d0887"
             ],
             [
              0.1111111111111111,
              "#46039f"
             ],
             [
              0.2222222222222222,
              "#7201a8"
             ],
             [
              0.3333333333333333,
              "#9c179e"
             ],
             [
              0.4444444444444444,
              "#bd3786"
             ],
             [
              0.5555555555555556,
              "#d8576b"
             ],
             [
              0.6666666666666666,
              "#ed7953"
             ],
             [
              0.7777777777777778,
              "#fb9f3a"
             ],
             [
              0.8888888888888888,
              "#fdca26"
             ],
             [
              1,
              "#f0f921"
             ]
            ],
            "type": "histogram2d"
           }
          ],
          "histogram2dcontour": [
           {
            "colorbar": {
             "outlinewidth": 0,
             "ticks": ""
            },
            "colorscale": [
             [
              0,
              "#0d0887"
             ],
             [
              0.1111111111111111,
              "#46039f"
             ],
             [
              0.2222222222222222,
              "#7201a8"
             ],
             [
              0.3333333333333333,
              "#9c179e"
             ],
             [
              0.4444444444444444,
              "#bd3786"
             ],
             [
              0.5555555555555556,
              "#d8576b"
             ],
             [
              0.6666666666666666,
              "#ed7953"
             ],
             [
              0.7777777777777778,
              "#fb9f3a"
             ],
             [
              0.8888888888888888,
              "#fdca26"
             ],
             [
              1,
              "#f0f921"
             ]
            ],
            "type": "histogram2dcontour"
           }
          ],
          "mesh3d": [
           {
            "colorbar": {
             "outlinewidth": 0,
             "ticks": ""
            },
            "type": "mesh3d"
           }
          ],
          "parcoords": [
           {
            "line": {
             "colorbar": {
              "outlinewidth": 0,
              "ticks": ""
             }
            },
            "type": "parcoords"
           }
          ],
          "pie": [
           {
            "automargin": true,
            "type": "pie"
           }
          ],
          "scatter": [
           {
            "fillpattern": {
             "fillmode": "overlay",
             "size": 10,
             "solidity": 0.2
            },
            "type": "scatter"
           }
          ],
          "scatter3d": [
           {
            "line": {
             "colorbar": {
              "outlinewidth": 0,
              "ticks": ""
             }
            },
            "marker": {
             "colorbar": {
              "outlinewidth": 0,
              "ticks": ""
             }
            },
            "type": "scatter3d"
           }
          ],
          "scattercarpet": [
           {
            "marker": {
             "colorbar": {
              "outlinewidth": 0,
              "ticks": ""
             }
            },
            "type": "scattercarpet"
           }
          ],
          "scattergeo": [
           {
            "marker": {
             "colorbar": {
              "outlinewidth": 0,
              "ticks": ""
             }
            },
            "type": "scattergeo"
           }
          ],
          "scattergl": [
           {
            "marker": {
             "colorbar": {
              "outlinewidth": 0,
              "ticks": ""
             }
            },
            "type": "scattergl"
           }
          ],
          "scattermapbox": [
           {
            "marker": {
             "colorbar": {
              "outlinewidth": 0,
              "ticks": ""
             }
            },
            "type": "scattermapbox"
           }
          ],
          "scatterpolar": [
           {
            "marker": {
             "colorbar": {
              "outlinewidth": 0,
              "ticks": ""
             }
            },
            "type": "scatterpolar"
           }
          ],
          "scatterpolargl": [
           {
            "marker": {
             "colorbar": {
              "outlinewidth": 0,
              "ticks": ""
             }
            },
            "type": "scatterpolargl"
           }
          ],
          "scatterternary": [
           {
            "marker": {
             "colorbar": {
              "outlinewidth": 0,
              "ticks": ""
             }
            },
            "type": "scatterternary"
           }
          ],
          "surface": [
           {
            "colorbar": {
             "outlinewidth": 0,
             "ticks": ""
            },
            "colorscale": [
             [
              0,
              "#0d0887"
             ],
             [
              0.1111111111111111,
              "#46039f"
             ],
             [
              0.2222222222222222,
              "#7201a8"
             ],
             [
              0.3333333333333333,
              "#9c179e"
             ],
             [
              0.4444444444444444,
              "#bd3786"
             ],
             [
              0.5555555555555556,
              "#d8576b"
             ],
             [
              0.6666666666666666,
              "#ed7953"
             ],
             [
              0.7777777777777778,
              "#fb9f3a"
             ],
             [
              0.8888888888888888,
              "#fdca26"
             ],
             [
              1,
              "#f0f921"
             ]
            ],
            "type": "surface"
           }
          ],
          "table": [
           {
            "cells": {
             "fill": {
              "color": "#EBF0F8"
             },
             "line": {
              "color": "white"
             }
            },
            "header": {
             "fill": {
              "color": "#C8D4E3"
             },
             "line": {
              "color": "white"
             }
            },
            "type": "table"
           }
          ]
         },
         "layout": {
          "annotationdefaults": {
           "arrowcolor": "#2a3f5f",
           "arrowhead": 0,
           "arrowwidth": 1
          },
          "autotypenumbers": "strict",
          "coloraxis": {
           "colorbar": {
            "outlinewidth": 0,
            "ticks": ""
           }
          },
          "colorscale": {
           "diverging": [
            [
             0,
             "#8e0152"
            ],
            [
             0.1,
             "#c51b7d"
            ],
            [
             0.2,
             "#de77ae"
            ],
            [
             0.3,
             "#f1b6da"
            ],
            [
             0.4,
             "#fde0ef"
            ],
            [
             0.5,
             "#f7f7f7"
            ],
            [
             0.6,
             "#e6f5d0"
            ],
            [
             0.7,
             "#b8e186"
            ],
            [
             0.8,
             "#7fbc41"
            ],
            [
             0.9,
             "#4d9221"
            ],
            [
             1,
             "#276419"
            ]
           ],
           "sequential": [
            [
             0,
             "#0d0887"
            ],
            [
             0.1111111111111111,
             "#46039f"
            ],
            [
             0.2222222222222222,
             "#7201a8"
            ],
            [
             0.3333333333333333,
             "#9c179e"
            ],
            [
             0.4444444444444444,
             "#bd3786"
            ],
            [
             0.5555555555555556,
             "#d8576b"
            ],
            [
             0.6666666666666666,
             "#ed7953"
            ],
            [
             0.7777777777777778,
             "#fb9f3a"
            ],
            [
             0.8888888888888888,
             "#fdca26"
            ],
            [
             1,
             "#f0f921"
            ]
           ],
           "sequentialminus": [
            [
             0,
             "#0d0887"
            ],
            [
             0.1111111111111111,
             "#46039f"
            ],
            [
             0.2222222222222222,
             "#7201a8"
            ],
            [
             0.3333333333333333,
             "#9c179e"
            ],
            [
             0.4444444444444444,
             "#bd3786"
            ],
            [
             0.5555555555555556,
             "#d8576b"
            ],
            [
             0.6666666666666666,
             "#ed7953"
            ],
            [
             0.7777777777777778,
             "#fb9f3a"
            ],
            [
             0.8888888888888888,
             "#fdca26"
            ],
            [
             1,
             "#f0f921"
            ]
           ]
          },
          "colorway": [
           "#636efa",
           "#EF553B",
           "#00cc96",
           "#ab63fa",
           "#FFA15A",
           "#19d3f3",
           "#FF6692",
           "#B6E880",
           "#FF97FF",
           "#FECB52"
          ],
          "font": {
           "color": "#2a3f5f"
          },
          "geo": {
           "bgcolor": "white",
           "lakecolor": "white",
           "landcolor": "#E5ECF6",
           "showlakes": true,
           "showland": true,
           "subunitcolor": "white"
          },
          "hoverlabel": {
           "align": "left"
          },
          "hovermode": "closest",
          "mapbox": {
           "style": "light"
          },
          "paper_bgcolor": "white",
          "plot_bgcolor": "#E5ECF6",
          "polar": {
           "angularaxis": {
            "gridcolor": "white",
            "linecolor": "white",
            "ticks": ""
           },
           "bgcolor": "#E5ECF6",
           "radialaxis": {
            "gridcolor": "white",
            "linecolor": "white",
            "ticks": ""
           }
          },
          "scene": {
           "xaxis": {
            "backgroundcolor": "#E5ECF6",
            "gridcolor": "white",
            "gridwidth": 2,
            "linecolor": "white",
            "showbackground": true,
            "ticks": "",
            "zerolinecolor": "white"
           },
           "yaxis": {
            "backgroundcolor": "#E5ECF6",
            "gridcolor": "white",
            "gridwidth": 2,
            "linecolor": "white",
            "showbackground": true,
            "ticks": "",
            "zerolinecolor": "white"
           },
           "zaxis": {
            "backgroundcolor": "#E5ECF6",
            "gridcolor": "white",
            "gridwidth": 2,
            "linecolor": "white",
            "showbackground": true,
            "ticks": "",
            "zerolinecolor": "white"
           }
          },
          "shapedefaults": {
           "line": {
            "color": "#2a3f5f"
           }
          },
          "ternary": {
           "aaxis": {
            "gridcolor": "white",
            "linecolor": "white",
            "ticks": ""
           },
           "baxis": {
            "gridcolor": "white",
            "linecolor": "white",
            "ticks": ""
           },
           "bgcolor": "#E5ECF6",
           "caxis": {
            "gridcolor": "white",
            "linecolor": "white",
            "ticks": ""
           }
          },
          "title": {
           "x": 0.05
          },
          "xaxis": {
           "automargin": true,
           "gridcolor": "white",
           "linecolor": "white",
           "ticks": "",
           "title": {
            "standoff": 15
           },
           "zerolinecolor": "white",
           "zerolinewidth": 2
          },
          "yaxis": {
           "automargin": true,
           "gridcolor": "white",
           "linecolor": "white",
           "ticks": "",
           "title": {
            "standoff": 15
           },
           "zerolinecolor": "white",
           "zerolinewidth": 2
          }
         }
        }
       }
      },
      "text/html": [
       "<div>                            <div id=\"42f302f4-fd40-4579-9514-620d83124cba\" class=\"plotly-graph-div\" style=\"height:525px; width:100%;\"></div>            <script type=\"text/javascript\">                require([\"plotly\"], function(Plotly) {                    window.PLOTLYENV=window.PLOTLYENV || {};                                    if (document.getElementById(\"42f302f4-fd40-4579-9514-620d83124cba\")) {                    Plotly.newPlot(                        \"42f302f4-fd40-4579-9514-620d83124cba\",                        [{\"coloraxis\":\"coloraxis\",\"geo\":\"geo\",\"hovertemplate\":\"\\u003cb\\u003e%{hovertext}\\u003c\\u002fb\\u003e\\u003cbr\\u003e\\u003cbr\\u003estate=%{location}\\u003cbr\\u003eflee=%{z}\\u003cextra\\u003e\\u003c\\u002fextra\\u003e\",\"hovertext\":[\"AK\",\"AL\",\"AR\",\"AZ\",\"CA\",\"CO\",\"CT\",\"DC\",\"DE\",\"FL\",\"GA\",\"HI\",\"IA\",\"ID\",\"IL\",\"IN\",\"KS\",\"KY\",\"LA\",\"MA\",\"MD\",\"ME\",\"MI\",\"MN\",\"MO\",\"MS\",\"MT\",\"NC\",\"ND\",\"NE\",\"NH\",\"NJ\",\"NM\",\"NV\",\"NY\",\"OH\",\"OK\",\"OR\",\"PA\",\"RI\",\"SC\",\"SD\",\"TN\",\"TX\",\"UT\",\"VA\",\"VT\",\"WA\",\"WI\",\"WV\",\"WY\"],\"locationmode\":\"USA-states\",\"locations\":[\"AK\",\"AL\",\"AR\",\"AZ\",\"CA\",\"CO\",\"CT\",\"DC\",\"DE\",\"FL\",\"GA\",\"HI\",\"IA\",\"ID\",\"IL\",\"IN\",\"KS\",\"KY\",\"LA\",\"MA\",\"MD\",\"ME\",\"MI\",\"MN\",\"MO\",\"MS\",\"MT\",\"NC\",\"ND\",\"NE\",\"NH\",\"NJ\",\"NM\",\"NV\",\"NY\",\"OH\",\"OK\",\"OR\",\"PA\",\"RI\",\"SC\",\"SD\",\"TN\",\"TX\",\"UT\",\"VA\",\"VT\",\"WA\",\"WI\",\"WV\",\"WY\"],\"name\":\"\",\"z\":[15,49,23,115,417,71,8,11,8,149,69,11,12,17,60,42,24,42,53,22,38,10,37,32,63,23,11,68,4,14,7,34,49,40,45,77,76,36,49,2,43,10,59,218,23,46,3,60,42,26,7],\"type\":\"choropleth\"}],                        {\"template\":{\"data\":{\"histogram2dcontour\":[{\"type\":\"histogram2dcontour\",\"colorbar\":{\"outlinewidth\":0,\"ticks\":\"\"},\"colorscale\":[[0.0,\"#0d0887\"],[0.1111111111111111,\"#46039f\"],[0.2222222222222222,\"#7201a8\"],[0.3333333333333333,\"#9c179e\"],[0.4444444444444444,\"#bd3786\"],[0.5555555555555556,\"#d8576b\"],[0.6666666666666666,\"#ed7953\"],[0.7777777777777778,\"#fb9f3a\"],[0.8888888888888888,\"#fdca26\"],[1.0,\"#f0f921\"]]}],\"choropleth\":[{\"type\":\"choropleth\",\"colorbar\":{\"outlinewidth\":0,\"ticks\":\"\"}}],\"histogram2d\":[{\"type\":\"histogram2d\",\"colorbar\":{\"outlinewidth\":0,\"ticks\":\"\"},\"colorscale\":[[0.0,\"#0d0887\"],[0.1111111111111111,\"#46039f\"],[0.2222222222222222,\"#7201a8\"],[0.3333333333333333,\"#9c179e\"],[0.4444444444444444,\"#bd3786\"],[0.5555555555555556,\"#d8576b\"],[0.6666666666666666,\"#ed7953\"],[0.7777777777777778,\"#fb9f3a\"],[0.8888888888888888,\"#fdca26\"],[1.0,\"#f0f921\"]]}],\"heatmap\":[{\"type\":\"heatmap\",\"colorbar\":{\"outlinewidth\":0,\"ticks\":\"\"},\"colorscale\":[[0.0,\"#0d0887\"],[0.1111111111111111,\"#46039f\"],[0.2222222222222222,\"#7201a8\"],[0.3333333333333333,\"#9c179e\"],[0.4444444444444444,\"#bd3786\"],[0.5555555555555556,\"#d8576b\"],[0.6666666666666666,\"#ed7953\"],[0.7777777777777778,\"#fb9f3a\"],[0.8888888888888888,\"#fdca26\"],[1.0,\"#f0f921\"]]}],\"heatmapgl\":[{\"type\":\"heatmapgl\",\"colorbar\":{\"outlinewidth\":0,\"ticks\":\"\"},\"colorscale\":[[0.0,\"#0d0887\"],[0.1111111111111111,\"#46039f\"],[0.2222222222222222,\"#7201a8\"],[0.3333333333333333,\"#9c179e\"],[0.4444444444444444,\"#bd3786\"],[0.5555555555555556,\"#d8576b\"],[0.6666666666666666,\"#ed7953\"],[0.7777777777777778,\"#fb9f3a\"],[0.8888888888888888,\"#fdca26\"],[1.0,\"#f0f921\"]]}],\"contourcarpet\":[{\"type\":\"contourcarpet\",\"colorbar\":{\"outlinewidth\":0,\"ticks\":\"\"}}],\"contour\":[{\"type\":\"contour\",\"colorbar\":{\"outlinewidth\":0,\"ticks\":\"\"},\"colorscale\":[[0.0,\"#0d0887\"],[0.1111111111111111,\"#46039f\"],[0.2222222222222222,\"#7201a8\"],[0.3333333333333333,\"#9c179e\"],[0.4444444444444444,\"#bd3786\"],[0.5555555555555556,\"#d8576b\"],[0.6666666666666666,\"#ed7953\"],[0.7777777777777778,\"#fb9f3a\"],[0.8888888888888888,\"#fdca26\"],[1.0,\"#f0f921\"]]}],\"surface\":[{\"type\":\"surface\",\"colorbar\":{\"outlinewidth\":0,\"ticks\":\"\"},\"colorscale\":[[0.0,\"#0d0887\"],[0.1111111111111111,\"#46039f\"],[0.2222222222222222,\"#7201a8\"],[0.3333333333333333,\"#9c179e\"],[0.4444444444444444,\"#bd3786\"],[0.5555555555555556,\"#d8576b\"],[0.6666666666666666,\"#ed7953\"],[0.7777777777777778,\"#fb9f3a\"],[0.8888888888888888,\"#fdca26\"],[1.0,\"#f0f921\"]]}],\"mesh3d\":[{\"type\":\"mesh3d\",\"colorbar\":{\"outlinewidth\":0,\"ticks\":\"\"}}],\"scatter\":[{\"fillpattern\":{\"fillmode\":\"overlay\",\"size\":10,\"solidity\":0.2},\"type\":\"scatter\"}],\"parcoords\":[{\"type\":\"parcoords\",\"line\":{\"colorbar\":{\"outlinewidth\":0,\"ticks\":\"\"}}}],\"scatterpolargl\":[{\"type\":\"scatterpolargl\",\"marker\":{\"colorbar\":{\"outlinewidth\":0,\"ticks\":\"\"}}}],\"bar\":[{\"error_x\":{\"color\":\"#2a3f5f\"},\"error_y\":{\"color\":\"#2a3f5f\"},\"marker\":{\"line\":{\"color\":\"#E5ECF6\",\"width\":0.5},\"pattern\":{\"fillmode\":\"overlay\",\"size\":10,\"solidity\":0.2}},\"type\":\"bar\"}],\"scattergeo\":[{\"type\":\"scattergeo\",\"marker\":{\"colorbar\":{\"outlinewidth\":0,\"ticks\":\"\"}}}],\"scatterpolar\":[{\"type\":\"scatterpolar\",\"marker\":{\"colorbar\":{\"outlinewidth\":0,\"ticks\":\"\"}}}],\"histogram\":[{\"marker\":{\"pattern\":{\"fillmode\":\"overlay\",\"size\":10,\"solidity\":0.2}},\"type\":\"histogram\"}],\"scattergl\":[{\"type\":\"scattergl\",\"marker\":{\"colorbar\":{\"outlinewidth\":0,\"ticks\":\"\"}}}],\"scatter3d\":[{\"type\":\"scatter3d\",\"line\":{\"colorbar\":{\"outlinewidth\":0,\"ticks\":\"\"}},\"marker\":{\"colorbar\":{\"outlinewidth\":0,\"ticks\":\"\"}}}],\"scattermapbox\":[{\"type\":\"scattermapbox\",\"marker\":{\"colorbar\":{\"outlinewidth\":0,\"ticks\":\"\"}}}],\"scatterternary\":[{\"type\":\"scatterternary\",\"marker\":{\"colorbar\":{\"outlinewidth\":0,\"ticks\":\"\"}}}],\"scattercarpet\":[{\"type\":\"scattercarpet\",\"marker\":{\"colorbar\":{\"outlinewidth\":0,\"ticks\":\"\"}}}],\"carpet\":[{\"aaxis\":{\"endlinecolor\":\"#2a3f5f\",\"gridcolor\":\"white\",\"linecolor\":\"white\",\"minorgridcolor\":\"white\",\"startlinecolor\":\"#2a3f5f\"},\"baxis\":{\"endlinecolor\":\"#2a3f5f\",\"gridcolor\":\"white\",\"linecolor\":\"white\",\"minorgridcolor\":\"white\",\"startlinecolor\":\"#2a3f5f\"},\"type\":\"carpet\"}],\"table\":[{\"cells\":{\"fill\":{\"color\":\"#EBF0F8\"},\"line\":{\"color\":\"white\"}},\"header\":{\"fill\":{\"color\":\"#C8D4E3\"},\"line\":{\"color\":\"white\"}},\"type\":\"table\"}],\"barpolar\":[{\"marker\":{\"line\":{\"color\":\"#E5ECF6\",\"width\":0.5},\"pattern\":{\"fillmode\":\"overlay\",\"size\":10,\"solidity\":0.2}},\"type\":\"barpolar\"}],\"pie\":[{\"automargin\":true,\"type\":\"pie\"}]},\"layout\":{\"autotypenumbers\":\"strict\",\"colorway\":[\"#636efa\",\"#EF553B\",\"#00cc96\",\"#ab63fa\",\"#FFA15A\",\"#19d3f3\",\"#FF6692\",\"#B6E880\",\"#FF97FF\",\"#FECB52\"],\"font\":{\"color\":\"#2a3f5f\"},\"hovermode\":\"closest\",\"hoverlabel\":{\"align\":\"left\"},\"paper_bgcolor\":\"white\",\"plot_bgcolor\":\"#E5ECF6\",\"polar\":{\"bgcolor\":\"#E5ECF6\",\"angularaxis\":{\"gridcolor\":\"white\",\"linecolor\":\"white\",\"ticks\":\"\"},\"radialaxis\":{\"gridcolor\":\"white\",\"linecolor\":\"white\",\"ticks\":\"\"}},\"ternary\":{\"bgcolor\":\"#E5ECF6\",\"aaxis\":{\"gridcolor\":\"white\",\"linecolor\":\"white\",\"ticks\":\"\"},\"baxis\":{\"gridcolor\":\"white\",\"linecolor\":\"white\",\"ticks\":\"\"},\"caxis\":{\"gridcolor\":\"white\",\"linecolor\":\"white\",\"ticks\":\"\"}},\"coloraxis\":{\"colorbar\":{\"outlinewidth\":0,\"ticks\":\"\"}},\"colorscale\":{\"sequential\":[[0.0,\"#0d0887\"],[0.1111111111111111,\"#46039f\"],[0.2222222222222222,\"#7201a8\"],[0.3333333333333333,\"#9c179e\"],[0.4444444444444444,\"#bd3786\"],[0.5555555555555556,\"#d8576b\"],[0.6666666666666666,\"#ed7953\"],[0.7777777777777778,\"#fb9f3a\"],[0.8888888888888888,\"#fdca26\"],[1.0,\"#f0f921\"]],\"sequentialminus\":[[0.0,\"#0d0887\"],[0.1111111111111111,\"#46039f\"],[0.2222222222222222,\"#7201a8\"],[0.3333333333333333,\"#9c179e\"],[0.4444444444444444,\"#bd3786\"],[0.5555555555555556,\"#d8576b\"],[0.6666666666666666,\"#ed7953\"],[0.7777777777777778,\"#fb9f3a\"],[0.8888888888888888,\"#fdca26\"],[1.0,\"#f0f921\"]],\"diverging\":[[0,\"#8e0152\"],[0.1,\"#c51b7d\"],[0.2,\"#de77ae\"],[0.3,\"#f1b6da\"],[0.4,\"#fde0ef\"],[0.5,\"#f7f7f7\"],[0.6,\"#e6f5d0\"],[0.7,\"#b8e186\"],[0.8,\"#7fbc41\"],[0.9,\"#4d9221\"],[1,\"#276419\"]]},\"xaxis\":{\"gridcolor\":\"white\",\"linecolor\":\"white\",\"ticks\":\"\",\"title\":{\"standoff\":15},\"zerolinecolor\":\"white\",\"automargin\":true,\"zerolinewidth\":2},\"yaxis\":{\"gridcolor\":\"white\",\"linecolor\":\"white\",\"ticks\":\"\",\"title\":{\"standoff\":15},\"zerolinecolor\":\"white\",\"automargin\":true,\"zerolinewidth\":2},\"scene\":{\"xaxis\":{\"backgroundcolor\":\"#E5ECF6\",\"gridcolor\":\"white\",\"linecolor\":\"white\",\"showbackground\":true,\"ticks\":\"\",\"zerolinecolor\":\"white\",\"gridwidth\":2},\"yaxis\":{\"backgroundcolor\":\"#E5ECF6\",\"gridcolor\":\"white\",\"linecolor\":\"white\",\"showbackground\":true,\"ticks\":\"\",\"zerolinecolor\":\"white\",\"gridwidth\":2},\"zaxis\":{\"backgroundcolor\":\"#E5ECF6\",\"gridcolor\":\"white\",\"linecolor\":\"white\",\"showbackground\":true,\"ticks\":\"\",\"zerolinecolor\":\"white\",\"gridwidth\":2}},\"shapedefaults\":{\"line\":{\"color\":\"#2a3f5f\"}},\"annotationdefaults\":{\"arrowcolor\":\"#2a3f5f\",\"arrowhead\":0,\"arrowwidth\":1},\"geo\":{\"bgcolor\":\"white\",\"landcolor\":\"#E5ECF6\",\"subunitcolor\":\"white\",\"showland\":true,\"showlakes\":true,\"lakecolor\":\"white\"},\"title\":{\"x\":0.05},\"mapbox\":{\"style\":\"light\"}}},\"geo\":{\"domain\":{\"x\":[0.0,1.0],\"y\":[0.0,1.0]},\"center\":{},\"scope\":\"usa\"},\"coloraxis\":{\"colorbar\":{\"title\":{\"text\":\"flee\"}},\"colorscale\":[[0.0,\"rgb(253, 237, 176)\"],[0.09090909090909091,\"rgb(250, 205, 145)\"],[0.18181818181818182,\"rgb(246, 173, 119)\"],[0.2727272727272727,\"rgb(240, 142, 98)\"],[0.36363636363636365,\"rgb(231, 109, 84)\"],[0.45454545454545453,\"rgb(216, 80, 83)\"],[0.5454545454545454,\"rgb(195, 56, 90)\"],[0.6363636363636364,\"rgb(168, 40, 96)\"],[0.7272727272727273,\"rgb(138, 29, 99)\"],[0.8181818181818182,\"rgb(107, 24, 93)\"],[0.9090909090909091,\"rgb(76, 21, 80)\"],[1.0,\"rgb(47, 15, 61)\"]],\"cmin\":2,\"cmax\":424},\"legend\":{\"tracegroupgap\":0},\"margin\":{\"t\":60}},                        {\"responsive\": true}                    ).then(function(){\n",
       "                            \n",
       "var gd = document.getElementById('42f302f4-fd40-4579-9514-620d83124cba');\n",
       "var x = new MutationObserver(function (mutations, observer) {{\n",
       "        var display = window.getComputedStyle(gd).display;\n",
       "        if (!display || display === 'none') {{\n",
       "            console.log([gd, 'removed!']);\n",
       "            Plotly.purge(gd);\n",
       "            observer.disconnect();\n",
       "        }}\n",
       "}});\n",
       "\n",
       "// Listen for the removal of the full notebook cells\n",
       "var notebookContainer = gd.closest('#notebook-container');\n",
       "if (notebookContainer) {{\n",
       "    x.observe(notebookContainer, {childList: true});\n",
       "}}\n",
       "\n",
       "// Listen for the clearing of the current output cell\n",
       "var outputEl = gd.closest('.output');\n",
       "if (outputEl) {{\n",
       "    x.observe(outputEl, {childList: true});\n",
       "}}\n",
       "\n",
       "                        })                };                });            </script>        </div>"
      ]
     },
     "metadata": {},
     "output_type": "display_data"
    }
   ],
   "source": [
    "fig = px.choropleth(Killings_by_State, \n",
    "                    locations='state',\n",
    "                     locationmode=\"USA-states\",\n",
    "                     scope=\"usa\",\n",
    "                    color='flee',\n",
    "                    color_continuous_scale=px.colors.sequential.matter,\n",
    "                    range_color=(min(df_fatalities.state.value_counts()), max(df_fatalities.state.value_counts())),\n",
    "                    hover_name='state'\n",
    "                        )\n",
    "\n",
    "fig.show()"
   ]
  },
  {
   "cell_type": "markdown",
   "metadata": {
    "id": "37UsmVYF6hA2"
   },
   "source": [
    "# Number of Police Killings Over Time\n",
    "\n",
    "Analyse the Number of Police Killings over Time. Is there a trend in the data? "
   ]
  },
  {
   "cell_type": "code",
   "execution_count": 302,
   "metadata": {},
   "outputs": [],
   "source": [
    "df_fatalities['date']=pd.to_datetime(df_fatalities['date']).dt.strftime('%Y-%B')\n",
    "df=df_fatalities.groupby(['date'],as_index=False).agg({'flee':pd.Series.count})\n"
   ]
  },
  {
   "cell_type": "code",
   "execution_count": 329,
   "metadata": {
    "id": "nITf1IhP6gpI"
   },
   "outputs": [
    {
     "data": {
      "application/vnd.plotly.v1+json": {
       "config": {
        "plotlyServerURL": "https://plot.ly"
       },
       "data": [
        {
         "hovertemplate": "date=%{x}<br>flee=%{y}<extra></extra>",
         "legendgroup": "",
         "line": {
          "color": "#636efa",
          "dash": "solid"
         },
         "marker": {
          "symbol": "circle"
         },
         "mode": "lines",
         "name": "",
         "orientation": "v",
         "showlegend": false,
         "type": "scatter",
         "x": [
          "2015-April",
          "2015-August",
          "2015-December",
          "2015-February",
          "2015-January",
          "2015-July",
          "2015-June",
          "2015-March",
          "2015-May",
          "2015-November",
          "2015-October",
          "2015-September",
          "2016-April",
          "2016-August",
          "2016-December",
          "2016-February",
          "2016-January",
          "2016-July",
          "2016-June",
          "2016-March",
          "2016-May",
          "2016-November",
          "2016-October",
          "2016-September",
          "2017-April",
          "2017-August",
          "2017-December",
          "2017-February",
          "2017-January",
          "2017-July",
          "2017-June",
          "2017-March",
          "2017-May",
          "2017-November",
          "2017-October",
          "2017-September"
         ],
         "xaxis": "x",
         "y": [
          88,
          86,
          79,
          78,
          70,
          85,
          68,
          87,
          85,
          77,
          89,
          90,
          74,
          79,
          73,
          79,
          84,
          75,
          89,
          87,
          80,
          82,
          73,
          70,
          63,
          16,
          18,
          68,
          73,
          67,
          62,
          69,
          54,
          14,
          19,
          20
         ],
         "yaxis": "y"
        }
       ],
       "layout": {
        "legend": {
         "tracegroupgap": 0
        },
        "template": {
         "data": {
          "bar": [
           {
            "error_x": {
             "color": "#2a3f5f"
            },
            "error_y": {
             "color": "#2a3f5f"
            },
            "marker": {
             "line": {
              "color": "#E5ECF6",
              "width": 0.5
             },
             "pattern": {
              "fillmode": "overlay",
              "size": 10,
              "solidity": 0.2
             }
            },
            "type": "bar"
           }
          ],
          "barpolar": [
           {
            "marker": {
             "line": {
              "color": "#E5ECF6",
              "width": 0.5
             },
             "pattern": {
              "fillmode": "overlay",
              "size": 10,
              "solidity": 0.2
             }
            },
            "type": "barpolar"
           }
          ],
          "carpet": [
           {
            "aaxis": {
             "endlinecolor": "#2a3f5f",
             "gridcolor": "white",
             "linecolor": "white",
             "minorgridcolor": "white",
             "startlinecolor": "#2a3f5f"
            },
            "baxis": {
             "endlinecolor": "#2a3f5f",
             "gridcolor": "white",
             "linecolor": "white",
             "minorgridcolor": "white",
             "startlinecolor": "#2a3f5f"
            },
            "type": "carpet"
           }
          ],
          "choropleth": [
           {
            "colorbar": {
             "outlinewidth": 0,
             "ticks": ""
            },
            "type": "choropleth"
           }
          ],
          "contour": [
           {
            "colorbar": {
             "outlinewidth": 0,
             "ticks": ""
            },
            "colorscale": [
             [
              0,
              "#0d0887"
             ],
             [
              0.1111111111111111,
              "#46039f"
             ],
             [
              0.2222222222222222,
              "#7201a8"
             ],
             [
              0.3333333333333333,
              "#9c179e"
             ],
             [
              0.4444444444444444,
              "#bd3786"
             ],
             [
              0.5555555555555556,
              "#d8576b"
             ],
             [
              0.6666666666666666,
              "#ed7953"
             ],
             [
              0.7777777777777778,
              "#fb9f3a"
             ],
             [
              0.8888888888888888,
              "#fdca26"
             ],
             [
              1,
              "#f0f921"
             ]
            ],
            "type": "contour"
           }
          ],
          "contourcarpet": [
           {
            "colorbar": {
             "outlinewidth": 0,
             "ticks": ""
            },
            "type": "contourcarpet"
           }
          ],
          "heatmap": [
           {
            "colorbar": {
             "outlinewidth": 0,
             "ticks": ""
            },
            "colorscale": [
             [
              0,
              "#0d0887"
             ],
             [
              0.1111111111111111,
              "#46039f"
             ],
             [
              0.2222222222222222,
              "#7201a8"
             ],
             [
              0.3333333333333333,
              "#9c179e"
             ],
             [
              0.4444444444444444,
              "#bd3786"
             ],
             [
              0.5555555555555556,
              "#d8576b"
             ],
             [
              0.6666666666666666,
              "#ed7953"
             ],
             [
              0.7777777777777778,
              "#fb9f3a"
             ],
             [
              0.8888888888888888,
              "#fdca26"
             ],
             [
              1,
              "#f0f921"
             ]
            ],
            "type": "heatmap"
           }
          ],
          "heatmapgl": [
           {
            "colorbar": {
             "outlinewidth": 0,
             "ticks": ""
            },
            "colorscale": [
             [
              0,
              "#0d0887"
             ],
             [
              0.1111111111111111,
              "#46039f"
             ],
             [
              0.2222222222222222,
              "#7201a8"
             ],
             [
              0.3333333333333333,
              "#9c179e"
             ],
             [
              0.4444444444444444,
              "#bd3786"
             ],
             [
              0.5555555555555556,
              "#d8576b"
             ],
             [
              0.6666666666666666,
              "#ed7953"
             ],
             [
              0.7777777777777778,
              "#fb9f3a"
             ],
             [
              0.8888888888888888,
              "#fdca26"
             ],
             [
              1,
              "#f0f921"
             ]
            ],
            "type": "heatmapgl"
           }
          ],
          "histogram": [
           {
            "marker": {
             "pattern": {
              "fillmode": "overlay",
              "size": 10,
              "solidity": 0.2
             }
            },
            "type": "histogram"
           }
          ],
          "histogram2d": [
           {
            "colorbar": {
             "outlinewidth": 0,
             "ticks": ""
            },
            "colorscale": [
             [
              0,
              "#0d0887"
             ],
             [
              0.1111111111111111,
              "#46039f"
             ],
             [
              0.2222222222222222,
              "#7201a8"
             ],
             [
              0.3333333333333333,
              "#9c179e"
             ],
             [
              0.4444444444444444,
              "#bd3786"
             ],
             [
              0.5555555555555556,
              "#d8576b"
             ],
             [
              0.6666666666666666,
              "#ed7953"
             ],
             [
              0.7777777777777778,
              "#fb9f3a"
             ],
             [
              0.8888888888888888,
              "#fdca26"
             ],
             [
              1,
              "#f0f921"
             ]
            ],
            "type": "histogram2d"
           }
          ],
          "histogram2dcontour": [
           {
            "colorbar": {
             "outlinewidth": 0,
             "ticks": ""
            },
            "colorscale": [
             [
              0,
              "#0d0887"
             ],
             [
              0.1111111111111111,
              "#46039f"
             ],
             [
              0.2222222222222222,
              "#7201a8"
             ],
             [
              0.3333333333333333,
              "#9c179e"
             ],
             [
              0.4444444444444444,
              "#bd3786"
             ],
             [
              0.5555555555555556,
              "#d8576b"
             ],
             [
              0.6666666666666666,
              "#ed7953"
             ],
             [
              0.7777777777777778,
              "#fb9f3a"
             ],
             [
              0.8888888888888888,
              "#fdca26"
             ],
             [
              1,
              "#f0f921"
             ]
            ],
            "type": "histogram2dcontour"
           }
          ],
          "mesh3d": [
           {
            "colorbar": {
             "outlinewidth": 0,
             "ticks": ""
            },
            "type": "mesh3d"
           }
          ],
          "parcoords": [
           {
            "line": {
             "colorbar": {
              "outlinewidth": 0,
              "ticks": ""
             }
            },
            "type": "parcoords"
           }
          ],
          "pie": [
           {
            "automargin": true,
            "type": "pie"
           }
          ],
          "scatter": [
           {
            "fillpattern": {
             "fillmode": "overlay",
             "size": 10,
             "solidity": 0.2
            },
            "type": "scatter"
           }
          ],
          "scatter3d": [
           {
            "line": {
             "colorbar": {
              "outlinewidth": 0,
              "ticks": ""
             }
            },
            "marker": {
             "colorbar": {
              "outlinewidth": 0,
              "ticks": ""
             }
            },
            "type": "scatter3d"
           }
          ],
          "scattercarpet": [
           {
            "marker": {
             "colorbar": {
              "outlinewidth": 0,
              "ticks": ""
             }
            },
            "type": "scattercarpet"
           }
          ],
          "scattergeo": [
           {
            "marker": {
             "colorbar": {
              "outlinewidth": 0,
              "ticks": ""
             }
            },
            "type": "scattergeo"
           }
          ],
          "scattergl": [
           {
            "marker": {
             "colorbar": {
              "outlinewidth": 0,
              "ticks": ""
             }
            },
            "type": "scattergl"
           }
          ],
          "scattermapbox": [
           {
            "marker": {
             "colorbar": {
              "outlinewidth": 0,
              "ticks": ""
             }
            },
            "type": "scattermapbox"
           }
          ],
          "scatterpolar": [
           {
            "marker": {
             "colorbar": {
              "outlinewidth": 0,
              "ticks": ""
             }
            },
            "type": "scatterpolar"
           }
          ],
          "scatterpolargl": [
           {
            "marker": {
             "colorbar": {
              "outlinewidth": 0,
              "ticks": ""
             }
            },
            "type": "scatterpolargl"
           }
          ],
          "scatterternary": [
           {
            "marker": {
             "colorbar": {
              "outlinewidth": 0,
              "ticks": ""
             }
            },
            "type": "scatterternary"
           }
          ],
          "surface": [
           {
            "colorbar": {
             "outlinewidth": 0,
             "ticks": ""
            },
            "colorscale": [
             [
              0,
              "#0d0887"
             ],
             [
              0.1111111111111111,
              "#46039f"
             ],
             [
              0.2222222222222222,
              "#7201a8"
             ],
             [
              0.3333333333333333,
              "#9c179e"
             ],
             [
              0.4444444444444444,
              "#bd3786"
             ],
             [
              0.5555555555555556,
              "#d8576b"
             ],
             [
              0.6666666666666666,
              "#ed7953"
             ],
             [
              0.7777777777777778,
              "#fb9f3a"
             ],
             [
              0.8888888888888888,
              "#fdca26"
             ],
             [
              1,
              "#f0f921"
             ]
            ],
            "type": "surface"
           }
          ],
          "table": [
           {
            "cells": {
             "fill": {
              "color": "#EBF0F8"
             },
             "line": {
              "color": "white"
             }
            },
            "header": {
             "fill": {
              "color": "#C8D4E3"
             },
             "line": {
              "color": "white"
             }
            },
            "type": "table"
           }
          ]
         },
         "layout": {
          "annotationdefaults": {
           "arrowcolor": "#2a3f5f",
           "arrowhead": 0,
           "arrowwidth": 1
          },
          "autotypenumbers": "strict",
          "coloraxis": {
           "colorbar": {
            "outlinewidth": 0,
            "ticks": ""
           }
          },
          "colorscale": {
           "diverging": [
            [
             0,
             "#8e0152"
            ],
            [
             0.1,
             "#c51b7d"
            ],
            [
             0.2,
             "#de77ae"
            ],
            [
             0.3,
             "#f1b6da"
            ],
            [
             0.4,
             "#fde0ef"
            ],
            [
             0.5,
             "#f7f7f7"
            ],
            [
             0.6,
             "#e6f5d0"
            ],
            [
             0.7,
             "#b8e186"
            ],
            [
             0.8,
             "#7fbc41"
            ],
            [
             0.9,
             "#4d9221"
            ],
            [
             1,
             "#276419"
            ]
           ],
           "sequential": [
            [
             0,
             "#0d0887"
            ],
            [
             0.1111111111111111,
             "#46039f"
            ],
            [
             0.2222222222222222,
             "#7201a8"
            ],
            [
             0.3333333333333333,
             "#9c179e"
            ],
            [
             0.4444444444444444,
             "#bd3786"
            ],
            [
             0.5555555555555556,
             "#d8576b"
            ],
            [
             0.6666666666666666,
             "#ed7953"
            ],
            [
             0.7777777777777778,
             "#fb9f3a"
            ],
            [
             0.8888888888888888,
             "#fdca26"
            ],
            [
             1,
             "#f0f921"
            ]
           ],
           "sequentialminus": [
            [
             0,
             "#0d0887"
            ],
            [
             0.1111111111111111,
             "#46039f"
            ],
            [
             0.2222222222222222,
             "#7201a8"
            ],
            [
             0.3333333333333333,
             "#9c179e"
            ],
            [
             0.4444444444444444,
             "#bd3786"
            ],
            [
             0.5555555555555556,
             "#d8576b"
            ],
            [
             0.6666666666666666,
             "#ed7953"
            ],
            [
             0.7777777777777778,
             "#fb9f3a"
            ],
            [
             0.8888888888888888,
             "#fdca26"
            ],
            [
             1,
             "#f0f921"
            ]
           ]
          },
          "colorway": [
           "#636efa",
           "#EF553B",
           "#00cc96",
           "#ab63fa",
           "#FFA15A",
           "#19d3f3",
           "#FF6692",
           "#B6E880",
           "#FF97FF",
           "#FECB52"
          ],
          "font": {
           "color": "#2a3f5f"
          },
          "geo": {
           "bgcolor": "white",
           "lakecolor": "white",
           "landcolor": "#E5ECF6",
           "showlakes": true,
           "showland": true,
           "subunitcolor": "white"
          },
          "hoverlabel": {
           "align": "left"
          },
          "hovermode": "closest",
          "mapbox": {
           "style": "light"
          },
          "paper_bgcolor": "white",
          "plot_bgcolor": "#E5ECF6",
          "polar": {
           "angularaxis": {
            "gridcolor": "white",
            "linecolor": "white",
            "ticks": ""
           },
           "bgcolor": "#E5ECF6",
           "radialaxis": {
            "gridcolor": "white",
            "linecolor": "white",
            "ticks": ""
           }
          },
          "scene": {
           "xaxis": {
            "backgroundcolor": "#E5ECF6",
            "gridcolor": "white",
            "gridwidth": 2,
            "linecolor": "white",
            "showbackground": true,
            "ticks": "",
            "zerolinecolor": "white"
           },
           "yaxis": {
            "backgroundcolor": "#E5ECF6",
            "gridcolor": "white",
            "gridwidth": 2,
            "linecolor": "white",
            "showbackground": true,
            "ticks": "",
            "zerolinecolor": "white"
           },
           "zaxis": {
            "backgroundcolor": "#E5ECF6",
            "gridcolor": "white",
            "gridwidth": 2,
            "linecolor": "white",
            "showbackground": true,
            "ticks": "",
            "zerolinecolor": "white"
           }
          },
          "shapedefaults": {
           "line": {
            "color": "#2a3f5f"
           }
          },
          "ternary": {
           "aaxis": {
            "gridcolor": "white",
            "linecolor": "white",
            "ticks": ""
           },
           "baxis": {
            "gridcolor": "white",
            "linecolor": "white",
            "ticks": ""
           },
           "bgcolor": "#E5ECF6",
           "caxis": {
            "gridcolor": "white",
            "linecolor": "white",
            "ticks": ""
           }
          },
          "title": {
           "x": 0.05
          },
          "xaxis": {
           "automargin": true,
           "gridcolor": "white",
           "linecolor": "white",
           "ticks": "",
           "title": {
            "standoff": 15
           },
           "zerolinecolor": "white",
           "zerolinewidth": 2
          },
          "yaxis": {
           "automargin": true,
           "gridcolor": "white",
           "linecolor": "white",
           "ticks": "",
           "title": {
            "standoff": 15
           },
           "zerolinecolor": "white",
           "zerolinewidth": 2
          }
         }
        },
        "title": {
         "text": "Number of Police Killings Over Time"
        },
        "xaxis": {
         "anchor": "y",
         "domain": [
          0,
          1
         ],
         "title": {
          "text": "date"
         }
        },
        "yaxis": {
         "anchor": "x",
         "domain": [
          0,
          1
         ],
         "title": {
          "text": "flee"
         }
        }
       }
      },
      "text/html": [
       "<div>                            <div id=\"a7a1b83c-1a20-4667-b776-a24ca0e132f2\" class=\"plotly-graph-div\" style=\"height:525px; width:100%;\"></div>            <script type=\"text/javascript\">                require([\"plotly\"], function(Plotly) {                    window.PLOTLYENV=window.PLOTLYENV || {};                                    if (document.getElementById(\"a7a1b83c-1a20-4667-b776-a24ca0e132f2\")) {                    Plotly.newPlot(                        \"a7a1b83c-1a20-4667-b776-a24ca0e132f2\",                        [{\"hovertemplate\":\"date=%{x}\\u003cbr\\u003eflee=%{y}\\u003cextra\\u003e\\u003c\\u002fextra\\u003e\",\"legendgroup\":\"\",\"line\":{\"color\":\"#636efa\",\"dash\":\"solid\"},\"marker\":{\"symbol\":\"circle\"},\"mode\":\"lines\",\"name\":\"\",\"orientation\":\"v\",\"showlegend\":false,\"x\":[\"2015-April\",\"2015-August\",\"2015-December\",\"2015-February\",\"2015-January\",\"2015-July\",\"2015-June\",\"2015-March\",\"2015-May\",\"2015-November\",\"2015-October\",\"2015-September\",\"2016-April\",\"2016-August\",\"2016-December\",\"2016-February\",\"2016-January\",\"2016-July\",\"2016-June\",\"2016-March\",\"2016-May\",\"2016-November\",\"2016-October\",\"2016-September\",\"2017-April\",\"2017-August\",\"2017-December\",\"2017-February\",\"2017-January\",\"2017-July\",\"2017-June\",\"2017-March\",\"2017-May\",\"2017-November\",\"2017-October\",\"2017-September\"],\"xaxis\":\"x\",\"y\":[88,86,79,78,70,85,68,87,85,77,89,90,74,79,73,79,84,75,89,87,80,82,73,70,63,16,18,68,73,67,62,69,54,14,19,20],\"yaxis\":\"y\",\"type\":\"scatter\"}],                        {\"template\":{\"data\":{\"histogram2dcontour\":[{\"type\":\"histogram2dcontour\",\"colorbar\":{\"outlinewidth\":0,\"ticks\":\"\"},\"colorscale\":[[0.0,\"#0d0887\"],[0.1111111111111111,\"#46039f\"],[0.2222222222222222,\"#7201a8\"],[0.3333333333333333,\"#9c179e\"],[0.4444444444444444,\"#bd3786\"],[0.5555555555555556,\"#d8576b\"],[0.6666666666666666,\"#ed7953\"],[0.7777777777777778,\"#fb9f3a\"],[0.8888888888888888,\"#fdca26\"],[1.0,\"#f0f921\"]]}],\"choropleth\":[{\"type\":\"choropleth\",\"colorbar\":{\"outlinewidth\":0,\"ticks\":\"\"}}],\"histogram2d\":[{\"type\":\"histogram2d\",\"colorbar\":{\"outlinewidth\":0,\"ticks\":\"\"},\"colorscale\":[[0.0,\"#0d0887\"],[0.1111111111111111,\"#46039f\"],[0.2222222222222222,\"#7201a8\"],[0.3333333333333333,\"#9c179e\"],[0.4444444444444444,\"#bd3786\"],[0.5555555555555556,\"#d8576b\"],[0.6666666666666666,\"#ed7953\"],[0.7777777777777778,\"#fb9f3a\"],[0.8888888888888888,\"#fdca26\"],[1.0,\"#f0f921\"]]}],\"heatmap\":[{\"type\":\"heatmap\",\"colorbar\":{\"outlinewidth\":0,\"ticks\":\"\"},\"colorscale\":[[0.0,\"#0d0887\"],[0.1111111111111111,\"#46039f\"],[0.2222222222222222,\"#7201a8\"],[0.3333333333333333,\"#9c179e\"],[0.4444444444444444,\"#bd3786\"],[0.5555555555555556,\"#d8576b\"],[0.6666666666666666,\"#ed7953\"],[0.7777777777777778,\"#fb9f3a\"],[0.8888888888888888,\"#fdca26\"],[1.0,\"#f0f921\"]]}],\"heatmapgl\":[{\"type\":\"heatmapgl\",\"colorbar\":{\"outlinewidth\":0,\"ticks\":\"\"},\"colorscale\":[[0.0,\"#0d0887\"],[0.1111111111111111,\"#46039f\"],[0.2222222222222222,\"#7201a8\"],[0.3333333333333333,\"#9c179e\"],[0.4444444444444444,\"#bd3786\"],[0.5555555555555556,\"#d8576b\"],[0.6666666666666666,\"#ed7953\"],[0.7777777777777778,\"#fb9f3a\"],[0.8888888888888888,\"#fdca26\"],[1.0,\"#f0f921\"]]}],\"contourcarpet\":[{\"type\":\"contourcarpet\",\"colorbar\":{\"outlinewidth\":0,\"ticks\":\"\"}}],\"contour\":[{\"type\":\"contour\",\"colorbar\":{\"outlinewidth\":0,\"ticks\":\"\"},\"colorscale\":[[0.0,\"#0d0887\"],[0.1111111111111111,\"#46039f\"],[0.2222222222222222,\"#7201a8\"],[0.3333333333333333,\"#9c179e\"],[0.4444444444444444,\"#bd3786\"],[0.5555555555555556,\"#d8576b\"],[0.6666666666666666,\"#ed7953\"],[0.7777777777777778,\"#fb9f3a\"],[0.8888888888888888,\"#fdca26\"],[1.0,\"#f0f921\"]]}],\"surface\":[{\"type\":\"surface\",\"colorbar\":{\"outlinewidth\":0,\"ticks\":\"\"},\"colorscale\":[[0.0,\"#0d0887\"],[0.1111111111111111,\"#46039f\"],[0.2222222222222222,\"#7201a8\"],[0.3333333333333333,\"#9c179e\"],[0.4444444444444444,\"#bd3786\"],[0.5555555555555556,\"#d8576b\"],[0.6666666666666666,\"#ed7953\"],[0.7777777777777778,\"#fb9f3a\"],[0.8888888888888888,\"#fdca26\"],[1.0,\"#f0f921\"]]}],\"mesh3d\":[{\"type\":\"mesh3d\",\"colorbar\":{\"outlinewidth\":0,\"ticks\":\"\"}}],\"scatter\":[{\"fillpattern\":{\"fillmode\":\"overlay\",\"size\":10,\"solidity\":0.2},\"type\":\"scatter\"}],\"parcoords\":[{\"type\":\"parcoords\",\"line\":{\"colorbar\":{\"outlinewidth\":0,\"ticks\":\"\"}}}],\"scatterpolargl\":[{\"type\":\"scatterpolargl\",\"marker\":{\"colorbar\":{\"outlinewidth\":0,\"ticks\":\"\"}}}],\"bar\":[{\"error_x\":{\"color\":\"#2a3f5f\"},\"error_y\":{\"color\":\"#2a3f5f\"},\"marker\":{\"line\":{\"color\":\"#E5ECF6\",\"width\":0.5},\"pattern\":{\"fillmode\":\"overlay\",\"size\":10,\"solidity\":0.2}},\"type\":\"bar\"}],\"scattergeo\":[{\"type\":\"scattergeo\",\"marker\":{\"colorbar\":{\"outlinewidth\":0,\"ticks\":\"\"}}}],\"scatterpolar\":[{\"type\":\"scatterpolar\",\"marker\":{\"colorbar\":{\"outlinewidth\":0,\"ticks\":\"\"}}}],\"histogram\":[{\"marker\":{\"pattern\":{\"fillmode\":\"overlay\",\"size\":10,\"solidity\":0.2}},\"type\":\"histogram\"}],\"scattergl\":[{\"type\":\"scattergl\",\"marker\":{\"colorbar\":{\"outlinewidth\":0,\"ticks\":\"\"}}}],\"scatter3d\":[{\"type\":\"scatter3d\",\"line\":{\"colorbar\":{\"outlinewidth\":0,\"ticks\":\"\"}},\"marker\":{\"colorbar\":{\"outlinewidth\":0,\"ticks\":\"\"}}}],\"scattermapbox\":[{\"type\":\"scattermapbox\",\"marker\":{\"colorbar\":{\"outlinewidth\":0,\"ticks\":\"\"}}}],\"scatterternary\":[{\"type\":\"scatterternary\",\"marker\":{\"colorbar\":{\"outlinewidth\":0,\"ticks\":\"\"}}}],\"scattercarpet\":[{\"type\":\"scattercarpet\",\"marker\":{\"colorbar\":{\"outlinewidth\":0,\"ticks\":\"\"}}}],\"carpet\":[{\"aaxis\":{\"endlinecolor\":\"#2a3f5f\",\"gridcolor\":\"white\",\"linecolor\":\"white\",\"minorgridcolor\":\"white\",\"startlinecolor\":\"#2a3f5f\"},\"baxis\":{\"endlinecolor\":\"#2a3f5f\",\"gridcolor\":\"white\",\"linecolor\":\"white\",\"minorgridcolor\":\"white\",\"startlinecolor\":\"#2a3f5f\"},\"type\":\"carpet\"}],\"table\":[{\"cells\":{\"fill\":{\"color\":\"#EBF0F8\"},\"line\":{\"color\":\"white\"}},\"header\":{\"fill\":{\"color\":\"#C8D4E3\"},\"line\":{\"color\":\"white\"}},\"type\":\"table\"}],\"barpolar\":[{\"marker\":{\"line\":{\"color\":\"#E5ECF6\",\"width\":0.5},\"pattern\":{\"fillmode\":\"overlay\",\"size\":10,\"solidity\":0.2}},\"type\":\"barpolar\"}],\"pie\":[{\"automargin\":true,\"type\":\"pie\"}]},\"layout\":{\"autotypenumbers\":\"strict\",\"colorway\":[\"#636efa\",\"#EF553B\",\"#00cc96\",\"#ab63fa\",\"#FFA15A\",\"#19d3f3\",\"#FF6692\",\"#B6E880\",\"#FF97FF\",\"#FECB52\"],\"font\":{\"color\":\"#2a3f5f\"},\"hovermode\":\"closest\",\"hoverlabel\":{\"align\":\"left\"},\"paper_bgcolor\":\"white\",\"plot_bgcolor\":\"#E5ECF6\",\"polar\":{\"bgcolor\":\"#E5ECF6\",\"angularaxis\":{\"gridcolor\":\"white\",\"linecolor\":\"white\",\"ticks\":\"\"},\"radialaxis\":{\"gridcolor\":\"white\",\"linecolor\":\"white\",\"ticks\":\"\"}},\"ternary\":{\"bgcolor\":\"#E5ECF6\",\"aaxis\":{\"gridcolor\":\"white\",\"linecolor\":\"white\",\"ticks\":\"\"},\"baxis\":{\"gridcolor\":\"white\",\"linecolor\":\"white\",\"ticks\":\"\"},\"caxis\":{\"gridcolor\":\"white\",\"linecolor\":\"white\",\"ticks\":\"\"}},\"coloraxis\":{\"colorbar\":{\"outlinewidth\":0,\"ticks\":\"\"}},\"colorscale\":{\"sequential\":[[0.0,\"#0d0887\"],[0.1111111111111111,\"#46039f\"],[0.2222222222222222,\"#7201a8\"],[0.3333333333333333,\"#9c179e\"],[0.4444444444444444,\"#bd3786\"],[0.5555555555555556,\"#d8576b\"],[0.6666666666666666,\"#ed7953\"],[0.7777777777777778,\"#fb9f3a\"],[0.8888888888888888,\"#fdca26\"],[1.0,\"#f0f921\"]],\"sequentialminus\":[[0.0,\"#0d0887\"],[0.1111111111111111,\"#46039f\"],[0.2222222222222222,\"#7201a8\"],[0.3333333333333333,\"#9c179e\"],[0.4444444444444444,\"#bd3786\"],[0.5555555555555556,\"#d8576b\"],[0.6666666666666666,\"#ed7953\"],[0.7777777777777778,\"#fb9f3a\"],[0.8888888888888888,\"#fdca26\"],[1.0,\"#f0f921\"]],\"diverging\":[[0,\"#8e0152\"],[0.1,\"#c51b7d\"],[0.2,\"#de77ae\"],[0.3,\"#f1b6da\"],[0.4,\"#fde0ef\"],[0.5,\"#f7f7f7\"],[0.6,\"#e6f5d0\"],[0.7,\"#b8e186\"],[0.8,\"#7fbc41\"],[0.9,\"#4d9221\"],[1,\"#276419\"]]},\"xaxis\":{\"gridcolor\":\"white\",\"linecolor\":\"white\",\"ticks\":\"\",\"title\":{\"standoff\":15},\"zerolinecolor\":\"white\",\"automargin\":true,\"zerolinewidth\":2},\"yaxis\":{\"gridcolor\":\"white\",\"linecolor\":\"white\",\"ticks\":\"\",\"title\":{\"standoff\":15},\"zerolinecolor\":\"white\",\"automargin\":true,\"zerolinewidth\":2},\"scene\":{\"xaxis\":{\"backgroundcolor\":\"#E5ECF6\",\"gridcolor\":\"white\",\"linecolor\":\"white\",\"showbackground\":true,\"ticks\":\"\",\"zerolinecolor\":\"white\",\"gridwidth\":2},\"yaxis\":{\"backgroundcolor\":\"#E5ECF6\",\"gridcolor\":\"white\",\"linecolor\":\"white\",\"showbackground\":true,\"ticks\":\"\",\"zerolinecolor\":\"white\",\"gridwidth\":2},\"zaxis\":{\"backgroundcolor\":\"#E5ECF6\",\"gridcolor\":\"white\",\"linecolor\":\"white\",\"showbackground\":true,\"ticks\":\"\",\"zerolinecolor\":\"white\",\"gridwidth\":2}},\"shapedefaults\":{\"line\":{\"color\":\"#2a3f5f\"}},\"annotationdefaults\":{\"arrowcolor\":\"#2a3f5f\",\"arrowhead\":0,\"arrowwidth\":1},\"geo\":{\"bgcolor\":\"white\",\"landcolor\":\"#E5ECF6\",\"subunitcolor\":\"white\",\"showland\":true,\"showlakes\":true,\"lakecolor\":\"white\"},\"title\":{\"x\":0.05},\"mapbox\":{\"style\":\"light\"}}},\"xaxis\":{\"anchor\":\"y\",\"domain\":[0.0,1.0],\"title\":{\"text\":\"date\"}},\"yaxis\":{\"anchor\":\"x\",\"domain\":[0.0,1.0],\"title\":{\"text\":\"flee\"}},\"legend\":{\"tracegroupgap\":0},\"title\":{\"text\":\"Number of Police Killings Over Time\"}},                        {\"responsive\": true}                    ).then(function(){\n",
       "                            \n",
       "var gd = document.getElementById('a7a1b83c-1a20-4667-b776-a24ca0e132f2');\n",
       "var x = new MutationObserver(function (mutations, observer) {{\n",
       "        var display = window.getComputedStyle(gd).display;\n",
       "        if (!display || display === 'none') {{\n",
       "            console.log([gd, 'removed!']);\n",
       "            Plotly.purge(gd);\n",
       "            observer.disconnect();\n",
       "        }}\n",
       "}});\n",
       "\n",
       "// Listen for the removal of the full notebook cells\n",
       "var notebookContainer = gd.closest('#notebook-container');\n",
       "if (notebookContainer) {{\n",
       "    x.observe(notebookContainer, {childList: true});\n",
       "}}\n",
       "\n",
       "// Listen for the clearing of the current output cell\n",
       "var outputEl = gd.closest('.output');\n",
       "if (outputEl) {{\n",
       "    x.observe(outputEl, {childList: true});\n",
       "}}\n",
       "\n",
       "                        })                };                });            </script>        </div>"
      ]
     },
     "metadata": {},
     "output_type": "display_data"
    }
   ],
   "source": [
    "fig = px.line(df, x=\"date\", y='flee', title='Number of Police Killings Over Time')\n",
    "fig.show()"
   ]
  },
  {
   "cell_type": "code",
   "execution_count": null,
   "metadata": {},
   "outputs": [],
   "source": []
  }
 ],
 "metadata": {
  "colab": {
   "name": "Fatal Force (start).ipynb",
   "provenance": []
  },
  "kernelspec": {
   "display_name": "Python 3 (ipykernel)",
   "language": "python",
   "name": "python3"
  },
  "language_info": {
   "codemirror_mode": {
    "name": "ipython",
    "version": 3
   },
   "file_extension": ".py",
   "mimetype": "text/x-python",
   "name": "python",
   "nbconvert_exporter": "python",
   "pygments_lexer": "ipython3",
   "version": "3.9.13"
  }
 },
 "nbformat": 4,
 "nbformat_minor": 1
}
